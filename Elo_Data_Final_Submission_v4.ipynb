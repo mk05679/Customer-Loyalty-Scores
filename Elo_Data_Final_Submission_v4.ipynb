{
  "cells": [
    {
      "cell_type": "code",
      "execution_count": null,
      "metadata": {
        "colab": {
          "base_uri": "https://localhost:8080/"
        },
        "id": "MhFW-Hu6c8SA",
        "outputId": "ec6db636-c163-4671-927b-a31b8abc4838"
      },
      "outputs": [
        {
          "output_type": "stream",
          "name": "stdout",
          "text": [
            "Looking in indexes: https://pypi.org/simple, https://us-python.pkg.dev/colab-wheels/public/simple/\n",
            "Requirement already satisfied: kaggle in /usr/local/lib/python3.7/dist-packages (1.5.12)\n",
            "Requirement already satisfied: certifi in /usr/local/lib/python3.7/dist-packages (from kaggle) (2022.6.15)\n",
            "Requirement already satisfied: requests in /usr/local/lib/python3.7/dist-packages (from kaggle) (2.23.0)\n",
            "Requirement already satisfied: urllib3 in /usr/local/lib/python3.7/dist-packages (from kaggle) (1.24.3)\n",
            "Requirement already satisfied: python-dateutil in /usr/local/lib/python3.7/dist-packages (from kaggle) (2.8.2)\n",
            "Requirement already satisfied: six>=1.10 in /usr/local/lib/python3.7/dist-packages (from kaggle) (1.15.0)\n",
            "Requirement already satisfied: tqdm in /usr/local/lib/python3.7/dist-packages (from kaggle) (4.64.1)\n",
            "Requirement already satisfied: python-slugify in /usr/local/lib/python3.7/dist-packages (from kaggle) (6.1.2)\n",
            "Requirement already satisfied: text-unidecode>=1.3 in /usr/local/lib/python3.7/dist-packages (from python-slugify->kaggle) (1.3)\n",
            "Requirement already satisfied: chardet<4,>=3.0.2 in /usr/local/lib/python3.7/dist-packages (from requests->kaggle) (3.0.4)\n",
            "Requirement already satisfied: idna<3,>=2.5 in /usr/local/lib/python3.7/dist-packages (from requests->kaggle) (2.10)\n"
          ]
        }
      ],
      "source": [
        "!pip install kaggle"
      ]
    },
    {
      "cell_type": "code",
      "execution_count": null,
      "metadata": {
        "id": "7WvwbSmffQzm"
      },
      "outputs": [],
      "source": [
        "!mkdir ~/.kaggle"
      ]
    },
    {
      "cell_type": "code",
      "execution_count": null,
      "metadata": {
        "id": "oo1LRUnNgPCG"
      },
      "outputs": [],
      "source": [
        "!cp kaggle.json ~/.kaggle/"
      ]
    },
    {
      "cell_type": "code",
      "execution_count": null,
      "metadata": {
        "colab": {
          "base_uri": "https://localhost:8080/"
        },
        "id": "yTSQAsMvfqzg",
        "outputId": "16f82c8a-9cdc-40f4-cca0-f9150fe9ac8a"
      },
      "outputs": [
        {
          "output_type": "stream",
          "name": "stdout",
          "text": [
            "Warning: Your Kaggle API key is readable by other users on this system! To fix this, you can run 'chmod 600 /root/.kaggle/kaggle.json'\n",
            "Downloading elo-merchant-category-recommendation.zip to /content\n",
            " 97% 597M/615M [00:04<00:00, 216MB/s]\n",
            "100% 615M/615M [00:04<00:00, 156MB/s]\n"
          ]
        }
      ],
      "source": [
        "!kaggle competitions download -c elo-merchant-category-recommendation"
      ]
    },
    {
      "cell_type": "code",
      "execution_count": null,
      "metadata": {
        "colab": {
          "base_uri": "https://localhost:8080/"
        },
        "id": "f6zRnalWfwY3",
        "outputId": "087f9658-25e8-4bcc-e490-bb9efe9fef71"
      },
      "outputs": [
        {
          "output_type": "stream",
          "name": "stdout",
          "text": [
            "Archive:  elo-merchant-category-recommendation.zip\n",
            "  inflating: Data Dictionary.xlsx    \n",
            "  inflating: Data_Dictionary.xlsx    \n",
            "  inflating: historical_transactions.csv  \n",
            "  inflating: merchants.csv           \n",
            "  inflating: new_merchant_transactions.csv  \n",
            "  inflating: sample_submission.csv   \n",
            "  inflating: test.csv                \n",
            "  inflating: train.csv               \n"
          ]
        }
      ],
      "source": [
        "! unzip elo-merchant-category-recommendation"
      ]
    },
    {
      "cell_type": "markdown",
      "metadata": {
        "id": "sb7rPShIm9D3"
      },
      "source": [
        "###**1. Importing Libraries**"
      ]
    },
    {
      "cell_type": "code",
      "execution_count": 3,
      "metadata": {
        "id": "uzvYLQ-xkVG-"
      },
      "outputs": [],
      "source": [
        "import pandas as pd\n",
        "import numpy as np\n",
        "import seaborn as sns\n",
        "import matplotlib.pyplot as plt\n",
        "from scipy.stats import chi2_contingency,chisquare\n",
        "from pandas.plotting import scatter_matrix\n",
        "import plotly.graph_objs as go\n",
        "import plotly.offline as py\n",
        "from datetime import datetime, date\n",
        "import gc\n",
        "import warnings\n",
        "warnings.filterwarnings('ignore')\n",
        "from sklearn.linear_model import LogisticRegression, Ridge\n",
        "import pickle\n",
        "import prettytable\n",
        "from functools import reduce\n",
        "from sklearn.model_selection import train_test_split\n",
        "from sklearn.metrics import make_scorer\n",
        "from sklearn.model_selection import KFold, StratifiedKFold\n",
        "from sklearn.metrics import mean_squared_error\n",
        "import os\n",
        "from tqdm import tqdm\n",
        "from sklearn.preprocessing import LabelEncoder\n",
        "from collections import Counter\n",
        "import datetime\n",
        "import datetime as dt\n",
        "from datetime import datetime\n",
        "# metrics\n",
        "from sklearn.metrics import mean_squared_log_error,mean_squared_error, r2_score,mean_absolute_error\n",
        "import lightgbm as lgb\n",
        "#Folds\n",
        "from sklearn.model_selection import StratifiedKFold, RepeatedKFold\n",
        "from bayes_opt import BayesianOptimization\n",
        "#cross_validations\n",
        "from sklearn.model_selection import KFold #for K-fold cross validation\n",
        "from sklearn.model_selection import cross_val_score #score evaluation\n",
        "from sklearn.model_selection import cross_val_predict #prediction\n",
        "from sklearn.model_selection import cross_validate\n",
        "#Modules for processors\n",
        "from sklearn.preprocessing import OneHotEncoder, LabelEncoder\n",
        "from sklearn import feature_selection\n",
        "from sklearn import model_selection\n",
        "from sklearn import metrics\n",
        "from sklearn.base import BaseEstimator, TransformerMixin"
      ]
    },
    {
      "cell_type": "markdown",
      "metadata": {
        "id": "Ko3H1hvQm449"
      },
      "source": [
        "###**2.Loading Datasets**"
      ]
    },
    {
      "cell_type": "code",
      "execution_count": 4,
      "metadata": {
        "id": "8vNahiSDJ28A"
      },
      "outputs": [],
      "source": [
        "def reduce_mem_usage(data_frame,verbose=True):\n",
        "  numerals=['int16','int32','int64','float16','float32','float64']# Here we define the datatypes numerals.\n",
        "  initial_memory_usage=data_frame.memory_usage().sum()/ 1024**2# here we first calculate the memory usage by each feature and then sum up all the memory usage of all features in dataframe. Then we divide it by 2 power 12. So that memory usage will decrease by the dataframe.\n",
        "  for k in data_frame.columns:#for each column in each dataframe\n",
        "    datatype_feature= data_frame[k].dtypes# Here we found out the datatypes of each feature in dataframe.\n",
        "    if datatype_feature in numerals:# Here we check the feature lies in the category of numerics feature.\n",
        "      minimum_feature_value= data_frame[k].min()# if the feature is in numerics then first we get the  minimum of that feature.\n",
        "      maximum_feature_value= data_frame[k].max()# if the feature is in numerics then first we get the  maximum of that feature.\n",
        "      if str(datatype_feature)[:3]== 'int':#  Here we check that third feature is integer feature or not.\n",
        "        if minimum_feature_value > np.iinfo(np.int8).min and maximum_feature_value < np.iinfo(np.int8).max:# IF integer values is in the between of c_min and c_max and have the value of int8.means of (-128 to 127).\n",
        "          data_frame[k]= data_frame[k].astype(np.int8)# here simple we assign the int8 value in his corresponding integer value feature.\n",
        "        elif minimum_feature_value > np.iinfo(np.int16).min and maximum_feature_value < np.iinfo(np.int16).max:# Here simple we check for the int16 means(-32,768 to 32,767) bit range.\n",
        "          data_frame[k]= data_frame[k].astype(np.int16)# Here we assign the int16 values.  \n",
        "        elif minimum_feature_value > np.iinfo(np.int32).min and maximum_feature_value < np.iinfo(np.int32).max:# Here for int32 means(-2,147,483,648 to 2,147,483,647) bit range.\n",
        "          data_frame[k]= data_frame[k].astype(np.int32)#  Here we assign the int32 values.\n",
        "        elif minimum_feature_value > np.iinfo(np.int64).min and maximum_feature_value < np.iinfo(np.int64).max:# here we assign the int64 means(-9,223,372,036,854,775,808 to 9,223,372,036,854,775,807) bit range.\n",
        "          data_frame[k]= data_frame[k].astype(np.int64)# Here we assign the int64 values.\n",
        "      else:  \n",
        "        if minimum_feature_value > np.finfo(np.float16).min and maximum_feature_value < np.finfo(np.float16).max:# Otherwise if it is the float16 values range\n",
        "          data_frame[k]= data_frame[k].astype(np.float16)# assign it corresponding values.\n",
        "        elif minimum_feature_value > np.finfo(np.float32).min and maximum_feature_value < np.finfo(np.float32).max:# Here we check the min and max range of float 32 values.\n",
        "          data_frame[k]= data_frame[k].astype(np.float32)# assign the corresponding values.\n",
        "        else:\n",
        "          data_frame[k] = data_frame[k].astype(np.float64)# similarly for int64. \n",
        "  final_memory_usage= data_frame.memory_usage().sum()/1024**2# Here we again decrease the memory usage of each feature after separating the corresponding bit integer and float values\n",
        "  if verbose:\n",
        "    print(' The  decrease in memory usage from {:5.2f}MB to ({:.1f}% reduction)'.format(final_memory_usage,100* (initial_memory_usage-final_memory_usage)/initial_memory_usage))# Here we find out the difference between the memory decrease from the starting and end memory usage.\n",
        "  return data_frame"
      ]
    },
    {
      "cell_type": "code",
      "execution_count": null,
      "metadata": {
        "colab": {
          "base_uri": "https://localhost:8080/"
        },
        "id": "RAAZ7pnPQzi4",
        "outputId": "98f14e8d-d95a-44ea-b52a-84ae6a795b2c"
      },
      "outputs": [
        {
          "output_type": "stream",
          "name": "stdout",
          "text": [
            "CPU times: user 237 ms, sys: 52.7 ms, total: 290 ms\n",
            "Wall time: 288 ms\n"
          ]
        }
      ],
      "source": [
        "%%time\n",
        "train = pd.read_csv('/content/train.csv')\n",
        "test = pd.read_csv('/content/test.csv')"
      ]
    },
    {
      "cell_type": "code",
      "execution_count": null,
      "metadata": {
        "colab": {
          "base_uri": "https://localhost:8080/"
        },
        "id": "yAmfwmiXufio",
        "outputId": "17618c22-9df6-4908-9865-1857a0d92cc9"
      },
      "outputs": [
        {
          "output_type": "stream",
          "name": "stdout",
          "text": [
            " The  decrease in memory usage from 30.32MB to (46.0% reduction)\n",
            " The  decrease in memory usage from 1749.11MB to (43.7% reduction)\n",
            " The  decrease in memory usage from 114.20MB to (45.5% reduction)\n",
            "CPU times: user 42.2 s, sys: 14 s, total: 56.2 s\n",
            "Wall time: 56.2 s\n"
          ]
        },
        {
          "output_type": "execute_result",
          "data": {
            "text/plain": [
              "0"
            ]
          },
          "metadata": {},
          "execution_count": 45
        }
      ],
      "source": [
        "%%time\n",
        "merchants = reduce_mem_usage(pd.read_csv('/content/merchants.csv'))\n",
        "historical_transactions = reduce_mem_usage(pd.read_csv('/content/historical_transactions.csv'))\n",
        "new_transactions = reduce_mem_usage(pd.read_csv('/content/new_merchant_transactions.csv'))\n",
        "gc.collect()"
      ]
    },
    {
      "cell_type": "code",
      "source": [
        "historical_transactions = pd.read_csv('historical_transactions.csv')# read historical transaction files\n",
        "historical_transactions=reduce_mem_usage(historical_transactions)# reduce the memory usage of historical transaction\n",
        "historical_transactions.replace([-np.inf,np.inf],np.nan,inplace=True)# replace the -inf,inf to nan values\n",
        "new_transactions = pd.read_csv('new_merchant_transactions.csv')# read the new merchants transactions files\n",
        "new_transactions=reduce_mem_usage(new_transactions)# reduce the memory usage of new merchants transactions files\n",
        "new_transactions.replace([-np.inf,np.inf],np.nan,inplace=True)# replace -inf,inf with nan values in new merchants files.\n",
        "merchants=pd.read_csv('/content/merchants.csv')# read the merchants files\n",
        "merchants=reduce_mem_usage(merchants)# reduce the memory usage of merchants files\n",
        "merchants.replace([-np.inf,np.inf],np.nan,inplace=True)# replace the -inf, inf with nan in merchants files."
      ],
      "metadata": {
        "colab": {
          "base_uri": "https://localhost:8080/"
        },
        "id": "LetRfV9jQpJj",
        "outputId": "e155a5ca-4071-4a3d-f236-ddacd83c52ad"
      },
      "execution_count": null,
      "outputs": [
        {
          "output_type": "stream",
          "name": "stdout",
          "text": [
            " The  decrease in memory usage from 1749.11MB to (43.7% reduction)\n",
            " The  decrease in memory usage from 114.20MB to (45.5% reduction)\n",
            " The  decrease in memory usage from 30.32MB to (46.0% reduction)\n"
          ]
        }
      ]
    },
    {
      "cell_type": "code",
      "source": [
        "historical_transactions['category_2'] = historical_transactions['category_2'].fillna(1,inplace=True)\n",
        "historical_transactions['category_3'] = historical_transactions['category_3'].fillna('A',inplace=True)\n",
        "historical_transactions['merchant_id'] = historical_transactions['merchant_id'].fillna('M_ID_00a6ca8a8a',inplace=True)\n",
        "historical_transactions['installments'].replace(-1, np.nan,inplace=True)\n",
        "historical_transactions['installments'].replace(999, np.nan,inplace=True)\n",
        "historical_transactions['purchase_amount'] = historical_transactions['purchase_amount'].apply(lambda x: min(x, 0.8))"
      ],
      "metadata": {
        "id": "Dub-WzBrQq0Q"
      },
      "execution_count": null,
      "outputs": []
    },
    {
      "cell_type": "code",
      "source": [
        "new_transactions['category_2'] = new_transactions['category_2'].fillna(1,inplace=True)\n",
        "new_transactions['category_3'] = new_transactions['category_3'].fillna('A',inplace=True)\n",
        "new_transactions['merchant_id'] = new_transactions['merchant_id'].fillna('M_ID_00a6ca8a8a',inplace=True)\n",
        "new_transactions['installments'].replace(-1, np.nan,inplace=True)\n",
        "new_transactions['installments'].replace(999, np.nan,inplace=True)\n",
        "new_transactions['purchase_amount'] = new_transactions['purchase_amount'].apply(lambda x: min(x, 0.8))"
      ],
      "metadata": {
        "id": "dpyQEt9hQsyl"
      },
      "execution_count": null,
      "outputs": []
    },
    {
      "cell_type": "markdown",
      "metadata": {
        "id": "EdXqhv5iD1F1"
      },
      "source": [
        "###**2. Data Pre-processing**"
      ]
    },
    {
      "cell_type": "markdown",
      "metadata": {
        "id": "x9iRxl1MxDU-"
      },
      "source": [
        "**2.1 Imputing and Replacing Missing Values and Drop Duplicates**"
      ]
    },
    {
      "cell_type": "markdown",
      "source": [
        "We will be checking the Missing values and Duplicates and fixing them.\n",
        "Also we will check the infinite values if present in any of our 5 datasets."
      ],
      "metadata": {
        "id": "ejx4KFCMqZQn"
      }
    },
    {
      "cell_type": "markdown",
      "metadata": {
        "id": "ZyGmceI5FkpA"
      },
      "source": [
        "**2.2 Train Data**"
      ]
    },
    {
      "cell_type": "code",
      "execution_count": null,
      "metadata": {
        "colab": {
          "base_uri": "https://localhost:8080/"
        },
        "id": "LfMWziQBFrd3",
        "outputId": "782eb167-7c9d-4978-fe6a-e54a00279cbd"
      },
      "outputs": [
        {
          "output_type": "stream",
          "name": "stdout",
          "text": [
            "Number of duplicate rows = 0\n",
            "============================================================\n",
            "Number of infinite values in card_id = 0\n",
            "Number of infinite values in feature_1 = 0\n",
            "Number of infinite values in feature_2 = 0\n",
            "Number of infinite values in feature_3 = 0\n",
            "Number of infinite values in target = 0\n",
            "============================================================\n",
            "Number of missing values in first_active_month = 0\n",
            "Number of missing values in card_id = 0\n",
            "Number of missing values in feature_1 = 0\n",
            "Number of missing values in feature_2 = 0\n",
            "Number of missing values in feature_3 = 0\n",
            "Number of missing values in target = 0\n"
          ]
        }
      ],
      "source": [
        "# finding duplicate rows count\n",
        "duplicate_rows = len(train[train.duplicated()])\n",
        "print('Number of duplicate rows =', duplicate_rows)\n",
        "\n",
        "print('='*60)\n",
        "# finding number of infinite values for each features\n",
        "for i in train.columns:\n",
        "  if i == 'first_active_month':\n",
        "    continue\n",
        "  inf_values = train[i].isin([np.inf, -np.inf]).sum()\n",
        "  print('Number of infinite values in {} = {}'.format(i, inf_values))\n",
        "\n",
        "print('='*60)\n",
        "# finding missing values for each features\n",
        "for i in train.columns:\n",
        "  missing_values = train[i].isnull().sum()\n",
        "  print('Number of missing values in {} = {}'.format(i, missing_values))"
      ]
    },
    {
      "cell_type": "markdown",
      "metadata": {
        "id": "8p_b4SC7G1mm"
      },
      "source": [
        "1. We do not have any duplicate values in train.\n",
        "2. We do not have any missing values"
      ]
    },
    {
      "cell_type": "markdown",
      "metadata": {
        "id": "ajD7AsriG-Fd"
      },
      "source": [
        "**2.3 Test Data**"
      ]
    },
    {
      "cell_type": "code",
      "execution_count": null,
      "metadata": {
        "colab": {
          "base_uri": "https://localhost:8080/"
        },
        "id": "IvNXtlwLF3_S",
        "outputId": "fcd1c7ff-08a8-4066-f332-e88acd87d862"
      },
      "outputs": [
        {
          "output_type": "stream",
          "name": "stdout",
          "text": [
            "Number of duplicate rows = 0\n",
            "============================================================\n",
            "Number of infinite values in card_id = 0\n",
            "Number of infinite values in feature_1 = 0\n",
            "Number of infinite values in feature_2 = 0\n",
            "Number of infinite values in feature_3 = 0\n",
            "============================================================\n",
            "Number of missing values in first_active_month = 1\n",
            "Number of missing values in card_id = 0\n",
            "Number of missing values in feature_1 = 0\n",
            "Number of missing values in feature_2 = 0\n",
            "Number of missing values in feature_3 = 0\n"
          ]
        }
      ],
      "source": [
        "# finding duplicate rows count\n",
        "duplicate_rows = len(test[test.duplicated()])\n",
        "print('Number of duplicate rows =', duplicate_rows)\n",
        "\n",
        "print('='*60)\n",
        "# finding inf and -inf values present in dataset\n",
        "for i in test.columns:\n",
        "  if i == 'first_active_month':\n",
        "    continue\n",
        "  inf_values = test[i].isin([np.inf, -np.inf]).sum()\n",
        "  print('Number of infinite values in {} = {}'.format(i, inf_values))\n",
        "\n",
        "print('='*60)\n",
        "# finding missing values in each columns\n",
        "for i in test.columns:\n",
        "  missing_values = test[i].isnull().sum()\n",
        "  print('Number of missing values in {} = {}'.format(i, missing_values))"
      ]
    },
    {
      "cell_type": "markdown",
      "metadata": {
        "id": "kVxFmlwfKsEd"
      },
      "source": [
        "No Duplicates but the First Active Month has only one missing value."
      ]
    },
    {
      "cell_type": "code",
      "execution_count": null,
      "metadata": {
        "colab": {
          "base_uri": "https://localhost:8080/"
        },
        "id": "ZATzgGyHHsMT",
        "outputId": "359c856f-494e-459c-8a00-767314edbe9a"
      },
      "outputs": [
        {
          "output_type": "stream",
          "name": "stdout",
          "text": [
            "All missing value imputed\n"
          ]
        }
      ],
      "source": [
        "# missing value imputation using max count value\n",
        "max_date = test['first_active_month'].value_counts().idxmax().date().strftime('%Y-%m-%d')\n",
        "test['first_active_month'].fillna(max_date, inplace=True)\n",
        "print('All missing value imputed')"
      ]
    },
    {
      "cell_type": "markdown",
      "metadata": {
        "id": "v0nIrreLLWOG"
      },
      "source": [
        "**2.4 Merchant Data**"
      ]
    },
    {
      "cell_type": "code",
      "execution_count": null,
      "metadata": {
        "colab": {
          "base_uri": "https://localhost:8080/"
        },
        "id": "OBM2cgqwK102",
        "outputId": "4babef07-41c7-49f1-c16f-0c336b5565ca"
      },
      "outputs": [
        {
          "output_type": "stream",
          "name": "stdout",
          "text": [
            "Number of duplicate rows = 0\n",
            "============================================================\n",
            "Number of infinite values in avg_purchases_lag3 = 3\n",
            "Number of infinite values in avg_purchases_lag6 = 3\n",
            "Number of infinite values in avg_purchases_lag12 = 3\n",
            "============================================================\n",
            "Number of missing values in avg_sales_lag3 = 13\n",
            "Number of missing values in avg_sales_lag6 = 13\n",
            "Number of missing values in avg_sales_lag12 = 13\n",
            "Number of missing values in category_2 = 11887\n"
          ]
        }
      ],
      "source": [
        "# finding duplicate rows count\n",
        "duplicate_rows = len(merchants[merchants.duplicated()])\n",
        "print('Number of duplicate rows =', duplicate_rows)\n",
        "\n",
        "print('='*60)\n",
        "# finding number of infinite values for each features\n",
        "for i in merchants.columns:\n",
        "  inf_values = merchants[i].isin([np.inf, -np.inf]).sum()\n",
        "  if inf_values > 0:\n",
        "    print('Number of infinite values in {} = {}'.format(i, inf_values))\n",
        "\n",
        "print('='*60)\n",
        "# finding missing values in each columns\n",
        "for i in merchants.columns:\n",
        "  missing_values = merchants[i].isnull().sum()\n",
        "  if missing_values > 0:\n",
        "    print('Number of missing values in {} = {}'.format(i, missing_values))"
      ]
    },
    {
      "cell_type": "markdown",
      "metadata": {
        "id": "r_69UMONNDJ_"
      },
      "source": [
        "Missing values are present in average sales and category 2. \n",
        "There are few values with infinite values"
      ]
    },
    {
      "cell_type": "code",
      "source": [
        "# replacement of inf and -inf values with nan value\n",
        "merchants.replace([np.inf, -np.inf], np.nan, inplace=True)"
      ],
      "metadata": {
        "id": "bwMPIDTn4011"
      },
      "execution_count": null,
      "outputs": []
    },
    {
      "cell_type": "code",
      "source": [
        "# missing value imputaion\n",
        "merchants['avg_sales_lag3'].fillna(1, inplace=True)\n",
        "merchants['avg_sales_lag6'].fillna(1, inplace=True)\n",
        "merchants['avg_sales_lag12'].fillna(1, inplace=True)\n",
        "merchants['avg_purchases_lag3'].fillna(1, inplace=True)\n",
        "merchants['avg_purchases_lag6'].fillna(1, inplace=True)\n",
        "merchants['avg_purchases_lag12'].fillna(1, inplace=True)\n",
        "merchants['category_2'].fillna(1, inplace=True)\n",
        "\n",
        "print('All missing value imputed!')"
      ],
      "metadata": {
        "colab": {
          "base_uri": "https://localhost:8080/"
        },
        "id": "ouR4bJQ67Ap7",
        "outputId": "ae6f7e7f-bf61-45bc-ba9a-babeb12b2194"
      },
      "execution_count": null,
      "outputs": [
        {
          "output_type": "stream",
          "name": "stdout",
          "text": [
            "All missing value imputed!\n"
          ]
        }
      ]
    },
    {
      "cell_type": "code",
      "execution_count": null,
      "metadata": {
        "colab": {
          "base_uri": "https://localhost:8080/"
        },
        "id": "rY8aQi2oNc6K",
        "outputId": "15c63b7b-d26b-4152-c5b6-69d446b2ce22"
      },
      "outputs": [
        {
          "output_type": "stream",
          "name": "stdout",
          "text": [
            "All categorical feature value encoded\n"
          ]
        }
      ],
      "source": [
        "# categorical features encoding\n",
        "merchants['category_1'].replace({'N':0, 'Y':1}, inplace=True)\n",
        "merchants['category_4'].replace({'N':0, 'Y':1}, inplace=True)\n",
        "merchants['most_recent_sales_range'].replace({'A':0, 'B':1, 'C':2, 'D':3, 'E':4}, inplace=True)\n",
        "merchants['most_recent_purchases_range'].replace({'A':0, 'B':1, 'C':2, 'D':3, 'E':4}, inplace=True)\n",
        "\n",
        "print('All categorical feature value encoded')"
      ]
    },
    {
      "cell_type": "markdown",
      "metadata": {
        "id": "u2Ud1h_KNx6P"
      },
      "source": [
        "**2.5 Historical Transactions**"
      ]
    },
    {
      "cell_type": "code",
      "execution_count": null,
      "metadata": {
        "colab": {
          "base_uri": "https://localhost:8080/"
        },
        "id": "69bnVReLNmTM",
        "outputId": "87de4845-8875-4458-81c1-f56e1b9260fd"
      },
      "outputs": [
        {
          "output_type": "stream",
          "name": "stdout",
          "text": [
            "Number of duplicate rows = 0\n",
            "============================================================\n",
            "Number of infinite values in authorized_flag = 0\n",
            "Number of infinite values in card_id = 0\n",
            "Number of infinite values in city_id = 0\n",
            "Number of infinite values in category_1 = 0\n",
            "Number of infinite values in installments = 0\n",
            "Number of infinite values in category_3 = 0\n",
            "Number of infinite values in merchant_category_id = 0\n",
            "Number of infinite values in merchant_id = 0\n",
            "Number of infinite values in month_lag = 0\n",
            "Number of infinite values in purchase_amount = 0\n",
            "Number of infinite values in purchase_date = 0\n",
            "Number of infinite values in category_2 = 0\n",
            "Number of infinite values in state_id = 0\n",
            "Number of infinite values in subsector_id = 0\n",
            "============================================================\n",
            "Number of missing values in category_3 = 178159\n",
            "Number of missing values in merchant_id = 138481\n",
            "Number of missing values in category_2 = 2652864\n"
          ]
        }
      ],
      "source": [
        "# finding duplicate rows count\n",
        "duplicate_rows = len(historical_transactions[historical_transactions.duplicated()])\n",
        "print('Number of duplicate rows =', duplicate_rows)\n",
        "\n",
        "print('='*60)\n",
        "# finding inf and -inf values in each of the features\n",
        "for i in historical_transactions.columns:\n",
        "  inf_values = historical_transactions[i].isin([np.inf, -np.inf]).sum()\n",
        "  print('Number of infinite values in {} = {}'.format(i, inf_values))\n",
        "\n",
        "print('='*60)\n",
        "# finding missing values in each of the features\n",
        "for i in historical_transactions.columns:\n",
        "  missing_values = historical_transactions[i].isnull().sum()\n",
        "  if missing_values > 0:\n",
        "    print('Number of missing values in {} = {}'.format(i, missing_values))"
      ]
    },
    {
      "cell_type": "markdown",
      "metadata": {
        "id": "yCd6DvbpOj0p"
      },
      "source": [
        "There are lot of missing values in the historical data in three of the columns and we will impute them."
      ]
    },
    {
      "cell_type": "code",
      "source": [
        "historical_transactions['category_2'] = historical_transactions['category_2'].fillna(1,inplace=True)\n",
        "historical_transactions['category_3'] = historical_transactions['category_3'].fillna('A',inplace=True)\n",
        "historical_transactions['merchant_id'] = historical_transactions['merchant_id'].fillna('M_ID_00a6ca8a8a',inplace=True)\n",
        "historical_transactions['installments'].replace(-1, np.nan,inplace=True)\n",
        "historical_transactions['installments'].replace(999, np.nan,inplace=True)\n",
        "historical_transactions['purchase_amount'] = historical_transactions['purchase_amount'].apply(lambda x: min(x, 0.8))\n",
        "\n",
        "print('All missing value imputed!')"
      ],
      "metadata": {
        "colab": {
          "base_uri": "https://localhost:8080/"
        },
        "id": "1jiUCs937TEI",
        "outputId": "443c217c-603a-4c0b-a3ef-a7405791a786"
      },
      "execution_count": null,
      "outputs": [
        {
          "output_type": "stream",
          "name": "stdout",
          "text": [
            "All missing value imputed!\n"
          ]
        }
      ]
    },
    {
      "cell_type": "markdown",
      "metadata": {
        "id": "tGKaRAu4O7aQ"
      },
      "source": [
        "**2.6 New Merchant Transactions**"
      ]
    },
    {
      "cell_type": "code",
      "execution_count": null,
      "metadata": {
        "colab": {
          "base_uri": "https://localhost:8080/"
        },
        "id": "OPUVanTAO28o",
        "outputId": "5e0f497d-646c-4b34-a9d0-b125e7a75bc4"
      },
      "outputs": [
        {
          "output_type": "stream",
          "name": "stdout",
          "text": [
            "Number of duplicate rows = 10\n",
            "============================================================\n",
            "10 duplicate rows removed\n",
            "============================================================\n",
            "Number of infinite values in authorized_flag = 0\n",
            "Number of infinite values in card_id = 0\n",
            "Number of infinite values in city_id = 0\n",
            "Number of infinite values in category_1 = 0\n",
            "Number of infinite values in installments = 0\n",
            "Number of infinite values in category_3 = 0\n",
            "Number of infinite values in merchant_category_id = 0\n",
            "Number of infinite values in merchant_id = 0\n",
            "Number of infinite values in month_lag = 0\n",
            "Number of infinite values in purchase_amount = 0\n",
            "Number of infinite values in purchase_date = 0\n",
            "Number of infinite values in category_2 = 0\n",
            "Number of infinite values in state_id = 0\n",
            "Number of infinite values in subsector_id = 0\n",
            "============================================================\n",
            "Number of missing values in category_3 = 55921\n",
            "Number of missing values in merchant_id = 26216\n",
            "Number of missing values in category_2 = 111744\n"
          ]
        }
      ],
      "source": [
        "# finding duplicate rows count\n",
        "duplicate_rows = len(new_transactions[new_transactions.duplicated()])\n",
        "print('Number of duplicate rows =', duplicate_rows)\n",
        "\n",
        "print('='*60)\n",
        "# removing the duplicate rows\n",
        "new_transactions.drop_duplicates(inplace=True)\n",
        "print('{} duplicate rows removed'.format(duplicate_rows))\n",
        "\n",
        "print('='*60)\n",
        "# finding the inf and -inf values in each columns\n",
        "for i in new_transactions.columns:\n",
        "  inf_values = new_transactions[i].isin([np.inf, -np.inf]).sum()\n",
        "  print('Number of infinite values in {} = {}'.format(i, inf_values))\n",
        "\n",
        "print('='*60)\n",
        "# finding missing value in each column\n",
        "for i in new_transactions.columns:\n",
        "  missing_values = new_transactions[i].isnull().sum()\n",
        "  if missing_values > 0:\n",
        "    print('Number of missing values in {} = {}'.format(i, missing_values))"
      ]
    },
    {
      "cell_type": "markdown",
      "metadata": {
        "id": "66Rz8fmMPqUm"
      },
      "source": [
        "There are lot of missing values and 10 duplicated rows that are dropped."
      ]
    },
    {
      "cell_type": "code",
      "execution_count": null,
      "metadata": {
        "colab": {
          "base_uri": "https://localhost:8080/"
        },
        "id": "RsrdfGB-Pfju",
        "outputId": "f4c60a9a-adab-48f6-9ea7-9e446f71aeb7"
      },
      "outputs": [
        {
          "output_type": "stream",
          "name": "stdout",
          "text": [
            "All missing value imputed\n"
          ]
        }
      ],
      "source": [
        "new_transactions['category_2'] = new_transactions['category_2'].fillna(1,inplace=True)\n",
        "new_transactions['category_3'] = new_transactions['category_3'].fillna('A',inplace=True)\n",
        "new_transactions['merchant_id'] = new_transactions['merchant_id'].fillna('M_ID_00a6ca8a8a',inplace=True)\n",
        "new_transactions['installments'].replace(-1, np.nan,inplace=True)\n",
        "new_transactions['installments'].replace(999, np.nan,inplace=True)\n",
        "new_transactions['purchase_amount'] = new_transactions['purchase_amount'].apply(lambda x: min(x, 0.8))\n",
        "\n",
        "print('All missing value imputed')"
      ]
    },
    {
      "cell_type": "code",
      "execution_count": null,
      "metadata": {
        "id": "0a5g8pxwP0Ez"
      },
      "outputs": [],
      "source": [
        "train.to_csv('/content/drive/MyDrive/Python_Datasets/Case_study_1/pp_train.csv', index=False)\n",
        "test.to_csv('/content/drive/MyDrive/Python_Datasets/Case_study_1/pp_test.csv', index=False)\n",
        "merchants.to_csv('/content/drive/MyDrive/Python_Datasets/Case_study_1/pp_merchants.csv', index=False)\n",
        "historical_transactions.to_csv('/content/drive/MyDrive/Python_Datasets/Case_study_1/pp_historical_transactions.csv', index=False)\n",
        "new_transactions.to_csv('/content/drive/MyDrive/Python_Datasets/Case_study_1/pp_new_transactions.csv', index=False)"
      ]
    },
    {
      "cell_type": "markdown",
      "metadata": {
        "id": "3JIOiV2jZ7xV"
      },
      "source": [
        "###**3. Feature Engineering**"
      ]
    },
    {
      "cell_type": "code",
      "execution_count": null,
      "metadata": {
        "colab": {
          "base_uri": "https://localhost:8080/"
        },
        "id": "k1ru3BQtRRL-",
        "outputId": "eea5a499-1474-4bc3-a93d-bd8a8212e6e1"
      },
      "outputs": [
        {
          "output_type": "stream",
          "name": "stdout",
          "text": [
            "CPU times: user 4 µs, sys: 0 ns, total: 4 µs\n",
            "Wall time: 7.87 µs\n",
            "Mem. usage decreased to 15.64 Mb (72.2% reduction)\n",
            "Mem. usage decreased to 1166.08 Mb (62.5% reduction)\n",
            "Mem. usage decreased to 74.88 Mb (64.3% reduction)\n"
          ]
        }
      ],
      "source": [
        "%time\n",
        "train = pd.read_csv('/content/drive/MyDrive/Python_Datasets/Case_study_1/pp_train.csv', parse_dates=['first_active_month'])\n",
        "test = pd.read_csv('/content/drive/MyDrive/Python_Datasets/Case_study_1/pp_test.csv', parse_dates=['first_active_month'])\n",
        "merchants = reduce_mem_usage(pd.read_csv('/content/drive/MyDrive/Python_Datasets/Case_study_1/pp_merchants.csv'))\n",
        "historical_transactions = reduce_mem_usage(pd.read_csv('/content/drive/MyDrive/Python_Datasets/Case_study_1/pp_historical_transactions.csv'))\n",
        "new_transactions = reduce_mem_usage(pd.read_csv('/content/drive/MyDrive/Python_Datasets/Case_study_1/pp_new_transactions.csv'))"
      ]
    },
    {
      "cell_type": "markdown",
      "metadata": {
        "id": "I-0X3WhnaCDo"
      },
      "source": [
        "**3.1 Train Data**"
      ]
    },
    {
      "cell_type": "code",
      "execution_count": null,
      "metadata": {
        "id": "6Gbzl5BMZI6X",
        "colab": {
          "base_uri": "https://localhost:8080/"
        },
        "outputId": "0f958e01-132a-4a6d-a538-e460a38565e5"
      },
      "outputs": [
        {
          "output_type": "execute_result",
          "data": {
            "text/plain": [
              "17"
            ]
          },
          "metadata": {},
          "execution_count": 17
        }
      ],
      "source": [
        "train['outliers'] = 0\n",
        "train.loc[train['target'] < -30, 'outliers'] = 1\n",
        "train['outliers'].value_counts()\n",
        "# Here we are doing mean encoding for features with outliers\n",
        "for k in ['feature_1','feature_2','feature_3']:\n",
        "  label = train.groupby([k])['outliers'].mean()\n",
        "  train[k+\"_mean\"] = train[k].map(label) \n",
        "# Now extract the days and Qtr\n",
        "sr = pd.Series(train['first_active_month'])# Convert the first active month in series format\n",
        "sr=pd.to_datetime(sr)\n",
        "train['days'] = (date(2018, 2,1) - sr.dt.date).dt.days# just having error so we first try the numeric method\n",
        "train['quarter'] = sr.dt.quarter# here we get the quarter.\n",
        "k_cols = ['feature_1', 'feature_2', 'feature_3']\n",
        "for i in k_cols:\n",
        "  train['days_' + i] = train['days'] * train[i]\n",
        "  train['days_' + i + '_ratio'] = train[i] / train['days']\n",
        "gc.collect()"
      ]
    },
    {
      "cell_type": "markdown",
      "metadata": {
        "id": "x9GsVmrXbSTX"
      },
      "source": [
        "**3.2 Test Data**"
      ]
    },
    {
      "cell_type": "code",
      "execution_count": null,
      "metadata": {
        "id": "TN_rwg3UbElj",
        "colab": {
          "base_uri": "https://localhost:8080/"
        },
        "outputId": "4a738ce4-1c63-43a8-c186-7d8cbc161258"
      },
      "outputs": [
        {
          "output_type": "execute_result",
          "data": {
            "text/plain": [
              "17"
            ]
          },
          "metadata": {},
          "execution_count": 18
        }
      ],
      "source": [
        "# Here we are doing mean encoding for features with outliers\n",
        "for k in ['feature_1','feature_2','feature_3']:\n",
        "  label = train.groupby([k])['outliers'].mean()\n",
        "  test[k+\"_mean\"] = test[k].map(label) \n",
        "# Now extract the days and Qtr\n",
        "sr = pd.Series(test['first_active_month']) # Convert the first active month in series format\n",
        "sr=pd.to_datetime(sr)\n",
        "test['days'] = (date(2018, 2,1) - sr.dt.date).dt.days #just having error so we first try the numeric method\n",
        "test['quarter'] = sr.dt.quarter# here we get the quarter.\n",
        "k_cols = ['feature_1', 'feature_2', 'feature_3']\n",
        "for i in k_cols:\n",
        "  test['days_' + i] = test['days'] * test[i]\n",
        "  test['days_' + i + '_ratio'] = test[i] / test['days']\n",
        "gc.collect()"
      ]
    },
    {
      "cell_type": "markdown",
      "source": [
        "Function to get remaining features"
      ],
      "metadata": {
        "id": "i2DASRizBpm9"
      }
    },
    {
      "cell_type": "code",
      "source": [
        "def get_new_columns(name,aggs):\n",
        "    return [name + '_' + k + '_' + agg for k in aggs.keys() for agg in aggs[k]]"
      ],
      "metadata": {
        "id": "WksfLcHuBoPm"
      },
      "execution_count": null,
      "outputs": []
    },
    {
      "cell_type": "markdown",
      "metadata": {
        "id": "F-B-U9uoh7vP"
      },
      "source": [
        "**3.3 Historical Transactions**"
      ]
    },
    {
      "cell_type": "code",
      "execution_count": null,
      "metadata": {
        "id": "_tCfaww7h64b",
        "colab": {
          "base_uri": "https://localhost:8080/"
        },
        "outputId": "eed43820-69e9-40fd-c7f9-6be7655b330d"
      },
      "outputs": [
        {
          "output_type": "execute_result",
          "data": {
            "text/plain": [
              "87"
            ]
          },
          "metadata": {},
          "execution_count": 20
        }
      ],
      "source": [
        "# Additional features \n",
        "# https://www.kaggle.com/code/chauhuynh/my-first-kernel-3-699/notebook\n",
        "historical_transactions['authorized_flag'] = historical_transactions['authorized_flag'].map({'Y': 1, 'N': 0})\n",
        "historical_transactions['category_1'] = historical_transactions['category_1'].map({'Y': 1, 'N': 0})\n",
        "historical_transactions['category_3'] = historical_transactions['category_3'].map({'A':0, 'B':1, 'C':2})\n",
        "historical_transactions['purchase_date'] = pd.to_datetime(historical_transactions['purchase_date'])\n",
        "historical_transactions['weekofyear'] = historical_transactions['purchase_date'].dt.weekofyear\n",
        "historical_transactions['month'] = historical_transactions['purchase_date'].dt.month  # get the month\n",
        "historical_transactions['day'] = historical_transactions['purchase_date'].dt.day  # get the day\n",
        "historical_transactions['weekday'] = historical_transactions.purchase_date.dt.weekday # get the week day\n",
        "historical_transactions['weekend'] = (historical_transactions.purchase_date.dt.weekday >=5).astype(int)# weekend\n",
        "historical_transactions['hour'] =historical_transactions['purchase_date'].dt.hour# hour from the purchase date \n",
        "historical_transactions['month_diff'] = ((datetime.today() - historical_transactions['purchase_date']).dt.days)//30\n",
        "historical_transactions['month_diff'] += historical_transactions['month_lag']\n",
        "historical_transactions['duration'] = historical_transactions['purchase_amount']*historical_transactions['month_diff']\n",
        "historical_transactions['amount_month_ratio'] = historical_transactions['purchase_amount']/historical_transactions['month_diff']\n",
        "historical_transactions['price'] = historical_transactions['purchase_amount'] / historical_transactions['installments']\n",
        "gc.collect()"
      ]
    },
    {
      "cell_type": "code",
      "source": [
        "aggs = {}# here we aggregate all the values of sum,min,max,mean,var,skew for all the features\n",
        "aggs['purchase_amount'] = ['sum','max','min','mean','var','skew']\n",
        "aggs['installments'] = ['sum','max','mean','var','skew']\n",
        "aggs['purchase_date'] = ['max','min']\n",
        "aggs['month_lag'] = ['max','min','mean','var','skew']\n",
        "aggs['month_diff']=['max','min','mean','var','skew']\n",
        "aggs['weekend'] = ['sum', 'mean']\n",
        "aggs['weekday'] = ['sum', 'mean']\n",
        "aggs['authorized_flag']= ['sum', 'mean']\n",
        "aggs['category_1']= ['sum','mean', 'max','min']\n",
        "aggs['card_id'] = ['size','count']\n",
        "aggs['month']= ['nunique', 'mean', 'min', 'max']\n",
        "aggs['hour']= ['nunique', 'mean', 'min', 'max']\n",
        "aggs['weekofyear']= ['nunique', 'mean', 'min', 'max']\n",
        "aggs['day']= ['nunique', 'mean', 'min', 'max']\n",
        "aggs['subsector_id']= ['nunique']\n",
        "aggs['merchant_id']= ['nunique']\n",
        "aggs['merchant_category_id'] = ['nunique']\n",
        "aggs['price'] =['sum','mean','max','min','var']\n",
        "aggs['duration'] = ['mean','min','max','var','skew']\n",
        "aggs['amount_month_ratio']=['mean','min','max','var','skew']\n",
        "# here we try to aggregate all the mean,max,min,sum into category_2, category_3.\n",
        "for col in ['category_2','category_3']:\n",
        "  historical_transactions[col+'_mean'] = historical_transactions.groupby(historical_transactions[col])['purchase_amount'].agg('mean')\n",
        "  historical_transactions[col+'_max'] = historical_transactions.groupby(historical_transactions[col])['purchase_amount'].agg('max')\n",
        "  historical_transactions[col+'_min'] = historical_transactions.groupby(historical_transactions[col])['purchase_amount'].agg('min')\n",
        "  historical_transactions[col+'_sum'] = historical_transactions.groupby(historical_transactions[col])['purchase_amount'].agg('sum')\n",
        "  aggs[col+'_mean'] = ['mean']\n",
        "gc.collect()      \n",
        "# here we groupby the features by card_id and have new features.\n",
        "new_columns = get_new_columns('hist',aggs)\n",
        "historical_transactions_group = historical_transactions.groupby(['card_id']).agg(aggs)\n",
        "historical_transactions_group.columns = new_columns\n",
        "historical_transactions_group.reset_index(drop=False,inplace=True)"
      ],
      "metadata": {
        "id": "jplJ7BRsCEPN"
      },
      "execution_count": null,
      "outputs": []
    },
    {
      "cell_type": "code",
      "source": [
        "train = train.merge(historical_transactions_group,on='card_id',how='left')\n",
        "test = test.merge(historical_transactions_group,on='card_id',how='left')\n",
        "del historical_transactions_group;\n",
        "gc.collect()"
      ],
      "metadata": {
        "colab": {
          "base_uri": "https://localhost:8080/"
        },
        "id": "Jlc1cLbjMkEI",
        "outputId": "d3ccf81a-456c-4e36-febf-13bc0656c1cf"
      },
      "execution_count": null,
      "outputs": [
        {
          "output_type": "execute_result",
          "data": {
            "text/plain": [
              "0"
            ]
          },
          "metadata": {},
          "execution_count": 22
        }
      ]
    },
    {
      "cell_type": "markdown",
      "metadata": {
        "id": "mOpWbmFujfhA"
      },
      "source": [
        "**3.4 New Transactions Data**"
      ]
    },
    {
      "cell_type": "code",
      "execution_count": null,
      "metadata": {
        "id": "HU6Y-CJKjoSR",
        "colab": {
          "base_uri": "https://localhost:8080/"
        },
        "outputId": "a0a74a9b-e29a-4be3-b489-9d40394ffa72"
      },
      "outputs": [
        {
          "output_type": "execute_result",
          "data": {
            "text/plain": [
              "35"
            ]
          },
          "metadata": {},
          "execution_count": 23
        }
      ],
      "source": [
        "# https://www.kaggle.com/code/chauhuynh/my-first-kernel-3-699/notebook\n",
        "new_transactions['authorized_flag'] = new_transactions['authorized_flag'].map({'Y': 1, 'N': 0})\n",
        "new_transactions['category_1'] = new_transactions['category_1'].map({'Y': 1, 'N': 0})\n",
        "new_transactions['category_3'] = new_transactions['category_3'].map({'A':0, 'B':1, 'C':2})\n",
        "new_transactions['purchase_date'] = pd.to_datetime(new_transactions['purchase_date'])\n",
        "new_transactions['weekofyear'] = new_transactions['purchase_date'].dt.weekofyear\n",
        "new_transactions['month'] = new_transactions['purchase_date'].dt.month# get the month\n",
        "new_transactions['day'] = new_transactions['purchase_date'].dt.day# get the day\n",
        "new_transactions['weekday'] = new_transactions.purchase_date.dt.weekday# get the week day\n",
        "new_transactions['weekend'] = (new_transactions.purchase_date.dt.weekday >=5).astype(int)# weekend\n",
        "new_transactions['hour'] =new_transactions['purchase_date'].dt.hour# hour from the purchase date \n",
        "new_transactions['month_diff'] = ((datetime.today() - new_transactions['purchase_date']).dt.days)//30\n",
        "new_transactions['month_diff'] += new_transactions['month_lag']\n",
        "new_transactions['duration'] = new_transactions['purchase_amount']*new_transactions['month_diff']\n",
        "new_transactions['amount_month_ratio'] = new_transactions['purchase_amount']/new_transactions['month_diff']\n",
        "new_transactions['price'] = new_transactions['purchase_amount'] / new_transactions['installments']\n",
        "gc.collect()"
      ]
    },
    {
      "cell_type": "code",
      "execution_count": null,
      "metadata": {
        "id": "I-7jEocsj3sq",
        "colab": {
          "base_uri": "https://localhost:8080/"
        },
        "outputId": "a4eaa0a7-7385-4d4d-9441-7998065fd96a"
      },
      "outputs": [
        {
          "output_type": "execute_result",
          "data": {
            "text/plain": [
              "0"
            ]
          },
          "metadata": {},
          "execution_count": 24
        }
      ],
      "source": [
        "aggs = {}# here we aggregate all the values of sum,min,max,mean,var,skew for all the features\n",
        "aggs['purchase_amount'] = ['sum','max','min','mean','var','skew']\n",
        "aggs['installments'] = ['sum','max','mean','var','skew']\n",
        "aggs['purchase_date'] = ['max','min']\n",
        "aggs['month_lag'] = ['max','min','mean','var','skew']\n",
        "aggs['month_diff']=['max','min','mean','var','skew']\n",
        "aggs['weekend'] = ['sum', 'mean']\n",
        "aggs['weekday'] = ['sum', 'mean']\n",
        "aggs['authorized_flag']= ['sum', 'mean']\n",
        "aggs['category_1']= ['sum','mean', 'max','min']\n",
        "aggs['card_id'] = ['size','count']\n",
        "aggs['month']= ['nunique', 'mean', 'min', 'max']\n",
        "aggs['hour']= ['nunique', 'mean', 'min', 'max']\n",
        "aggs['weekofyear']= ['nunique', 'mean', 'min', 'max']\n",
        "aggs['day']= ['nunique', 'mean', 'min', 'max']\n",
        "aggs['subsector_id']= ['nunique']\n",
        "aggs['merchant_id']= ['nunique']\n",
        "aggs['merchant_category_id'] = ['nunique']\n",
        "aggs['price'] =['sum','mean','max','min','var']\n",
        "aggs['duration'] = ['mean','min','max','var','skew']\n",
        "aggs['amount_month_ratio']=['mean','min','max','var','skew']\n",
        "# here we try to aggregate all the mean,max,min,sum into category_2, category_3.\n",
        "for col in ['category_2','category_3']:\n",
        "  new_transactions[col+'_mean'] = new_transactions.groupby(new_transactions[col])['purchase_amount'].agg('mean')\n",
        "  new_transactions[col+'_max'] = new_transactions.groupby(new_transactions[col])['purchase_amount'].agg('max')\n",
        "  new_transactions[col+'_min'] = new_transactions.groupby(new_transactions[col])['purchase_amount'].agg('min')\n",
        "  new_transactions[col+'_sum'] = new_transactions.groupby(new_transactions[col])['purchase_amount'].agg('sum')\n",
        "  aggs[col+'_mean'] = ['mean']\n",
        "gc.collect()      \n",
        "# here we groupby the features by card_id and have new features.\n",
        "new_columns = get_new_columns('new_hist',aggs)\n",
        "new_transactions_group = new_transactions.groupby(['card_id']).agg(aggs)\n",
        "new_transactions_group.columns = new_columns\n",
        "new_transactions_group.reset_index(drop=False,inplace=True)\n",
        "train = train.merge(new_transactions_group,on='card_id',how='left')\n",
        "test = test.merge(new_transactions_group,on='card_id',how='left')\n",
        "del new_transactions_group;\n",
        "gc.collect()"
      ]
    },
    {
      "cell_type": "markdown",
      "source": [
        "Deleting unwanted nan columns"
      ],
      "metadata": {
        "id": "JDqW5Q1qC6A3"
      }
    },
    {
      "cell_type": "code",
      "execution_count": null,
      "metadata": {
        "id": "NoEgodTIj6bz"
      },
      "outputs": [],
      "source": [
        "train=train.drop(['hist_category_2_mean_mean','hist_category_3_mean_mean'],axis=1)\n",
        "test=test.drop(['hist_category_2_mean_mean','hist_category_3_mean_mean'],axis=1)\n",
        "train=train.drop(['new_hist_category_2_mean_mean','new_hist_category_3_mean_mean'],axis=1)\n",
        "test=test.drop(['new_hist_category_2_mean_mean','new_hist_category_3_mean_mean'],axis=1)"
      ]
    },
    {
      "cell_type": "markdown",
      "source": [
        "**3.5 Mechants Data**"
      ],
      "metadata": {
        "id": "qUQbsckXDH9t"
      }
    },
    {
      "cell_type": "code",
      "source": [
        "def aggregation_merchants(merchants):\n",
        "  second_mode=lambda x: Counter(x).most_common(1)[0][0]#Counting the most common element and take it as second mode.\n",
        "  # here we aggregate all the features of merchants with most common element and groupby according to merchant id.\n",
        "  group_merchants=merchants.groupby('merchant_id',as_index=False).agg({\n",
        "        \"merchant_group_id\": second_mode,\n",
        "        \"merchant_category_id\": second_mode,\n",
        "        \"subsector_id\": second_mode,\n",
        "        \"numerical_1\": \"mean\",\n",
        "        \"numerical_2\": \"mean\",\n",
        "        \"category_1\": second_mode,\n",
        "        \"most_recent_sales_range\": second_mode,\n",
        "        \"most_recent_purchases_range\": second_mode,\n",
        "        \"avg_sales_lag3\": \"mean\",\n",
        "        \"avg_purchases_lag3\": \"mean\",\n",
        "        \"active_months_lag3\": second_mode,\n",
        "        \"avg_sales_lag6\": \"mean\",\n",
        "        \"avg_purchases_lag6\": \"mean\",\n",
        "        \"active_months_lag6\": second_mode,\n",
        "        \"avg_sales_lag12\": \"mean\",\n",
        "        \"avg_purchases_lag12\": \"mean\",\n",
        "        \"active_months_lag12\": second_mode,\n",
        "        \"category_4\": second_mode,\n",
        "        \"city_id\": second_mode,\n",
        "        \"state_id\": second_mode,\n",
        "        \"category_2\": second_mode\n",
        "  })\n",
        "  return group_merchants"
      ],
      "metadata": {
        "id": "us7dBhdjDKzr"
      },
      "execution_count": null,
      "outputs": []
    },
    {
      "cell_type": "markdown",
      "metadata": {
        "id": "sa7M1vzOo8hY"
      },
      "source": [
        "**3.6 Additional Features**"
      ]
    },
    {
      "cell_type": "code",
      "source": [
        "#Feature Engineering - Adding new features inspired by Chau's first kernel\n",
        "train['hist_purchase_date_max'] = pd.to_datetime(train['hist_purchase_date_max'])\n",
        "train['hist_purchase_date_min'] = pd.to_datetime(train['hist_purchase_date_min'])\n",
        "train['hist_purchase_date_diff'] = (train['hist_purchase_date_max'] - train['hist_purchase_date_min']).dt.days\n",
        "train['hist_purchase_date_average'] = train['hist_purchase_date_diff']/train['hist_card_id_size']\n",
        "train['hist_purchase_date_uptonow'] = (datetime.today() - train['hist_purchase_date_max']).dt.days\n",
        "train['hist_purchase_date_uptomin'] = (datetime.today() - train['hist_purchase_date_min']).dt.days\n",
        "sr = pd.Series(train['first_active_month'])\n",
        "sr=pd.to_datetime(sr)\n",
        "train['hist_first_buy'] = (train['hist_purchase_date_min'] - sr).dt.days\n",
        "train['hist_last_buy'] = (train['hist_purchase_date_max'] - sr).dt.days\n",
        "\n",
        "# here we convert this features in integer format for training in historical data.\n",
        "for feature in ['hist_purchase_date_max','hist_purchase_date_min']:\n",
        "  train[feature] = train[feature].astype(np.int64) * 1e-9\n",
        "  \n",
        "# Additional features \n",
        "# https://www.kaggle.com/mfjwr1/simple-lightgbm-without-blending \n",
        "train['new_hist_purchase_date_max'] = pd.to_datetime(train['new_hist_purchase_date_max'])\n",
        "train['new_hist_purchase_date_min'] = pd.to_datetime(train['new_hist_purchase_date_min'])\n",
        "train['new_hist_purchase_date_diff'] = (train['new_hist_purchase_date_max'] - train['new_hist_purchase_date_min']).dt.days\n",
        "train['new_hist_purchase_date_average'] = train['new_hist_purchase_date_diff']/train['new_hist_card_id_size']\n",
        "train['new_hist_purchase_date_uptonow'] = (datetime.today() - train['new_hist_purchase_date_max']).dt.days\n",
        "train['new_hist_purchase_date_uptomin'] = (datetime.today() - train['new_hist_purchase_date_min']).dt.days\n",
        "sr = pd.Series(train['first_active_month'])\n",
        "sr=pd.to_datetime(sr)\n",
        "train['new_first_buy'] = (train['new_hist_purchase_date_min'] - sr).dt.days\n",
        "train['new_last_buy'] = (train['new_hist_purchase_date_max'] - sr).dt.days\n",
        "train['new_hist_purchase_date_max'] = pd.to_numeric(train['new_hist_purchase_date_max'], errors='coerce')\n",
        "train['new_hist_purchase_date_min'] = pd.to_numeric(train['new_hist_purchase_date_min'], errors='coerce')\n",
        "train = train.dropna(subset=['new_hist_purchase_date_max'])\n",
        "train = train.dropna(subset=['new_hist_purchase_date_min'])\n",
        "# here we convert this features in integer format for training in new historical data.\n",
        "for feature in ['new_hist_purchase_date_max','new_hist_purchase_date_min']:\n",
        "  train[feature] = train[feature].astype(np.int64) * 1e-9    \n",
        "  gc.collect()\n",
        "  \n",
        "train['card_id_total'] = train['new_hist_card_id_size']+train['hist_card_id_size']\n",
        "train['card_id_cnt_total'] = train['new_hist_card_id_count']+train['hist_card_id_count']\n",
        "train['card_id_cnt_ratio'] = train['new_hist_card_id_count']/train['hist_card_id_count']\n",
        "train['purchase_amount_total'] = train['new_hist_purchase_amount_sum']+train['hist_purchase_amount_sum']\n",
        "train['purchase_amount_mean'] = train['new_hist_purchase_amount_mean']+train['hist_purchase_amount_mean']\n",
        "train['purchase_amount_max'] = train['new_hist_purchase_amount_max']+train['hist_purchase_amount_max']\n",
        "train['purchase_amount_min'] = train['new_hist_purchase_amount_min']+train['hist_purchase_amount_min']\n",
        "train['purchase_amount_ratio'] = train['new_hist_purchase_amount_sum']/train['hist_purchase_amount_sum']\n",
        "train['month_diff_mean'] = train['new_hist_month_diff_mean']+train['hist_month_diff_mean']\n",
        "train['month_diff_ratio'] = train['new_hist_month_diff_mean']/train['hist_month_diff_mean']\n",
        "train['month_lag_mean'] = train['new_hist_month_lag_mean']+train['hist_month_lag_mean']\n",
        "train['month_lag_max'] = train['new_hist_month_lag_max']+train['hist_month_lag_max']\n",
        "train['month_lag_min'] = train['new_hist_month_lag_min']+train['hist_month_lag_min']\n",
        "train['category_1_mean'] = train['new_hist_category_1_mean']+train['hist_category_1_mean']\n",
        "train['installments_total'] = train['new_hist_installments_sum']+train['hist_installments_sum']\n",
        "train['installments_mean'] = train['new_hist_installments_mean']+train['hist_installments_mean']\n",
        "train['installments_max'] = train['new_hist_installments_max']+train['hist_installments_max']\n",
        "train['installments_ratio'] = train['new_hist_installments_sum']/train['hist_installments_sum']\n",
        "train['price_total'] = train['purchase_amount_total'] / train['installments_total']\n",
        "train['price_mean'] = train['purchase_amount_mean'] / train['installments_mean']\n",
        "train['price_max'] =train['purchase_amount_max'] / train['installments_max']\n",
        "train['duration_mean'] = train['new_hist_duration_mean']+train['hist_duration_mean']\n",
        "train['duration_min'] = train['new_hist_duration_min']+train['hist_duration_min']\n",
        "train['duration_max'] = train['new_hist_duration_max']+train['hist_duration_max']\n",
        "train['amount_month_ratio_mean']=train['new_hist_amount_month_ratio_mean']+train['hist_amount_month_ratio_mean']\n",
        "train['amount_month_ratio_min']=train['new_hist_amount_month_ratio_min']+train['hist_amount_month_ratio_min']\n",
        "train['amount_month_ratio_max']=train['new_hist_amount_month_ratio_max']+train['hist_amount_month_ratio_max']\n",
        "train['new_CLV'] = train['new_hist_card_id_count'] * train['new_hist_purchase_amount_sum'] / train['new_hist_month_diff_mean']\n",
        "train['hist_CLV'] =train['hist_card_id_count'] * train['hist_purchase_amount_sum'] / train['hist_month_diff_mean']\n",
        "train['CLV_ratio'] = train['new_CLV'] / train['hist_CLV']\n",
        "gc.collect()"
      ],
      "metadata": {
        "colab": {
          "base_uri": "https://localhost:8080/"
        },
        "id": "HbViv9RQAjCl",
        "outputId": "c407807b-3eb7-4e89-aa90-d98958965cdd"
      },
      "execution_count": null,
      "outputs": [
        {
          "output_type": "execute_result",
          "data": {
            "text/plain": [
              "0"
            ]
          },
          "metadata": {},
          "execution_count": 27
        }
      ]
    },
    {
      "cell_type": "code",
      "source": [
        "#Feature Engineering - Adding new features inspired by Chau's first kernel\n",
        "test['hist_purchase_date_max'] = pd.to_datetime(test['hist_purchase_date_max'])\n",
        "test['hist_purchase_date_min'] = pd.to_datetime(test['hist_purchase_date_min'])\n",
        "test['hist_purchase_date_diff'] = (test['hist_purchase_date_max'] - test['hist_purchase_date_min']).dt.days\n",
        "test['hist_purchase_date_average'] = test['hist_purchase_date_diff']/test['hist_card_id_size']\n",
        "test['hist_purchase_date_uptonow'] = (datetime.today() - test['hist_purchase_date_max']).dt.days\n",
        "test['hist_purchase_date_uptomin'] = (datetime.today() - test['hist_purchase_date_min']).dt.days\n",
        "sr = pd.Series(test['first_active_month'])\n",
        "sr=pd.to_datetime(sr)\n",
        "test['hist_first_buy'] = (test['hist_purchase_date_min'] - sr).dt.days\n",
        "test['hist_last_buy'] = (test['hist_purchase_date_max'] - sr).dt.days\n",
        "# here we convert this features in integer format for training in historical data.\n",
        "for feature in ['hist_purchase_date_max','hist_purchase_date_min']:\n",
        "  test[feature] = test[feature].astype(np.int64) * 1e-9\n",
        "  \n",
        "  \n",
        "test['new_hist_purchase_date_max'] = pd.to_datetime(test['new_hist_purchase_date_max'])\n",
        "test['new_hist_purchase_date_min'] = pd.to_datetime(test['new_hist_purchase_date_min'])\n",
        "test['new_hist_purchase_date_diff'] = (test['new_hist_purchase_date_max'] - test['new_hist_purchase_date_min']).dt.days\n",
        "test['new_hist_purchase_date_average'] = test['new_hist_purchase_date_diff']/test['new_hist_card_id_size']\n",
        "test['new_hist_purchase_date_uptonow'] = (datetime.today() - test['new_hist_purchase_date_max']).dt.days\n",
        "test['new_hist_purchase_date_uptomin'] = (datetime.today() - test['new_hist_purchase_date_min']).dt.days\n",
        "sr = pd.Series(test['first_active_month'])\n",
        "sr=pd.to_datetime(sr)\n",
        "test['new_first_buy'] = (test['new_hist_purchase_date_min'] - sr).dt.days\n",
        "test['new_last_buy'] = (test['new_hist_purchase_date_max'] - sr).dt.days\n",
        "test['new_hist_purchase_date_max'] = pd.to_numeric(test['new_hist_purchase_date_max'], errors='coerce')\n",
        "test['new_hist_purchase_date_min'] = pd.to_numeric(test['new_hist_purchase_date_min'], errors='coerce')\n",
        "test = test.dropna(subset=['new_hist_purchase_date_max'])\n",
        "test = test.dropna(subset=['new_hist_purchase_date_min'])\n",
        "# here we convert this features in integer format for training in historical data.\n",
        "for feature in ['new_hist_purchase_date_max','new_hist_purchase_date_min']:\n",
        "  test[feature] = test[feature].astype(np.int64) * 1e-9    \n",
        "  gc.collect()\n",
        "\n",
        "# Additional features \n",
        "# https://www.kaggle.com/mfjwr1/simple-lightgbm-without-blending  \n",
        "test['card_id_total'] = test['new_hist_card_id_size']+test['hist_card_id_size']\n",
        "test['card_id_cnt_total'] = test['new_hist_card_id_count']+test['hist_card_id_count']\n",
        "test['card_id_cnt_ratio'] = test['new_hist_card_id_count']/test['hist_card_id_count']\n",
        "test['purchase_amount_total'] = test['new_hist_purchase_amount_sum']+test['hist_purchase_amount_sum']\n",
        "test['purchase_amount_mean'] = test['new_hist_purchase_amount_mean']+test['hist_purchase_amount_mean']\n",
        "test['purchase_amount_max'] = test['new_hist_purchase_amount_max']+test['hist_purchase_amount_max']\n",
        "test['purchase_amount_min'] = test['new_hist_purchase_amount_min']+test['hist_purchase_amount_min']\n",
        "test['purchase_amount_ratio'] = test['new_hist_purchase_amount_sum']/test['hist_purchase_amount_sum']\n",
        "test['month_diff_mean'] = test['new_hist_month_diff_mean']+test['hist_month_diff_mean']\n",
        "test['month_diff_ratio'] = test['new_hist_month_diff_mean']/test['hist_month_diff_mean']\n",
        "test['month_lag_mean'] = test['new_hist_month_lag_mean']+test['hist_month_lag_mean']\n",
        "test['month_lag_max'] = test['new_hist_month_lag_max']+test['hist_month_lag_max']\n",
        "test['month_lag_min'] = test['new_hist_month_lag_min']+test['hist_month_lag_min']\n",
        "test['category_1_mean'] = test['new_hist_category_1_mean']+test['hist_category_1_mean']\n",
        "test['installments_total'] = test['new_hist_installments_sum']+test['hist_installments_sum']\n",
        "test['installments_mean'] = test['new_hist_installments_mean']+test['hist_installments_mean']\n",
        "test['installments_max'] = test['new_hist_installments_max']+test['hist_installments_max']\n",
        "test['installments_ratio'] = test['new_hist_installments_sum']/test['hist_installments_sum']\n",
        "test['price_total'] = test['purchase_amount_total'] / test['installments_total']\n",
        "test['price_mean'] = test['purchase_amount_mean'] / test['installments_mean']\n",
        "test['price_max'] =test['purchase_amount_max'] / test['installments_max']\n",
        "test['duration_mean'] = test['new_hist_duration_mean']+test['hist_duration_mean']\n",
        "test['duration_min'] = test['new_hist_duration_min']+test['hist_duration_min']\n",
        "test['duration_max'] = test['new_hist_duration_max']+test['hist_duration_max']\n",
        "test['amount_month_ratio_mean']=test['new_hist_amount_month_ratio_mean']+test['hist_amount_month_ratio_mean']\n",
        "test['amount_month_ratio_min']=test['new_hist_amount_month_ratio_min']+test['hist_amount_month_ratio_min']\n",
        "test['amount_month_ratio_max']=test['new_hist_amount_month_ratio_max']+test['hist_amount_month_ratio_max']\n",
        "test['new_CLV'] = test['new_hist_card_id_count'] * test['new_hist_purchase_amount_sum'] / test['new_hist_month_diff_mean']\n",
        "test['hist_CLV'] =test['hist_card_id_count'] * test['hist_purchase_amount_sum'] / test['hist_month_diff_mean']\n",
        "test['CLV_ratio'] = test['new_CLV'] / test['hist_CLV']\n",
        "gc.collect()"
      ],
      "metadata": {
        "colab": {
          "base_uri": "https://localhost:8080/"
        },
        "id": "I8BSf-3hAyd5",
        "outputId": "9853323e-b1a5-42a0-e652-01213b1ad0eb"
      },
      "execution_count": null,
      "outputs": [
        {
          "output_type": "execute_result",
          "data": {
            "text/plain": [
              "0"
            ]
          },
          "metadata": {},
          "execution_count": 28
        }
      ]
    },
    {
      "cell_type": "code",
      "source": [
        "# here we again aggregate the card_id because there are some dulplicate card_id.\n",
        "# here we aggregate the mean in numerical features of new merchants.\n",
        "def aggregation_transactions(transactions):\n",
        "    second_mode = lambda x: Counter(x).most_common(1)[0][0]#Counting the most common element and take it as second mode.\n",
        "    # here we aggregate all the features of merchants with most common element and groupby according to merchant id.\n",
        "    group_transactions = transactions.groupby(\"card_id\",as_index=False).agg({\n",
        "        \"authorized_flag\": second_mode,\n",
        "        \"merchant_category_id\": second_mode,\n",
        "        \"subsector_id\": second_mode,\n",
        "        \"merchant_id\":  second_mode,\n",
        "        \"category_1\": second_mode,\n",
        "        'month_lag': second_mode,\n",
        "        \"installments\": second_mode,\n",
        "        \"purchase_amount\": \"mean\",\n",
        "        \"city_id\": second_mode,\n",
        "        \"state_id\": second_mode,\n",
        "        \"category_2\": second_mode,\n",
        "        \"purchase_date\": second_mode\n",
        "    })\n",
        "    return group_transactions"
      ],
      "metadata": {
        "id": "EgyMCQNSDL_X"
      },
      "execution_count": null,
      "outputs": []
    },
    {
      "cell_type": "code",
      "source": [
        "# function for encoding train and test data\n",
        "#https://narender-reddy.medium.com/elo-merchant-category-recommendation-competition-on-kaggle-lightgbm-implementation-a-case-83b0912fa7f3\n",
        "def encoding_train(train, transactions, merchants, suffix):\n",
        "  transactions=aggregation_transactions(transactions)# here we pass the new transactions data into the function to aggregate the most common values.\n",
        "  transactions.columns= [k+suffix if k not in ['card_id','merchant_id'] else k for k in transactions.columns]# here we try to get the colmns based on card_id and merchant_id.\n",
        "  transactions_train=pd.merge(train['card_id'],transactions,on='card_id',how='left')\n",
        "  del transactions\n",
        "  # merge the transaction and merchant data.\n",
        "  merchants = aggregation_merchants(merchants) #aggregate the merchant data.\n",
        "  merchants.columns=[k+'_merchants'+suffix if k!='merchant_id' else k for k in merchants.columns]#\n",
        "  merge_merchants_transactions= pd.merge(transactions_train,merchants,on='merchant_id',how='left')\n",
        "  del merchants\n",
        "  del transactions_train\n",
        "  del merge_merchants_transactions['merchant_id']\n",
        "  train_card_id= train['card_id'].unique()\n",
        "  INDEX= merge_merchants_transactions['card_id'].isin(list(train_card_id))\n",
        "  merge_merchants_transactions_unique=merge_merchants_transactions.loc[INDEX]\n",
        "  merge_merchants_transactions_unique_label=merge_merchants_transactions_unique.merge(train[['card_id','target']],how='left',left_on='card_id',right_on='card_id')\n",
        "  del merge_merchants_transactions_unique\n",
        "  gc.collect()\n",
        "  merge_merchants_transactions.fillna(-9999,inplace=True)\n",
        "  # Add the suffix to the features to make new features so that we induct the values which we have from aggregation.\n",
        "  encoding_train_features=['authorized_flag'+suffix, 'category_1'+suffix, 'month_lag'+suffix, 'installments'+suffix,'category_2'+suffix,\n",
        "        'numerical_1_merchants'+suffix, 'category_1_merchants'+suffix, 'most_recent_sales_range_merchants'+suffix,\n",
        "        'most_recent_purchases_range_merchants'+suffix, 'active_months_lag3_merchants'+suffix, \n",
        "        'active_months_lag6_merchants'+suffix, 'active_months_lag12_merchants'+suffix, 'category_4_merchants'+suffix,\n",
        "        'category_2_merchants'+suffix]\n",
        "  for i in  encoding_train_features:\n",
        "    encoding= merge_merchants_transactions_unique_label.groupby(i).target.mean()\n",
        "    merge_merchants_transactions[i+'_mean_encoded']= merge_merchants_transactions[i].map(encoding)\n",
        "  del encoding\n",
        "  gc.collect()\n",
        "  return merge_merchants_transactions       "
      ],
      "metadata": {
        "id": "9JbYGwtpDQvh"
      },
      "execution_count": null,
      "outputs": []
    },
    {
      "cell_type": "code",
      "source": [
        "# Function to encoding test data\n",
        "#https://narender-reddy.medium.com/elo-merchant-category-recommendation-competition-on-kaggle-lightgbm-implementation-a-case-83b0912fa7f3\n",
        "def encoding_test(test, transactions, merchants, suffix):\n",
        "  transactions=aggregation_transactions(transactions)\n",
        "  transactions.columns= [k+suffix if k not in ['card_id','merchant_id'] else k for k in transactions.columns]\n",
        "  transactions_test=pd.merge(test['card_id'],transactions,on='card_id',how='left')\n",
        "  del transactions\n",
        "  # merge the transaction and merchant data.\n",
        "  merchants = aggregation_merchants(merchants)\n",
        "  merchants.columns=[k+'_merchants'+suffix if k!='merchant_id' else k for k in merchants.columns]#\n",
        "  merge_merchants_transactions= pd.merge(transactions_test,merchants,on='merchant_id',how='left')\n",
        "  del merchants\n",
        "  del transactions_test\n",
        "  del merge_merchants_transactions['merchant_id']\n",
        "  merge_merchants_transactions.fillna(-9999,inplace=True)\n",
        "  gc.collect()\n",
        "  print(' The shape of merge_merchants_transactions is: ',merge_merchants_transactions.shape)\n",
        "  return merge_merchants_transactions  "
      ],
      "metadata": {
        "id": "kMyJ2gEVDdXd"
      },
      "execution_count": null,
      "outputs": []
    },
    {
      "cell_type": "markdown",
      "source": [
        "Mean Encoding on the train data"
      ],
      "metadata": {
        "id": "OXzrp8mSDkla"
      }
    },
    {
      "cell_type": "code",
      "source": [
        "print(' The data frame train shape is:',train.shape)\n",
        "print(' Here we perform the mean encoding')\n",
        "\n",
        "merchants = reduce_mem_usage(pd.read_csv('/content/merchants.csv',nrows=1000))\n",
        "merchants.replace([-np.inf, np.inf], np.nan, inplace=True)\n",
        "transactions = reduce_mem_usage(pd.read_csv('/content/new_merchant_transactions.csv',nrows=1000))\n",
        "transactions.replace([-np.inf, np.inf], np.nan, inplace=True)\n",
        "# Mean encoding on train data.\n",
        "mean_encoding_train=encoding_train(train, transactions, merchants, suffix='_new')\n",
        "train= pd.merge(train,mean_encoding_train,on='card_id',how='left')\n",
        "del mean_encoding_train\n",
        "print(' This is the shape of data after mean encoding is:',train.shape)\n",
        "\n",
        "# mean encoding on merchants_historical_transactions.\n",
        "merchants = reduce_mem_usage(pd.read_csv('/content/merchants.csv',nrows=1000))\n",
        "merchants.replace([-np.inf, np.inf], np.nan, inplace=True)# here we replace the -inf,inf to nan value in merchnat data.\n",
        "data_frame_historical_transactions=reduce_mem_usage(pd.read_csv('/content/historical_transactions.csv',nrows=1000))\n",
        "data_frame_historical_transactions.replace([-np.inf, np.inf], np.nan, inplace=True)\n",
        "\n",
        "# Mean encoding on historical_transactions\n",
        "mean_encoding_hist=encoding_train(train, data_frame_historical_transactions, merchants, suffix='_hist')\n",
        "print(' We also been done by the historical mean encoding')\n",
        "train=pd.merge(train,mean_encoding_hist, on='card_id',how='left')\n",
        "del mean_encoding_hist"
      ],
      "metadata": {
        "colab": {
          "base_uri": "https://localhost:8080/"
        },
        "id": "qQcuqsLSDjUA",
        "outputId": "2b43cd32-478b-48ae-fd5b-701a08636e12"
      },
      "execution_count": null,
      "outputs": [
        {
          "output_type": "stream",
          "name": "stdout",
          "text": [
            " The data frame train shape is: (201917, 198)\n",
            " Here we perform the mean encoding\n",
            " The  decrease in memory usage from  0.09MB to (46.0% reduction)\n",
            " The  decrease in memory usage from  0.06MB to (46.4% reduction)\n",
            " This is the shape of data after mean encoding is: (201917, 244)\n",
            " The  decrease in memory usage from  0.09MB to (46.0% reduction)\n",
            " The  decrease in memory usage from  0.06MB to (46.4% reduction)\n",
            " We also been done by the historical mean encoding\n"
          ]
        }
      ]
    },
    {
      "cell_type": "markdown",
      "source": [
        "Mean Encoding for test data"
      ],
      "metadata": {
        "id": "3Ys-Ge_4Dn8G"
      }
    },
    {
      "cell_type": "code",
      "source": [
        "print(' The data frame test shape is:',test.shape)\n",
        "print(' Here we perform the mean encoding')\n",
        "\n",
        "# load the merchant data.\n",
        "merchants = reduce_mem_usage(pd.read_csv('/content/merchants.csv',nrows=1000))\n",
        "merchants.replace([-np.inf, np.inf], np.nan, inplace=True)\n",
        "transactions = reduce_mem_usage(pd.read_csv('/content/new_merchant_transactions.csv',nrows=1000))\n",
        "transactions.replace([-np.inf, np.inf], np.nan, inplace=True)\n",
        "\n",
        "# Mean encoding on train data.\n",
        "mean_encoding_test=encoding_test(test, transactions, merchants, suffix='_new')\n",
        "test= pd.merge(test,mean_encoding_test,on='card_id',how='left')\n",
        "del mean_encoding_test\n",
        "print(' This is the shape of data after mean encoding is:',test.shape)\n",
        "\n",
        "# mean encoding on merchants_historical_transactions.\n",
        "merchants = reduce_mem_usage(pd.read_csv('/content/merchants.csv',nrows=1000))\n",
        "merchants.replace([-np.inf, np.inf], np.nan, inplace=True)\n",
        "data_frame_historical_transactions=reduce_mem_usage(pd.read_csv('/content/historical_transactions.csv',nrows=1000))\n",
        "data_frame_historical_transactions.replace([-np.inf, np.inf], np.nan, inplace=True)\n",
        "\n",
        "# Mean encoding on historical_transactions\n",
        "mean_encoding_hist=encoding_test(test, data_frame_historical_transactions, merchants, suffix='_hist')\n",
        "print(' We also been done by the historical mean encoding')\n",
        "test=pd.merge(test,mean_encoding_hist,on='card_id',how='left')\n",
        "del mean_encoding_hist"
      ],
      "metadata": {
        "colab": {
          "base_uri": "https://localhost:8080/"
        },
        "id": "EUQQ40UIDota",
        "outputId": "74f43daf-672f-4da9-aa23-ff9118f5d971"
      },
      "execution_count": null,
      "outputs": [
        {
          "output_type": "stream",
          "name": "stdout",
          "text": [
            " The data frame test shape is: (123623, 196)\n",
            " Here we perform the mean encoding\n",
            " The  decrease in memory usage from  0.09MB to (46.0% reduction)\n",
            " The  decrease in memory usage from  0.06MB to (46.4% reduction)\n",
            " The shape of merge_merchants_transactions is:  (123623, 33)\n",
            " This is the shape of data after mean encoding is: (123623, 228)\n",
            " The  decrease in memory usage from  0.09MB to (46.0% reduction)\n",
            " The  decrease in memory usage from  0.06MB to (46.4% reduction)\n",
            " The shape of merge_merchants_transactions is:  (123623, 33)\n",
            " We also been done by the historical mean encoding\n"
          ]
        }
      ]
    },
    {
      "cell_type": "code",
      "execution_count": null,
      "metadata": {
        "id": "pCGBv8lDlTp0"
      },
      "outputs": [],
      "source": [
        "# checking for missing values after merging this new features with existing train and test set\n",
        "print('------------------------Missing value in train set------------------------')\n",
        "print(train.columns[train.isnull().any()])\n",
        "print('='*80)\n",
        "print('------------------------Missing value in test set------------------------')\n",
        "print(test.columns[test.isnull().any()])"
      ]
    },
    {
      "cell_type": "code",
      "source": [
        "# Ordering of variables correctly to the target variable\n",
        "columns_of_train = ['authorized_flag_new', 'category_1_new', 'month_lag_new', 'installments_new','category_2_new',\n",
        "          'numerical_1_merchants_new', 'category_1_merchants_new', 'most_recent_sales_range_merchants_new',\n",
        "          'most_recent_purchases_range_merchants_new', 'active_months_lag3_merchants_new', \n",
        "          'active_months_lag6_merchants_new', 'active_months_lag12_merchants_new', 'category_4_merchants_new',\n",
        "          'category_2_merchants_new', \n",
        "          'authorized_flag_hist', 'category_1_hist', 'month_lag_hist', 'installments_hist', 'category_2_hist',\n",
        "          'numerical_1_merchants_hist', 'category_1_merchants_hist', 'most_recent_sales_range_merchants_hist',\n",
        "          'most_recent_purchases_range_merchants_hist', 'active_months_lag3_merchants_hist', \n",
        "          'active_months_lag6_merchants_hist', 'active_months_lag12_merchants_hist', 'category_4_merchants_hist',\n",
        "          'category_2_merchants_hist']\n",
        "           \n",
        "for i in columns_of_train:\n",
        "  target_in_order = train.groupby([i])['target'].mean()# here we try to groupby the mean of target in train data so that this target map with test data.\n",
        "  test[i+\"_mean_encoded\"] =  test[i].map(target_in_order)"
      ],
      "metadata": {
        "id": "Y2AOGZ4QDtOy"
      },
      "execution_count": null,
      "outputs": []
    },
    {
      "cell_type": "markdown",
      "source": [
        "Perform the one hot encoding for replacing the nan values"
      ],
      "metadata": {
        "id": "RjDZC2SpD7q5"
      }
    },
    {
      "cell_type": "code",
      "source": [
        "# one hot encoding for train data.\n",
        "for i in train.columns:\n",
        "  if train[i].isna().any():\n",
        "    train[i].replace([-np.inf, np.inf, np.nan], train[i].min(), inplace=True)\n",
        "for i in test.columns:\n",
        "  if test[i].isna().any():\n",
        "    test[i].replace([-np.inf, np.inf, np.nan], test[i].dropna().min(), inplace=True)\n",
        "train = pd.concat([train, pd.get_dummies(train[columns_of_train], prefix = 'ohe_').astype(np.int8)], axis=1)\n",
        "test = pd.concat([test, pd.get_dummies(test[columns_of_train], prefix = 'ohe_').astype(np.int8)], axis=1)\n",
        "print('Here we perform the one hot encoding on train and test data')\n",
        "print('The dimension of train data are:',train.columns)\n",
        "print('The dimension of test data are:',test.columns) "
      ],
      "metadata": {
        "colab": {
          "base_uri": "https://localhost:8080/"
        },
        "id": "rWs4_wHVD5_Q",
        "outputId": "d9cbfc09-7c71-44fd-b728-51fd989e6bbe"
      },
      "execution_count": null,
      "outputs": [
        {
          "output_type": "stream",
          "name": "stdout",
          "text": [
            "Here we perform the one hot encoding on train and test data\n",
            "The dimension of train data are: Index(['first_active_month', 'card_id', 'feature_1', 'feature_2', 'feature_3',\n",
            "       'target', 'outliers', 'feature_1_mean', 'feature_2_mean',\n",
            "       'feature_3_mean',\n",
            "       ...\n",
            "       'category_4_merchants_hist', 'category_2_merchants_hist', 'ohe__-9999',\n",
            "       'ohe__Y', 'ohe__-9999', 'ohe__N', 'ohe__-9999', 'ohe__Y', 'ohe__-9999',\n",
            "       'ohe__N'],\n",
            "      dtype='object', length=322)\n",
            "The dimension of test data are: Index(['first_active_month', 'card_id', 'feature_1', 'feature_2', 'feature_3',\n",
            "       'feature_1_mean', 'feature_2_mean', 'feature_3_mean', 'days', 'quarter',\n",
            "       ...\n",
            "       'category_4_merchants_hist', 'category_2_merchants_hist', 'ohe__-9999',\n",
            "       'ohe__Y', 'ohe__-9999', 'ohe__N', 'ohe__-9999', 'ohe__Y', 'ohe__-9999',\n",
            "       'ohe__N'],\n",
            "      dtype='object', length=320)\n"
          ]
        }
      ]
    },
    {
      "cell_type": "markdown",
      "source": [
        "Check for duplicate column names"
      ],
      "metadata": {
        "id": "oUsN_fhtEADO"
      }
    },
    {
      "cell_type": "code",
      "source": [
        "# Assign the unique columns in train\n",
        "columns_train=pd.Series(train.columns)\n",
        "for k in columns_train[columns_train.duplicated()].unique():\n",
        "  columns_train[columns_train[columns_train == k].index.values.tolist()] = [k + '_' + str(i) if i != 0 else k for i in range(sum(columns_train == k))]\n",
        "train.columns=columns_train\n",
        "\n",
        "# Assign the unique columns in test.\n",
        "columns_test=pd.Series(test.columns)\n",
        "for k in columns_test[columns_test.duplicated()].unique():\n",
        "  columns_test[columns_test[columns_test == k].index.values.tolist()] = [k + '_' + str(i) if i != 0 else k for i in range(sum(columns_test == k))]\n",
        "test.columns=columns_test"
      ],
      "metadata": {
        "id": "AbQwnZLVD_al"
      },
      "execution_count": null,
      "outputs": []
    },
    {
      "cell_type": "markdown",
      "source": [
        "Delete the basic columns"
      ],
      "metadata": {
        "id": "JPqWlVA8D-8J"
      }
    },
    {
      "cell_type": "code",
      "source": [
        "columns_delete = ['feature_1','feature_2','feature_3', 'authorized_flag_new', 'merchant_category_id_new',\n",
        "       'subsector_id_new', 'category_1_new', 'month_lag_new',\n",
        "       'installments_new', 'purchase_amount_new', 'city_id_new',\n",
        "       'state_id_new', 'category_2_new', 'purchase_date_new',\n",
        "       'merchant_group_id_merchants_new', 'merchant_category_id_merchants_new',\n",
        "       'subsector_id_merchants_new', 'numerical_1_merchants_new',\n",
        "       'numerical_2_merchants_new', 'category_1_merchants_new',\n",
        "       'most_recent_sales_range_merchants_new',\n",
        "       'most_recent_purchases_range_merchants_new',\n",
        "       'avg_sales_lag3_merchants_new', 'avg_purchases_lag3_merchants_new',\n",
        "       'active_months_lag3_merchants_new', 'avg_sales_lag6_merchants_new',\n",
        "       'avg_purchases_lag6_merchants_new', 'active_months_lag6_merchants_new',\n",
        "       'avg_sales_lag12_merchants_new', 'avg_purchases_lag12_merchants_new',\n",
        "       'active_months_lag12_merchants_new', 'category_4_merchants_new',\n",
        "       'city_id_merchants_new', 'state_id_merchants_new',\n",
        "       'category_2_merchants_new', 'authorized_flag_hist',\n",
        "       'merchant_category_id_hist', 'subsector_id_hist', 'category_1_hist',\n",
        "       'month_lag_hist', 'installments_hist', 'purchase_amount_hist',\n",
        "       'city_id_hist', 'state_id_hist', 'category_2_hist',\n",
        "       'purchase_date_hist', 'merchant_group_id_merchants_hist',\n",
        "       'merchant_category_id_merchants_hist', 'subsector_id_merchants_hist',\n",
        "       'numerical_1_merchants_hist', 'numerical_2_merchants_hist',\n",
        "       'category_1_merchants_hist', 'most_recent_sales_range_merchants_hist',\n",
        "       'most_recent_purchases_range_merchants_hist',\n",
        "       'avg_sales_lag3_merchants_hist', 'avg_purchases_lag3_merchants_hist',\n",
        "       'active_months_lag3_merchants_hist', 'avg_sales_lag6_merchants_hist',\n",
        "       'avg_purchases_lag6_merchants_hist',\n",
        "       'active_months_lag6_merchants_hist', 'avg_sales_lag12_merchants_hist',\n",
        "       'avg_purchases_lag12_merchants_hist',\n",
        "       'active_months_lag12_merchants_hist', 'category_4_merchants_hist',\n",
        "       'city_id_merchants_hist', 'state_id_merchants_hist',\n",
        "       'category_2_merchants_hist']\n",
        "#Dropping the above columns       \n",
        "test = test.drop(columns_delete, axis = 1)\n",
        "train = train.drop(columns_delete, axis = 1)\n",
        "train =  train.loc[:, train.columns[0:200]]\n",
        "test =  test.loc[:, test.columns[0:200]]"
      ],
      "metadata": {
        "id": "8Y2nuQzyEKsI"
      },
      "execution_count": null,
      "outputs": []
    },
    {
      "cell_type": "code",
      "source": [
        "train.head()"
      ],
      "metadata": {
        "colab": {
          "base_uri": "https://localhost:8080/",
          "height": 300
        },
        "id": "EnRNRLJ4BTnk",
        "outputId": "9a663d1f-5691-4615-b60c-4f60d4fa092b"
      },
      "execution_count": null,
      "outputs": [
        {
          "output_type": "execute_result",
          "data": {
            "text/plain": [
              "  first_active_month          card_id    target  outliers  feature_1_mean  \\\n",
              "0            2017-06  C_ID_92a2005557 -0.820283         0        0.013145   \n",
              "1            2017-01  C_ID_3d0044924f  0.392913         0        0.010712   \n",
              "2            2016-08  C_ID_d639edf6cd  0.688056         0        0.010610   \n",
              "3            2017-09  C_ID_186d6a6901  0.142495         0        0.010712   \n",
              "4            2017-11  C_ID_cdbd2c0db2 -0.159749         0        0.008058   \n",
              "\n",
              "   feature_2_mean  feature_3_mean  days  quarter  days_feature_1  ...  \\\n",
              "0        0.008752        0.011428   245        2            1225  ...   \n",
              "1        0.011385        0.010283   396        1            1584  ...   \n",
              "2        0.008752        0.010283   549        3            1098  ...   \n",
              "3        0.014166        0.010283   153        3             612  ...   \n",
              "4        0.014166        0.010283    92        4              92  ...   \n",
              "\n",
              "   amount_month_ratio_min  amount_month_ratio_max    new_CLV     hist_CLV  \\\n",
              "0               -0.026591                0.008997  -5.486313  -783.095153   \n",
              "1               -0.026335                0.001756  -0.462528 -1333.091845   \n",
              "2               -0.026006               -0.015383  -0.012731   -22.669402   \n",
              "3               -0.026585                0.004422  -0.586335   -69.632709   \n",
              "4               -0.026939                0.022598 -12.905691  -180.258028   \n",
              "\n",
              "   CLV_ratio  authorized_flag_new_mean_encoded  category_1_new_mean_encoded  \\\n",
              "0   0.007006                         -0.613542                    -0.613542   \n",
              "1   0.000347                         -0.613542                    -0.613542   \n",
              "2   0.000562                         -0.613542                    -0.613542   \n",
              "3   0.008420                         -0.613542                    -0.613542   \n",
              "4   0.071596                         -0.613542                    -0.613542   \n",
              "\n",
              "   month_lag_new_mean_encoded  installments_new_mean_encoded  \\\n",
              "0                   -1.046168                      -0.785954   \n",
              "1                   -1.046168                      -0.785954   \n",
              "2                   -1.046168                      -0.785954   \n",
              "3                   -1.046168                      -0.785954   \n",
              "4                   -1.046168                      -0.785954   \n",
              "\n",
              "   category_2_new_mean_encoded  \n",
              "0                    -0.871965  \n",
              "1                    -0.871965  \n",
              "2                    -0.871965  \n",
              "3                    -0.871965  \n",
              "4                    -0.871965  \n",
              "\n",
              "[5 rows x 200 columns]"
            ],
            "text/html": [
              "\n",
              "  <div id=\"df-d7aa2c10-eeca-4947-8e4a-7776f85dffb7\">\n",
              "    <div class=\"colab-df-container\">\n",
              "      <div>\n",
              "<style scoped>\n",
              "    .dataframe tbody tr th:only-of-type {\n",
              "        vertical-align: middle;\n",
              "    }\n",
              "\n",
              "    .dataframe tbody tr th {\n",
              "        vertical-align: top;\n",
              "    }\n",
              "\n",
              "    .dataframe thead th {\n",
              "        text-align: right;\n",
              "    }\n",
              "</style>\n",
              "<table border=\"1\" class=\"dataframe\">\n",
              "  <thead>\n",
              "    <tr style=\"text-align: right;\">\n",
              "      <th></th>\n",
              "      <th>first_active_month</th>\n",
              "      <th>card_id</th>\n",
              "      <th>target</th>\n",
              "      <th>outliers</th>\n",
              "      <th>feature_1_mean</th>\n",
              "      <th>feature_2_mean</th>\n",
              "      <th>feature_3_mean</th>\n",
              "      <th>days</th>\n",
              "      <th>quarter</th>\n",
              "      <th>days_feature_1</th>\n",
              "      <th>...</th>\n",
              "      <th>amount_month_ratio_min</th>\n",
              "      <th>amount_month_ratio_max</th>\n",
              "      <th>new_CLV</th>\n",
              "      <th>hist_CLV</th>\n",
              "      <th>CLV_ratio</th>\n",
              "      <th>authorized_flag_new_mean_encoded</th>\n",
              "      <th>category_1_new_mean_encoded</th>\n",
              "      <th>month_lag_new_mean_encoded</th>\n",
              "      <th>installments_new_mean_encoded</th>\n",
              "      <th>category_2_new_mean_encoded</th>\n",
              "    </tr>\n",
              "  </thead>\n",
              "  <tbody>\n",
              "    <tr>\n",
              "      <th>0</th>\n",
              "      <td>2017-06</td>\n",
              "      <td>C_ID_92a2005557</td>\n",
              "      <td>-0.820283</td>\n",
              "      <td>0</td>\n",
              "      <td>0.013145</td>\n",
              "      <td>0.008752</td>\n",
              "      <td>0.011428</td>\n",
              "      <td>245</td>\n",
              "      <td>2</td>\n",
              "      <td>1225</td>\n",
              "      <td>...</td>\n",
              "      <td>-0.026591</td>\n",
              "      <td>0.008997</td>\n",
              "      <td>-5.486313</td>\n",
              "      <td>-783.095153</td>\n",
              "      <td>0.007006</td>\n",
              "      <td>-0.613542</td>\n",
              "      <td>-0.613542</td>\n",
              "      <td>-1.046168</td>\n",
              "      <td>-0.785954</td>\n",
              "      <td>-0.871965</td>\n",
              "    </tr>\n",
              "    <tr>\n",
              "      <th>1</th>\n",
              "      <td>2017-01</td>\n",
              "      <td>C_ID_3d0044924f</td>\n",
              "      <td>0.392913</td>\n",
              "      <td>0</td>\n",
              "      <td>0.010712</td>\n",
              "      <td>0.011385</td>\n",
              "      <td>0.010283</td>\n",
              "      <td>396</td>\n",
              "      <td>1</td>\n",
              "      <td>1584</td>\n",
              "      <td>...</td>\n",
              "      <td>-0.026335</td>\n",
              "      <td>0.001756</td>\n",
              "      <td>-0.462528</td>\n",
              "      <td>-1333.091845</td>\n",
              "      <td>0.000347</td>\n",
              "      <td>-0.613542</td>\n",
              "      <td>-0.613542</td>\n",
              "      <td>-1.046168</td>\n",
              "      <td>-0.785954</td>\n",
              "      <td>-0.871965</td>\n",
              "    </tr>\n",
              "    <tr>\n",
              "      <th>2</th>\n",
              "      <td>2016-08</td>\n",
              "      <td>C_ID_d639edf6cd</td>\n",
              "      <td>0.688056</td>\n",
              "      <td>0</td>\n",
              "      <td>0.010610</td>\n",
              "      <td>0.008752</td>\n",
              "      <td>0.010283</td>\n",
              "      <td>549</td>\n",
              "      <td>3</td>\n",
              "      <td>1098</td>\n",
              "      <td>...</td>\n",
              "      <td>-0.026006</td>\n",
              "      <td>-0.015383</td>\n",
              "      <td>-0.012731</td>\n",
              "      <td>-22.669402</td>\n",
              "      <td>0.000562</td>\n",
              "      <td>-0.613542</td>\n",
              "      <td>-0.613542</td>\n",
              "      <td>-1.046168</td>\n",
              "      <td>-0.785954</td>\n",
              "      <td>-0.871965</td>\n",
              "    </tr>\n",
              "    <tr>\n",
              "      <th>3</th>\n",
              "      <td>2017-09</td>\n",
              "      <td>C_ID_186d6a6901</td>\n",
              "      <td>0.142495</td>\n",
              "      <td>0</td>\n",
              "      <td>0.010712</td>\n",
              "      <td>0.014166</td>\n",
              "      <td>0.010283</td>\n",
              "      <td>153</td>\n",
              "      <td>3</td>\n",
              "      <td>612</td>\n",
              "      <td>...</td>\n",
              "      <td>-0.026585</td>\n",
              "      <td>0.004422</td>\n",
              "      <td>-0.586335</td>\n",
              "      <td>-69.632709</td>\n",
              "      <td>0.008420</td>\n",
              "      <td>-0.613542</td>\n",
              "      <td>-0.613542</td>\n",
              "      <td>-1.046168</td>\n",
              "      <td>-0.785954</td>\n",
              "      <td>-0.871965</td>\n",
              "    </tr>\n",
              "    <tr>\n",
              "      <th>4</th>\n",
              "      <td>2017-11</td>\n",
              "      <td>C_ID_cdbd2c0db2</td>\n",
              "      <td>-0.159749</td>\n",
              "      <td>0</td>\n",
              "      <td>0.008058</td>\n",
              "      <td>0.014166</td>\n",
              "      <td>0.010283</td>\n",
              "      <td>92</td>\n",
              "      <td>4</td>\n",
              "      <td>92</td>\n",
              "      <td>...</td>\n",
              "      <td>-0.026939</td>\n",
              "      <td>0.022598</td>\n",
              "      <td>-12.905691</td>\n",
              "      <td>-180.258028</td>\n",
              "      <td>0.071596</td>\n",
              "      <td>-0.613542</td>\n",
              "      <td>-0.613542</td>\n",
              "      <td>-1.046168</td>\n",
              "      <td>-0.785954</td>\n",
              "      <td>-0.871965</td>\n",
              "    </tr>\n",
              "  </tbody>\n",
              "</table>\n",
              "<p>5 rows × 200 columns</p>\n",
              "</div>\n",
              "      <button class=\"colab-df-convert\" onclick=\"convertToInteractive('df-d7aa2c10-eeca-4947-8e4a-7776f85dffb7')\"\n",
              "              title=\"Convert this dataframe to an interactive table.\"\n",
              "              style=\"display:none;\">\n",
              "        \n",
              "  <svg xmlns=\"http://www.w3.org/2000/svg\" height=\"24px\"viewBox=\"0 0 24 24\"\n",
              "       width=\"24px\">\n",
              "    <path d=\"M0 0h24v24H0V0z\" fill=\"none\"/>\n",
              "    <path d=\"M18.56 5.44l.94 2.06.94-2.06 2.06-.94-2.06-.94-.94-2.06-.94 2.06-2.06.94zm-11 1L8.5 8.5l.94-2.06 2.06-.94-2.06-.94L8.5 2.5l-.94 2.06-2.06.94zm10 10l.94 2.06.94-2.06 2.06-.94-2.06-.94-.94-2.06-.94 2.06-2.06.94z\"/><path d=\"M17.41 7.96l-1.37-1.37c-.4-.4-.92-.59-1.43-.59-.52 0-1.04.2-1.43.59L10.3 9.45l-7.72 7.72c-.78.78-.78 2.05 0 2.83L4 21.41c.39.39.9.59 1.41.59.51 0 1.02-.2 1.41-.59l7.78-7.78 2.81-2.81c.8-.78.8-2.07 0-2.86zM5.41 20L4 18.59l7.72-7.72 1.47 1.35L5.41 20z\"/>\n",
              "  </svg>\n",
              "      </button>\n",
              "      \n",
              "  <style>\n",
              "    .colab-df-container {\n",
              "      display:flex;\n",
              "      flex-wrap:wrap;\n",
              "      gap: 12px;\n",
              "    }\n",
              "\n",
              "    .colab-df-convert {\n",
              "      background-color: #E8F0FE;\n",
              "      border: none;\n",
              "      border-radius: 50%;\n",
              "      cursor: pointer;\n",
              "      display: none;\n",
              "      fill: #1967D2;\n",
              "      height: 32px;\n",
              "      padding: 0 0 0 0;\n",
              "      width: 32px;\n",
              "    }\n",
              "\n",
              "    .colab-df-convert:hover {\n",
              "      background-color: #E2EBFA;\n",
              "      box-shadow: 0px 1px 2px rgba(60, 64, 67, 0.3), 0px 1px 3px 1px rgba(60, 64, 67, 0.15);\n",
              "      fill: #174EA6;\n",
              "    }\n",
              "\n",
              "    [theme=dark] .colab-df-convert {\n",
              "      background-color: #3B4455;\n",
              "      fill: #D2E3FC;\n",
              "    }\n",
              "\n",
              "    [theme=dark] .colab-df-convert:hover {\n",
              "      background-color: #434B5C;\n",
              "      box-shadow: 0px 1px 3px 1px rgba(0, 0, 0, 0.15);\n",
              "      filter: drop-shadow(0px 1px 2px rgba(0, 0, 0, 0.3));\n",
              "      fill: #FFFFFF;\n",
              "    }\n",
              "  </style>\n",
              "\n",
              "      <script>\n",
              "        const buttonEl =\n",
              "          document.querySelector('#df-d7aa2c10-eeca-4947-8e4a-7776f85dffb7 button.colab-df-convert');\n",
              "        buttonEl.style.display =\n",
              "          google.colab.kernel.accessAllowed ? 'block' : 'none';\n",
              "\n",
              "        async function convertToInteractive(key) {\n",
              "          const element = document.querySelector('#df-d7aa2c10-eeca-4947-8e4a-7776f85dffb7');\n",
              "          const dataTable =\n",
              "            await google.colab.kernel.invokeFunction('convertToInteractive',\n",
              "                                                     [key], {});\n",
              "          if (!dataTable) return;\n",
              "\n",
              "          const docLinkHtml = 'Like what you see? Visit the ' +\n",
              "            '<a target=\"_blank\" href=https://colab.research.google.com/notebooks/data_table.ipynb>data table notebook</a>'\n",
              "            + ' to learn more about interactive tables.';\n",
              "          element.innerHTML = '';\n",
              "          dataTable['output_type'] = 'display_data';\n",
              "          await google.colab.output.renderOutput(dataTable, element);\n",
              "          const docLink = document.createElement('div');\n",
              "          docLink.innerHTML = docLinkHtml;\n",
              "          element.appendChild(docLink);\n",
              "        }\n",
              "      </script>\n",
              "    </div>\n",
              "  </div>\n",
              "  "
            ]
          },
          "metadata": {},
          "execution_count": 119
        }
      ]
    },
    {
      "cell_type": "markdown",
      "source": [
        "Check for outliers"
      ],
      "metadata": {
        "id": "B83Th5neEPLH"
      }
    },
    {
      "cell_type": "code",
      "source": [
        "test_card_id = test['card_id']\n",
        "print('The count of nan values is:', train.isna().any().sum())\n",
        "# Assign 1 to the non-outlier value and 0 to outliers. \n",
        "correct_data_points = train.loc[train['outliers'] ==0]\n",
        "outliers = train.loc[train['outliers'] ==1]\n",
        "target = train['target']\n",
        "outlier_card_ids = outliers['card_id']\n",
        "card_id_correct_data_point = correct_data_points['card_id']\n",
        "print('This is the correct data points:')\n",
        "correct_data_points.head()"
      ],
      "metadata": {
        "colab": {
          "base_uri": "https://localhost:8080/",
          "height": 334
        },
        "id": "0Mux4BUcEN-N",
        "outputId": "331623ed-0757-4294-b1dd-af09c52054fc"
      },
      "execution_count": null,
      "outputs": [
        {
          "output_type": "stream",
          "name": "stdout",
          "text": [
            "The count of nan values is: 0\n",
            "This is the correct data points:\n"
          ]
        },
        {
          "output_type": "execute_result",
          "data": {
            "text/plain": [
              "  first_active_month          card_id    target  outliers  feature_1_mean  \\\n",
              "0            2017-06  C_ID_92a2005557 -0.820283         0        0.013145   \n",
              "1            2017-01  C_ID_3d0044924f  0.392913         0        0.010712   \n",
              "2            2016-08  C_ID_d639edf6cd  0.688056         0        0.010610   \n",
              "3            2017-09  C_ID_186d6a6901  0.142495         0        0.010712   \n",
              "4            2017-11  C_ID_cdbd2c0db2 -0.159749         0        0.008058   \n",
              "\n",
              "   feature_2_mean  feature_3_mean  days  quarter  days_feature_1  ...  \\\n",
              "0        0.008752        0.011428   245        2            1225  ...   \n",
              "1        0.011385        0.010283   396        1            1584  ...   \n",
              "2        0.008752        0.010283   549        3            1098  ...   \n",
              "3        0.014166        0.010283   153        3             612  ...   \n",
              "4        0.014166        0.010283    92        4              92  ...   \n",
              "\n",
              "   amount_month_ratio_min  amount_month_ratio_max    new_CLV     hist_CLV  \\\n",
              "0               -0.026591                0.008997  -5.486313  -783.095153   \n",
              "1               -0.026335                0.001756  -0.462528 -1333.091845   \n",
              "2               -0.026006               -0.015383  -0.012731   -22.669402   \n",
              "3               -0.026585                0.004422  -0.586335   -69.632709   \n",
              "4               -0.026939                0.022598 -12.905691  -180.258028   \n",
              "\n",
              "   CLV_ratio  authorized_flag_new_mean_encoded  category_1_new_mean_encoded  \\\n",
              "0   0.007006                         -0.613542                    -0.613542   \n",
              "1   0.000347                         -0.613542                    -0.613542   \n",
              "2   0.000562                         -0.613542                    -0.613542   \n",
              "3   0.008420                         -0.613542                    -0.613542   \n",
              "4   0.071596                         -0.613542                    -0.613542   \n",
              "\n",
              "   month_lag_new_mean_encoded  installments_new_mean_encoded  \\\n",
              "0                   -1.046168                      -0.785954   \n",
              "1                   -1.046168                      -0.785954   \n",
              "2                   -1.046168                      -0.785954   \n",
              "3                   -1.046168                      -0.785954   \n",
              "4                   -1.046168                      -0.785954   \n",
              "\n",
              "   category_2_new_mean_encoded  \n",
              "0                    -0.871965  \n",
              "1                    -0.871965  \n",
              "2                    -0.871965  \n",
              "3                    -0.871965  \n",
              "4                    -0.871965  \n",
              "\n",
              "[5 rows x 200 columns]"
            ],
            "text/html": [
              "\n",
              "  <div id=\"df-bb903585-ba2c-419f-9719-5a9c63409646\">\n",
              "    <div class=\"colab-df-container\">\n",
              "      <div>\n",
              "<style scoped>\n",
              "    .dataframe tbody tr th:only-of-type {\n",
              "        vertical-align: middle;\n",
              "    }\n",
              "\n",
              "    .dataframe tbody tr th {\n",
              "        vertical-align: top;\n",
              "    }\n",
              "\n",
              "    .dataframe thead th {\n",
              "        text-align: right;\n",
              "    }\n",
              "</style>\n",
              "<table border=\"1\" class=\"dataframe\">\n",
              "  <thead>\n",
              "    <tr style=\"text-align: right;\">\n",
              "      <th></th>\n",
              "      <th>first_active_month</th>\n",
              "      <th>card_id</th>\n",
              "      <th>target</th>\n",
              "      <th>outliers</th>\n",
              "      <th>feature_1_mean</th>\n",
              "      <th>feature_2_mean</th>\n",
              "      <th>feature_3_mean</th>\n",
              "      <th>days</th>\n",
              "      <th>quarter</th>\n",
              "      <th>days_feature_1</th>\n",
              "      <th>...</th>\n",
              "      <th>amount_month_ratio_min</th>\n",
              "      <th>amount_month_ratio_max</th>\n",
              "      <th>new_CLV</th>\n",
              "      <th>hist_CLV</th>\n",
              "      <th>CLV_ratio</th>\n",
              "      <th>authorized_flag_new_mean_encoded</th>\n",
              "      <th>category_1_new_mean_encoded</th>\n",
              "      <th>month_lag_new_mean_encoded</th>\n",
              "      <th>installments_new_mean_encoded</th>\n",
              "      <th>category_2_new_mean_encoded</th>\n",
              "    </tr>\n",
              "  </thead>\n",
              "  <tbody>\n",
              "    <tr>\n",
              "      <th>0</th>\n",
              "      <td>2017-06</td>\n",
              "      <td>C_ID_92a2005557</td>\n",
              "      <td>-0.820283</td>\n",
              "      <td>0</td>\n",
              "      <td>0.013145</td>\n",
              "      <td>0.008752</td>\n",
              "      <td>0.011428</td>\n",
              "      <td>245</td>\n",
              "      <td>2</td>\n",
              "      <td>1225</td>\n",
              "      <td>...</td>\n",
              "      <td>-0.026591</td>\n",
              "      <td>0.008997</td>\n",
              "      <td>-5.486313</td>\n",
              "      <td>-783.095153</td>\n",
              "      <td>0.007006</td>\n",
              "      <td>-0.613542</td>\n",
              "      <td>-0.613542</td>\n",
              "      <td>-1.046168</td>\n",
              "      <td>-0.785954</td>\n",
              "      <td>-0.871965</td>\n",
              "    </tr>\n",
              "    <tr>\n",
              "      <th>1</th>\n",
              "      <td>2017-01</td>\n",
              "      <td>C_ID_3d0044924f</td>\n",
              "      <td>0.392913</td>\n",
              "      <td>0</td>\n",
              "      <td>0.010712</td>\n",
              "      <td>0.011385</td>\n",
              "      <td>0.010283</td>\n",
              "      <td>396</td>\n",
              "      <td>1</td>\n",
              "      <td>1584</td>\n",
              "      <td>...</td>\n",
              "      <td>-0.026335</td>\n",
              "      <td>0.001756</td>\n",
              "      <td>-0.462528</td>\n",
              "      <td>-1333.091845</td>\n",
              "      <td>0.000347</td>\n",
              "      <td>-0.613542</td>\n",
              "      <td>-0.613542</td>\n",
              "      <td>-1.046168</td>\n",
              "      <td>-0.785954</td>\n",
              "      <td>-0.871965</td>\n",
              "    </tr>\n",
              "    <tr>\n",
              "      <th>2</th>\n",
              "      <td>2016-08</td>\n",
              "      <td>C_ID_d639edf6cd</td>\n",
              "      <td>0.688056</td>\n",
              "      <td>0</td>\n",
              "      <td>0.010610</td>\n",
              "      <td>0.008752</td>\n",
              "      <td>0.010283</td>\n",
              "      <td>549</td>\n",
              "      <td>3</td>\n",
              "      <td>1098</td>\n",
              "      <td>...</td>\n",
              "      <td>-0.026006</td>\n",
              "      <td>-0.015383</td>\n",
              "      <td>-0.012731</td>\n",
              "      <td>-22.669402</td>\n",
              "      <td>0.000562</td>\n",
              "      <td>-0.613542</td>\n",
              "      <td>-0.613542</td>\n",
              "      <td>-1.046168</td>\n",
              "      <td>-0.785954</td>\n",
              "      <td>-0.871965</td>\n",
              "    </tr>\n",
              "    <tr>\n",
              "      <th>3</th>\n",
              "      <td>2017-09</td>\n",
              "      <td>C_ID_186d6a6901</td>\n",
              "      <td>0.142495</td>\n",
              "      <td>0</td>\n",
              "      <td>0.010712</td>\n",
              "      <td>0.014166</td>\n",
              "      <td>0.010283</td>\n",
              "      <td>153</td>\n",
              "      <td>3</td>\n",
              "      <td>612</td>\n",
              "      <td>...</td>\n",
              "      <td>-0.026585</td>\n",
              "      <td>0.004422</td>\n",
              "      <td>-0.586335</td>\n",
              "      <td>-69.632709</td>\n",
              "      <td>0.008420</td>\n",
              "      <td>-0.613542</td>\n",
              "      <td>-0.613542</td>\n",
              "      <td>-1.046168</td>\n",
              "      <td>-0.785954</td>\n",
              "      <td>-0.871965</td>\n",
              "    </tr>\n",
              "    <tr>\n",
              "      <th>4</th>\n",
              "      <td>2017-11</td>\n",
              "      <td>C_ID_cdbd2c0db2</td>\n",
              "      <td>-0.159749</td>\n",
              "      <td>0</td>\n",
              "      <td>0.008058</td>\n",
              "      <td>0.014166</td>\n",
              "      <td>0.010283</td>\n",
              "      <td>92</td>\n",
              "      <td>4</td>\n",
              "      <td>92</td>\n",
              "      <td>...</td>\n",
              "      <td>-0.026939</td>\n",
              "      <td>0.022598</td>\n",
              "      <td>-12.905691</td>\n",
              "      <td>-180.258028</td>\n",
              "      <td>0.071596</td>\n",
              "      <td>-0.613542</td>\n",
              "      <td>-0.613542</td>\n",
              "      <td>-1.046168</td>\n",
              "      <td>-0.785954</td>\n",
              "      <td>-0.871965</td>\n",
              "    </tr>\n",
              "  </tbody>\n",
              "</table>\n",
              "<p>5 rows × 200 columns</p>\n",
              "</div>\n",
              "      <button class=\"colab-df-convert\" onclick=\"convertToInteractive('df-bb903585-ba2c-419f-9719-5a9c63409646')\"\n",
              "              title=\"Convert this dataframe to an interactive table.\"\n",
              "              style=\"display:none;\">\n",
              "        \n",
              "  <svg xmlns=\"http://www.w3.org/2000/svg\" height=\"24px\"viewBox=\"0 0 24 24\"\n",
              "       width=\"24px\">\n",
              "    <path d=\"M0 0h24v24H0V0z\" fill=\"none\"/>\n",
              "    <path d=\"M18.56 5.44l.94 2.06.94-2.06 2.06-.94-2.06-.94-.94-2.06-.94 2.06-2.06.94zm-11 1L8.5 8.5l.94-2.06 2.06-.94-2.06-.94L8.5 2.5l-.94 2.06-2.06.94zm10 10l.94 2.06.94-2.06 2.06-.94-2.06-.94-.94-2.06-.94 2.06-2.06.94z\"/><path d=\"M17.41 7.96l-1.37-1.37c-.4-.4-.92-.59-1.43-.59-.52 0-1.04.2-1.43.59L10.3 9.45l-7.72 7.72c-.78.78-.78 2.05 0 2.83L4 21.41c.39.39.9.59 1.41.59.51 0 1.02-.2 1.41-.59l7.78-7.78 2.81-2.81c.8-.78.8-2.07 0-2.86zM5.41 20L4 18.59l7.72-7.72 1.47 1.35L5.41 20z\"/>\n",
              "  </svg>\n",
              "      </button>\n",
              "      \n",
              "  <style>\n",
              "    .colab-df-container {\n",
              "      display:flex;\n",
              "      flex-wrap:wrap;\n",
              "      gap: 12px;\n",
              "    }\n",
              "\n",
              "    .colab-df-convert {\n",
              "      background-color: #E8F0FE;\n",
              "      border: none;\n",
              "      border-radius: 50%;\n",
              "      cursor: pointer;\n",
              "      display: none;\n",
              "      fill: #1967D2;\n",
              "      height: 32px;\n",
              "      padding: 0 0 0 0;\n",
              "      width: 32px;\n",
              "    }\n",
              "\n",
              "    .colab-df-convert:hover {\n",
              "      background-color: #E2EBFA;\n",
              "      box-shadow: 0px 1px 2px rgba(60, 64, 67, 0.3), 0px 1px 3px 1px rgba(60, 64, 67, 0.15);\n",
              "      fill: #174EA6;\n",
              "    }\n",
              "\n",
              "    [theme=dark] .colab-df-convert {\n",
              "      background-color: #3B4455;\n",
              "      fill: #D2E3FC;\n",
              "    }\n",
              "\n",
              "    [theme=dark] .colab-df-convert:hover {\n",
              "      background-color: #434B5C;\n",
              "      box-shadow: 0px 1px 3px 1px rgba(0, 0, 0, 0.15);\n",
              "      filter: drop-shadow(0px 1px 2px rgba(0, 0, 0, 0.3));\n",
              "      fill: #FFFFFF;\n",
              "    }\n",
              "  </style>\n",
              "\n",
              "      <script>\n",
              "        const buttonEl =\n",
              "          document.querySelector('#df-bb903585-ba2c-419f-9719-5a9c63409646 button.colab-df-convert');\n",
              "        buttonEl.style.display =\n",
              "          google.colab.kernel.accessAllowed ? 'block' : 'none';\n",
              "\n",
              "        async function convertToInteractive(key) {\n",
              "          const element = document.querySelector('#df-bb903585-ba2c-419f-9719-5a9c63409646');\n",
              "          const dataTable =\n",
              "            await google.colab.kernel.invokeFunction('convertToInteractive',\n",
              "                                                     [key], {});\n",
              "          if (!dataTable) return;\n",
              "\n",
              "          const docLinkHtml = 'Like what you see? Visit the ' +\n",
              "            '<a target=\"_blank\" href=https://colab.research.google.com/notebooks/data_table.ipynb>data table notebook</a>'\n",
              "            + ' to learn more about interactive tables.';\n",
              "          element.innerHTML = '';\n",
              "          dataTable['output_type'] = 'display_data';\n",
              "          await google.colab.output.renderOutput(dataTable, element);\n",
              "          const docLink = document.createElement('div');\n",
              "          docLink.innerHTML = docLinkHtml;\n",
              "          element.appendChild(docLink);\n",
              "        }\n",
              "      </script>\n",
              "    </div>\n",
              "  </div>\n",
              "  "
            ]
          },
          "metadata": {},
          "execution_count": 120
        }
      ]
    },
    {
      "cell_type": "code",
      "source": [
        "print('This is the outlier data points:')\n",
        "outliers.head()"
      ],
      "metadata": {
        "colab": {
          "base_uri": "https://localhost:8080/",
          "height": 317
        },
        "id": "-TVD-5RxETRm",
        "outputId": "2c651ce8-ee40-406e-bf8e-d75b8b61369e"
      },
      "execution_count": null,
      "outputs": [
        {
          "output_type": "stream",
          "name": "stdout",
          "text": [
            "This is the outlier data points:\n"
          ]
        },
        {
          "output_type": "execute_result",
          "data": {
            "text/plain": [
              "    first_active_month          card_id     target  outliers  feature_1_mean  \\\n",
              "64             2017-09  C_ID_8186f3fcc1 -33.219281         1        0.010479   \n",
              "92             2015-05  C_ID_b9379a30ea -33.219281         1        0.010479   \n",
              "125            2015-10  C_ID_e9120f535c -33.219281         1        0.010479   \n",
              "151            2017-03  C_ID_65715cb80d -33.219281         1        0.010712   \n",
              "225            2017-01  C_ID_ae77d244b6 -33.219281         1        0.010610   \n",
              "\n",
              "     feature_2_mean  feature_3_mean  days  quarter  days_feature_1  ...  \\\n",
              "64         0.011385        0.011428   153        3             459  ...   \n",
              "92         0.014166        0.011428  1007        2            3021  ...   \n",
              "125        0.014166        0.011428   854        4            2562  ...   \n",
              "151        0.008752        0.010283   337        1            1348  ...   \n",
              "225        0.011385        0.010283   396        1             792  ...   \n",
              "\n",
              "     amount_month_ratio_min  amount_month_ratio_max     new_CLV    hist_CLV  \\\n",
              "64                -0.026441                0.006520   -1.670814  -60.439204   \n",
              "92                -0.024906               -0.001746   -0.191009  -17.793865   \n",
              "125               -0.027163               -0.026784 -139.712383  -33.984137   \n",
              "151               -0.027163               -0.026784 -139.712383 -433.178256   \n",
              "225               -0.026403               -0.014385   -0.090959  -38.625836   \n",
              "\n",
              "        CLV_ratio  authorized_flag_new_mean_encoded  \\\n",
              "64       0.027645                         -0.613542   \n",
              "92       0.010735                         -0.613542   \n",
              "125 -66793.249892                         -0.613542   \n",
              "151 -66793.249892                         -0.613542   \n",
              "225      0.002355                         -0.613542   \n",
              "\n",
              "     category_1_new_mean_encoded  month_lag_new_mean_encoded  \\\n",
              "64                     -0.613542                   -1.046168   \n",
              "92                     -0.613542                   -1.046168   \n",
              "125                    -0.613542                   -1.046168   \n",
              "151                    -0.613542                   -1.046168   \n",
              "225                    -0.613542                   -1.046168   \n",
              "\n",
              "     installments_new_mean_encoded  category_2_new_mean_encoded  \n",
              "64                       -0.785954                    -0.871965  \n",
              "92                       -0.785954                    -0.871965  \n",
              "125                      -0.785954                    -0.871965  \n",
              "151                      -0.785954                    -0.871965  \n",
              "225                      -0.785954                    -0.871965  \n",
              "\n",
              "[5 rows x 200 columns]"
            ],
            "text/html": [
              "\n",
              "  <div id=\"df-db7276e8-c2a0-406d-9623-29dce1fd4852\">\n",
              "    <div class=\"colab-df-container\">\n",
              "      <div>\n",
              "<style scoped>\n",
              "    .dataframe tbody tr th:only-of-type {\n",
              "        vertical-align: middle;\n",
              "    }\n",
              "\n",
              "    .dataframe tbody tr th {\n",
              "        vertical-align: top;\n",
              "    }\n",
              "\n",
              "    .dataframe thead th {\n",
              "        text-align: right;\n",
              "    }\n",
              "</style>\n",
              "<table border=\"1\" class=\"dataframe\">\n",
              "  <thead>\n",
              "    <tr style=\"text-align: right;\">\n",
              "      <th></th>\n",
              "      <th>first_active_month</th>\n",
              "      <th>card_id</th>\n",
              "      <th>target</th>\n",
              "      <th>outliers</th>\n",
              "      <th>feature_1_mean</th>\n",
              "      <th>feature_2_mean</th>\n",
              "      <th>feature_3_mean</th>\n",
              "      <th>days</th>\n",
              "      <th>quarter</th>\n",
              "      <th>days_feature_1</th>\n",
              "      <th>...</th>\n",
              "      <th>amount_month_ratio_min</th>\n",
              "      <th>amount_month_ratio_max</th>\n",
              "      <th>new_CLV</th>\n",
              "      <th>hist_CLV</th>\n",
              "      <th>CLV_ratio</th>\n",
              "      <th>authorized_flag_new_mean_encoded</th>\n",
              "      <th>category_1_new_mean_encoded</th>\n",
              "      <th>month_lag_new_mean_encoded</th>\n",
              "      <th>installments_new_mean_encoded</th>\n",
              "      <th>category_2_new_mean_encoded</th>\n",
              "    </tr>\n",
              "  </thead>\n",
              "  <tbody>\n",
              "    <tr>\n",
              "      <th>64</th>\n",
              "      <td>2017-09</td>\n",
              "      <td>C_ID_8186f3fcc1</td>\n",
              "      <td>-33.219281</td>\n",
              "      <td>1</td>\n",
              "      <td>0.010479</td>\n",
              "      <td>0.011385</td>\n",
              "      <td>0.011428</td>\n",
              "      <td>153</td>\n",
              "      <td>3</td>\n",
              "      <td>459</td>\n",
              "      <td>...</td>\n",
              "      <td>-0.026441</td>\n",
              "      <td>0.006520</td>\n",
              "      <td>-1.670814</td>\n",
              "      <td>-60.439204</td>\n",
              "      <td>0.027645</td>\n",
              "      <td>-0.613542</td>\n",
              "      <td>-0.613542</td>\n",
              "      <td>-1.046168</td>\n",
              "      <td>-0.785954</td>\n",
              "      <td>-0.871965</td>\n",
              "    </tr>\n",
              "    <tr>\n",
              "      <th>92</th>\n",
              "      <td>2015-05</td>\n",
              "      <td>C_ID_b9379a30ea</td>\n",
              "      <td>-33.219281</td>\n",
              "      <td>1</td>\n",
              "      <td>0.010479</td>\n",
              "      <td>0.014166</td>\n",
              "      <td>0.011428</td>\n",
              "      <td>1007</td>\n",
              "      <td>2</td>\n",
              "      <td>3021</td>\n",
              "      <td>...</td>\n",
              "      <td>-0.024906</td>\n",
              "      <td>-0.001746</td>\n",
              "      <td>-0.191009</td>\n",
              "      <td>-17.793865</td>\n",
              "      <td>0.010735</td>\n",
              "      <td>-0.613542</td>\n",
              "      <td>-0.613542</td>\n",
              "      <td>-1.046168</td>\n",
              "      <td>-0.785954</td>\n",
              "      <td>-0.871965</td>\n",
              "    </tr>\n",
              "    <tr>\n",
              "      <th>125</th>\n",
              "      <td>2015-10</td>\n",
              "      <td>C_ID_e9120f535c</td>\n",
              "      <td>-33.219281</td>\n",
              "      <td>1</td>\n",
              "      <td>0.010479</td>\n",
              "      <td>0.014166</td>\n",
              "      <td>0.011428</td>\n",
              "      <td>854</td>\n",
              "      <td>4</td>\n",
              "      <td>2562</td>\n",
              "      <td>...</td>\n",
              "      <td>-0.027163</td>\n",
              "      <td>-0.026784</td>\n",
              "      <td>-139.712383</td>\n",
              "      <td>-33.984137</td>\n",
              "      <td>-66793.249892</td>\n",
              "      <td>-0.613542</td>\n",
              "      <td>-0.613542</td>\n",
              "      <td>-1.046168</td>\n",
              "      <td>-0.785954</td>\n",
              "      <td>-0.871965</td>\n",
              "    </tr>\n",
              "    <tr>\n",
              "      <th>151</th>\n",
              "      <td>2017-03</td>\n",
              "      <td>C_ID_65715cb80d</td>\n",
              "      <td>-33.219281</td>\n",
              "      <td>1</td>\n",
              "      <td>0.010712</td>\n",
              "      <td>0.008752</td>\n",
              "      <td>0.010283</td>\n",
              "      <td>337</td>\n",
              "      <td>1</td>\n",
              "      <td>1348</td>\n",
              "      <td>...</td>\n",
              "      <td>-0.027163</td>\n",
              "      <td>-0.026784</td>\n",
              "      <td>-139.712383</td>\n",
              "      <td>-433.178256</td>\n",
              "      <td>-66793.249892</td>\n",
              "      <td>-0.613542</td>\n",
              "      <td>-0.613542</td>\n",
              "      <td>-1.046168</td>\n",
              "      <td>-0.785954</td>\n",
              "      <td>-0.871965</td>\n",
              "    </tr>\n",
              "    <tr>\n",
              "      <th>225</th>\n",
              "      <td>2017-01</td>\n",
              "      <td>C_ID_ae77d244b6</td>\n",
              "      <td>-33.219281</td>\n",
              "      <td>1</td>\n",
              "      <td>0.010610</td>\n",
              "      <td>0.011385</td>\n",
              "      <td>0.010283</td>\n",
              "      <td>396</td>\n",
              "      <td>1</td>\n",
              "      <td>792</td>\n",
              "      <td>...</td>\n",
              "      <td>-0.026403</td>\n",
              "      <td>-0.014385</td>\n",
              "      <td>-0.090959</td>\n",
              "      <td>-38.625836</td>\n",
              "      <td>0.002355</td>\n",
              "      <td>-0.613542</td>\n",
              "      <td>-0.613542</td>\n",
              "      <td>-1.046168</td>\n",
              "      <td>-0.785954</td>\n",
              "      <td>-0.871965</td>\n",
              "    </tr>\n",
              "  </tbody>\n",
              "</table>\n",
              "<p>5 rows × 200 columns</p>\n",
              "</div>\n",
              "      <button class=\"colab-df-convert\" onclick=\"convertToInteractive('df-db7276e8-c2a0-406d-9623-29dce1fd4852')\"\n",
              "              title=\"Convert this dataframe to an interactive table.\"\n",
              "              style=\"display:none;\">\n",
              "        \n",
              "  <svg xmlns=\"http://www.w3.org/2000/svg\" height=\"24px\"viewBox=\"0 0 24 24\"\n",
              "       width=\"24px\">\n",
              "    <path d=\"M0 0h24v24H0V0z\" fill=\"none\"/>\n",
              "    <path d=\"M18.56 5.44l.94 2.06.94-2.06 2.06-.94-2.06-.94-.94-2.06-.94 2.06-2.06.94zm-11 1L8.5 8.5l.94-2.06 2.06-.94-2.06-.94L8.5 2.5l-.94 2.06-2.06.94zm10 10l.94 2.06.94-2.06 2.06-.94-2.06-.94-.94-2.06-.94 2.06-2.06.94z\"/><path d=\"M17.41 7.96l-1.37-1.37c-.4-.4-.92-.59-1.43-.59-.52 0-1.04.2-1.43.59L10.3 9.45l-7.72 7.72c-.78.78-.78 2.05 0 2.83L4 21.41c.39.39.9.59 1.41.59.51 0 1.02-.2 1.41-.59l7.78-7.78 2.81-2.81c.8-.78.8-2.07 0-2.86zM5.41 20L4 18.59l7.72-7.72 1.47 1.35L5.41 20z\"/>\n",
              "  </svg>\n",
              "      </button>\n",
              "      \n",
              "  <style>\n",
              "    .colab-df-container {\n",
              "      display:flex;\n",
              "      flex-wrap:wrap;\n",
              "      gap: 12px;\n",
              "    }\n",
              "\n",
              "    .colab-df-convert {\n",
              "      background-color: #E8F0FE;\n",
              "      border: none;\n",
              "      border-radius: 50%;\n",
              "      cursor: pointer;\n",
              "      display: none;\n",
              "      fill: #1967D2;\n",
              "      height: 32px;\n",
              "      padding: 0 0 0 0;\n",
              "      width: 32px;\n",
              "    }\n",
              "\n",
              "    .colab-df-convert:hover {\n",
              "      background-color: #E2EBFA;\n",
              "      box-shadow: 0px 1px 2px rgba(60, 64, 67, 0.3), 0px 1px 3px 1px rgba(60, 64, 67, 0.15);\n",
              "      fill: #174EA6;\n",
              "    }\n",
              "\n",
              "    [theme=dark] .colab-df-convert {\n",
              "      background-color: #3B4455;\n",
              "      fill: #D2E3FC;\n",
              "    }\n",
              "\n",
              "    [theme=dark] .colab-df-convert:hover {\n",
              "      background-color: #434B5C;\n",
              "      box-shadow: 0px 1px 3px 1px rgba(0, 0, 0, 0.15);\n",
              "      filter: drop-shadow(0px 1px 2px rgba(0, 0, 0, 0.3));\n",
              "      fill: #FFFFFF;\n",
              "    }\n",
              "  </style>\n",
              "\n",
              "      <script>\n",
              "        const buttonEl =\n",
              "          document.querySelector('#df-db7276e8-c2a0-406d-9623-29dce1fd4852 button.colab-df-convert');\n",
              "        buttonEl.style.display =\n",
              "          google.colab.kernel.accessAllowed ? 'block' : 'none';\n",
              "\n",
              "        async function convertToInteractive(key) {\n",
              "          const element = document.querySelector('#df-db7276e8-c2a0-406d-9623-29dce1fd4852');\n",
              "          const dataTable =\n",
              "            await google.colab.kernel.invokeFunction('convertToInteractive',\n",
              "                                                     [key], {});\n",
              "          if (!dataTable) return;\n",
              "\n",
              "          const docLinkHtml = 'Like what you see? Visit the ' +\n",
              "            '<a target=\"_blank\" href=https://colab.research.google.com/notebooks/data_table.ipynb>data table notebook</a>'\n",
              "            + ' to learn more about interactive tables.';\n",
              "          element.innerHTML = '';\n",
              "          dataTable['output_type'] = 'display_data';\n",
              "          await google.colab.output.renderOutput(dataTable, element);\n",
              "          const docLink = document.createElement('div');\n",
              "          docLink.innerHTML = docLinkHtml;\n",
              "          element.appendChild(docLink);\n",
              "        }\n",
              "      </script>\n",
              "    </div>\n",
              "  </div>\n",
              "  "
            ]
          },
          "metadata": {},
          "execution_count": 121
        }
      ]
    },
    {
      "cell_type": "markdown",
      "source": [
        "Feature names of the train data just exclude some features"
      ],
      "metadata": {
        "id": "gaocP4P7EV9C"
      }
    },
    {
      "cell_type": "markdown",
      "metadata": {
        "id": "lpmalKzPuXtQ"
      },
      "source": [
        "### **4. Model Building**"
      ]
    },
    {
      "cell_type": "code",
      "execution_count": 5,
      "metadata": {
        "id": "t5PK-xg6Vp3C",
        "colab": {
          "base_uri": "https://localhost:8080/"
        },
        "outputId": "40d5acb7-eb99-403b-bd53-4790e53fad21"
      },
      "outputs": [
        {
          "output_type": "stream",
          "name": "stdout",
          "text": [
            "CPU times: user 3 µs, sys: 0 ns, total: 3 µs\n",
            "Wall time: 5.72 µs\n",
            " The  decrease in memory usage from 92.62MB to (69.9% reduction)\n",
            " The  decrease in memory usage from 55.06MB to (70.8% reduction)\n"
          ]
        }
      ],
      "source": [
        "%time\n",
        "train = reduce_mem_usage(pd.read_csv('/content/drive/MyDrive/Python_Datasets/Case_study_1/train_FE2.csv'))\n",
        "test = reduce_mem_usage(pd.read_csv('/content/drive/MyDrive/Python_Datasets/Case_study_1/test_FE2.csv'))"
      ]
    },
    {
      "cell_type": "markdown",
      "metadata": {
        "id": "XRKvbKXIuqg7"
      },
      "source": [
        "**4.1 Train repeated k-fold with lgbm**"
      ]
    },
    {
      "cell_type": "code",
      "source": [
        "omit = ['first_active_month', 'target','merchant_id', 'card_id', 'outliers',\n",
        "                  'hist_purchase_date_max', 'hist_purchase_date_min', 'hist_card_id_size',\n",
        "                  'new_purchase_date_max', 'new_purchase_date_min', 'new_card_id_size', 'target_f']\n",
        "data_frame_columns = [i for i in train.columns if i not in omit]\n",
        "categorical_feats = [c for c in data_frame_columns if 'feature_' in c]"
      ],
      "metadata": {
        "id": "Y_x3ojXQEVml"
      },
      "execution_count": 7,
      "outputs": []
    },
    {
      "cell_type": "code",
      "source": [
        "from sklearn.linear_model import BayesianRidge\n",
        "number_of_folds = RepeatedKFold(n_splits=5, n_repeats=2, random_state=4950)\n",
        "predictions_target = np.zeros(len(train))\n",
        "predictions_target_test = np.zeros(len(test))\n",
        "data_frame_feature_importance = pd.DataFrame()\n",
        "dimensions = data_frame_columns"
      ],
      "metadata": {
        "id": "ISb2mLXoEbOi"
      },
      "execution_count": 8,
      "outputs": []
    },
    {
      "cell_type": "markdown",
      "source": [
        "###**5. Hyperparameter Tuning**"
      ],
      "metadata": {
        "id": "NGD27hAbTLV3"
      }
    },
    {
      "cell_type": "code",
      "source": [
        "def LGB_CV(max_depth,num_leaves,min_data_in_leaf, min_child_weight, min_split_gain, \n",
        "           subsample, top_rate, other_rate,colsample_bytree,reg_alpha,reg_lambda\n",
        "         ):\n",
        "    \n",
        "    folds = KFold(n_splits=5, shuffle=True, random_state=15)\n",
        "    oof = np.zeros(train.shape[0])\n",
        "\n",
        "    for fold_, (trn_idx, val_idx) in enumerate(folds.split(train.values, target.values)):\n",
        "        print(\"fold n°{}\".format(fold_))\n",
        "        trn_data = lgb.Dataset(train.iloc[trn_idx][data_frame_columns],\n",
        "                               label=target.iloc[trn_idx])\n",
        "        val_data = lgb.Dataset(train.iloc[val_idx][data_frame_columns],\n",
        "                               label=target.iloc[val_idx])\n",
        "    \n",
        "        param = {\n",
        "            'num_leaves': int(num_leaves),\n",
        "            'min_data_in_leaf': int(min_data_in_leaf), \n",
        "            'objective':'regression',\n",
        "            'max_depth': int(max_depth),\n",
        "            'learning_rate': 0.01,\n",
        "            \"boosting\": \"gbdt\",\n",
        "            \"bagging_seed\": 11,\n",
        "            \"metric\": 'rmse',\n",
        "            'min_child_weight': min_child_weight,\n",
        "            'min_split_gain': min_split_gain,\n",
        "            'subsample': subsample,\n",
        "            'top_rate': top_rate,\n",
        "            'other_rate':other_rate,\n",
        "            'colsample_bytree':colsample_bytree,\n",
        "            'reg_alpha': reg_alpha,\n",
        "            'reg_lambda': reg_lambda,\n",
        "            \"verbosity\": -1\n",
        "        }\n",
        "    \n",
        "        clf = lgb.train(param,\n",
        "                        trn_data,\n",
        "                        10000,\n",
        "                        valid_sets = [trn_data, val_data],\n",
        "                        verbose_eval=500,\n",
        "                        early_stopping_rounds = 200)\n",
        "        \n",
        "        oof[val_idx] = clf.predict(train.iloc[val_idx][data_frame_columns],\n",
        "                                   num_iteration=clf.best_iteration)\n",
        "        \n",
        "        del clf, trn_idx, val_idx\n",
        "        gc.collect()\n",
        "        \n",
        "    return -mean_squared_error(oof, target)**0.5"
      ],
      "metadata": {
        "id": "f6oipqiCXdsW"
      },
      "execution_count": 9,
      "outputs": []
    },
    {
      "cell_type": "code",
      "source": [
        "LGB_BO = BayesianOptimization(LGB_CV, {\n",
        "    'max_depth': (4, 10),\n",
        "    'num_leaves': (5, 65),\n",
        "    'min_data_in_leaf': (10, 30),\n",
        "    'min_child_weight': (5, 60),\n",
        "    'min_split_gain': (5, 15),\n",
        "    'subsample': (0.8, 1),\n",
        "    'top_rate': (0.9, 1),\n",
        "    'other_rate': (0, 0.1),\n",
        "    'colsample_bytree': (0, 0.99),\n",
        "    'reg_alpha': (5, 15),\n",
        "    'reg_lambda': (5, 15)\n",
        "    })"
      ],
      "metadata": {
        "id": "xudSZQhdXdk7"
      },
      "execution_count": 10,
      "outputs": []
    },
    {
      "cell_type": "code",
      "source": [
        "def timer(start_time=None):\n",
        "    if not start_time:\n",
        "        start_time = datetime.now()\n",
        "        return start_time\n",
        "    elif start_time:\n",
        "        thour, temp_sec = divmod(\n",
        "            (datetime.now() - start_time).total_seconds(), 3600)\n",
        "        tmin, tsec = divmod(temp_sec, 60)\n",
        "        print('\\n Time taken: %i hours %i minutes and %s seconds.' % (thour, tmin, round(tsec, 2)))"
      ],
      "metadata": {
        "id": "vet7CA7sX2FX"
      },
      "execution_count": 11,
      "outputs": []
    },
    {
      "cell_type": "code",
      "source": [
        "print('-'*126)\n",
        "\n",
        "start_time = timer(None)\n",
        "with warnings.catch_warnings():\n",
        "    warnings.filterwarnings('ignore')\n",
        "    LGB_BO.maximize(init_points=2, n_iter=20, acq='ei', xi=0.0)\n",
        "timer(start_time)"
      ],
      "metadata": {
        "colab": {
          "base_uri": "https://localhost:8080/"
        },
        "id": "Uxx_KcHOX5Rv",
        "outputId": "2e59ac95-cf07-441d-f6a0-e826fa7ad7e5"
      },
      "execution_count": null,
      "outputs": [
        {
          "output_type": "stream",
          "name": "stdout",
          "text": [
            "------------------------------------------------------------------------------------------------------------------------------\n",
            "|   iter    |  target   | colsam... | max_depth | min_ch... | min_da... | min_sp... | num_le... | other_... | reg_alpha | reg_la... | subsample | top_rate  |\n",
            "-------------------------------------------------------------------------------------------------------------------------------------------------------------\n",
            "fold n°0\n",
            "Training until validation scores don't improve for 200 rounds.\n",
            "[500]\ttraining's rmse: 3.63172\tvalid_1's rmse: 3.69426\n",
            "[1000]\ttraining's rmse: 3.59425\tvalid_1's rmse: 3.6834\n",
            "[1500]\ttraining's rmse: 3.56735\tvalid_1's rmse: 3.68069\n",
            "[2000]\ttraining's rmse: 3.54551\tvalid_1's rmse: 3.68013\n",
            "Early stopping, best iteration is:\n",
            "[1927]\ttraining's rmse: 3.54851\tvalid_1's rmse: 3.68009\n",
            "fold n°1\n",
            "Training until validation scores don't improve for 200 rounds.\n",
            "[500]\ttraining's rmse: 3.64762\tvalid_1's rmse: 3.63392\n",
            "[1000]\ttraining's rmse: 3.61015\tvalid_1's rmse: 3.62464\n",
            "[1500]\ttraining's rmse: 3.58349\tvalid_1's rmse: 3.62066\n",
            "[2000]\ttraining's rmse: 3.55878\tvalid_1's rmse: 3.61856\n",
            "[2500]\ttraining's rmse: 3.53553\tvalid_1's rmse: 3.617\n",
            "Early stopping, best iteration is:\n",
            "[2618]\ttraining's rmse: 3.53038\tvalid_1's rmse: 3.61677\n",
            "fold n°2\n",
            "Training until validation scores don't improve for 200 rounds.\n",
            "[500]\ttraining's rmse: 3.653\tvalid_1's rmse: 3.61027\n",
            "[1000]\ttraining's rmse: 3.61661\tvalid_1's rmse: 3.60088\n",
            "[1500]\ttraining's rmse: 3.59247\tvalid_1's rmse: 3.59861\n",
            "[2000]\ttraining's rmse: 3.56878\tvalid_1's rmse: 3.59717\n",
            "Early stopping, best iteration is:\n",
            "[2090]\ttraining's rmse: 3.56488\tvalid_1's rmse: 3.59677\n",
            "fold n°3\n",
            "Training until validation scores don't improve for 200 rounds.\n",
            "[500]\ttraining's rmse: 3.60163\tvalid_1's rmse: 3.80059\n",
            "[1000]\ttraining's rmse: 3.56294\tvalid_1's rmse: 3.79147\n",
            "[1500]\ttraining's rmse: 3.53516\tvalid_1's rmse: 3.78761\n",
            "[2000]\ttraining's rmse: 3.51346\tvalid_1's rmse: 3.78587\n",
            "[2500]\ttraining's rmse: 3.49155\tvalid_1's rmse: 3.78525\n",
            "Early stopping, best iteration is:\n",
            "[2344]\ttraining's rmse: 3.49844\tvalid_1's rmse: 3.78511\n",
            "fold n°4\n",
            "Training until validation scores don't improve for 200 rounds.\n",
            "[500]\ttraining's rmse: 3.64858\tvalid_1's rmse: 3.62693\n",
            "[1000]\ttraining's rmse: 3.61011\tvalid_1's rmse: 3.61934\n",
            "[1500]\ttraining's rmse: 3.5835\tvalid_1's rmse: 3.61728\n",
            "Early stopping, best iteration is:\n",
            "[1573]\ttraining's rmse: 3.5796\tvalid_1's rmse: 3.61715\n",
            "| \u001b[0m1        \u001b[0m | \u001b[0m-3.66    \u001b[0m | \u001b[0m0.8343   \u001b[0m | \u001b[0m4.166    \u001b[0m | \u001b[0m20.7     \u001b[0m | \u001b[0m21.57    \u001b[0m | \u001b[0m8.316    \u001b[0m | \u001b[0m34.16    \u001b[0m | \u001b[0m0.03104  \u001b[0m | \u001b[0m14.32    \u001b[0m | \u001b[0m14.12    \u001b[0m | \u001b[0m0.9507   \u001b[0m | \u001b[0m0.9176   \u001b[0m |\n",
            "fold n°0\n",
            "Training until validation scores don't improve for 200 rounds.\n",
            "[500]\ttraining's rmse: 3.58143\tvalid_1's rmse: 3.69058\n",
            "[1000]\ttraining's rmse: 3.52711\tvalid_1's rmse: 3.68082\n",
            "[1500]\ttraining's rmse: 3.48665\tvalid_1's rmse: 3.67944\n",
            "[2000]\ttraining's rmse: 3.45278\tvalid_1's rmse: 3.67876\n",
            "[2500]\ttraining's rmse: 3.42026\tvalid_1's rmse: 3.6783\n",
            "Early stopping, best iteration is:\n",
            "[2366]\ttraining's rmse: 3.42878\tvalid_1's rmse: 3.67795\n",
            "fold n°1\n",
            "Training until validation scores don't improve for 200 rounds.\n",
            "[500]\ttraining's rmse: 3.59709\tvalid_1's rmse: 3.63085\n",
            "[1000]\ttraining's rmse: 3.53812\tvalid_1's rmse: 3.61981\n",
            "[1500]\ttraining's rmse: 3.49816\tvalid_1's rmse: 3.61722\n",
            "[2000]\ttraining's rmse: 3.46452\tvalid_1's rmse: 3.6163\n",
            "Early stopping, best iteration is:\n",
            "[2000]\ttraining's rmse: 3.46452\tvalid_1's rmse: 3.6163\n",
            "fold n°2\n",
            "Training until validation scores don't improve for 200 rounds.\n",
            "[500]\ttraining's rmse: 3.60228\tvalid_1's rmse: 3.6059\n",
            "[1000]\ttraining's rmse: 3.54612\tvalid_1's rmse: 3.59689\n",
            "[1500]\ttraining's rmse: 3.50516\tvalid_1's rmse: 3.59566\n",
            "[2000]\ttraining's rmse: 3.46948\tvalid_1's rmse: 3.59488\n",
            "Early stopping, best iteration is:\n",
            "[2195]\ttraining's rmse: 3.45595\tvalid_1's rmse: 3.59448\n",
            "fold n°3\n",
            "Training until validation scores don't improve for 200 rounds.\n",
            "[500]\ttraining's rmse: 3.5521\tvalid_1's rmse: 3.79422\n",
            "[1000]\ttraining's rmse: 3.49533\tvalid_1's rmse: 3.78589\n",
            "[1500]\ttraining's rmse: 3.45403\tvalid_1's rmse: 3.78413\n",
            "Early stopping, best iteration is:\n",
            "[1609]\ttraining's rmse: 3.4456\tvalid_1's rmse: 3.78387\n",
            "fold n°4\n",
            "Training until validation scores don't improve for 200 rounds.\n",
            "[500]\ttraining's rmse: 3.59388\tvalid_1's rmse: 3.62595\n",
            "[1000]\ttraining's rmse: 3.53869\tvalid_1's rmse: 3.61891\n",
            "Early stopping, best iteration is:\n",
            "[1296]\ttraining's rmse: 3.51526\tvalid_1's rmse: 3.61752\n",
            "| \u001b[95m2        \u001b[0m | \u001b[95m-3.659   \u001b[0m | \u001b[95m0.8165   \u001b[0m | \u001b[95m9.189    \u001b[0m | \u001b[95m59.26    \u001b[0m | \u001b[95m14.83    \u001b[0m | \u001b[95m9.142    \u001b[0m | \u001b[95m16.16    \u001b[0m | \u001b[95m0.01828  \u001b[0m | \u001b[95m5.442    \u001b[0m | \u001b[95m6.363    \u001b[0m | \u001b[95m0.9958   \u001b[0m | \u001b[95m0.9438   \u001b[0m |\n",
            "fold n°0\n",
            "Training until validation scores don't improve for 200 rounds.\n",
            "[500]\ttraining's rmse: 3.60574\tvalid_1's rmse: 3.6952\n",
            "[1000]\ttraining's rmse: 3.54716\tvalid_1's rmse: 3.68129\n",
            "[1500]\ttraining's rmse: 3.50774\tvalid_1's rmse: 3.6775\n",
            "[2000]\ttraining's rmse: 3.4759\tvalid_1's rmse: 3.6764\n",
            "Early stopping, best iteration is:\n",
            "[2257]\ttraining's rmse: 3.46125\tvalid_1's rmse: 3.67614\n",
            "fold n°1\n",
            "Training until validation scores don't improve for 200 rounds.\n",
            "[500]\ttraining's rmse: 3.62192\tvalid_1's rmse: 3.63826\n",
            "[1000]\ttraining's rmse: 3.56316\tvalid_1's rmse: 3.62362\n",
            "[1500]\ttraining's rmse: 3.5228\tvalid_1's rmse: 3.61862\n",
            "[2000]\ttraining's rmse: 3.48947\tvalid_1's rmse: 3.61665\n",
            "[2500]\ttraining's rmse: 3.46213\tvalid_1's rmse: 3.61497\n",
            "[3000]\ttraining's rmse: 3.43715\tvalid_1's rmse: 3.61439\n",
            "[3500]\ttraining's rmse: 3.41261\tvalid_1's rmse: 3.61392\n",
            "[4000]\ttraining's rmse: 3.38897\tvalid_1's rmse: 3.61334\n",
            "Early stopping, best iteration is:\n",
            "[3923]\ttraining's rmse: 3.39271\tvalid_1's rmse: 3.61322\n",
            "fold n°2\n",
            "Training until validation scores don't improve for 200 rounds.\n",
            "[500]\ttraining's rmse: 3.62548\tvalid_1's rmse: 3.60971\n",
            "[1000]\ttraining's rmse: 3.56636\tvalid_1's rmse: 3.59619\n",
            "[1500]\ttraining's rmse: 3.52712\tvalid_1's rmse: 3.592\n",
            "[2000]\ttraining's rmse: 3.49516\tvalid_1's rmse: 3.59079\n",
            "Early stopping, best iteration is:\n",
            "[2000]\ttraining's rmse: 3.49516\tvalid_1's rmse: 3.59079\n",
            "fold n°3\n",
            "Training until validation scores don't improve for 200 rounds.\n",
            "[500]\ttraining's rmse: 3.57514\tvalid_1's rmse: 3.8074\n",
            "[1000]\ttraining's rmse: 3.51612\tvalid_1's rmse: 3.79417\n",
            "[1500]\ttraining's rmse: 3.47716\tvalid_1's rmse: 3.79089\n",
            "[2000]\ttraining's rmse: 3.4453\tvalid_1's rmse: 3.78904\n",
            "[2500]\ttraining's rmse: 3.41809\tvalid_1's rmse: 3.78816\n",
            "[3000]\ttraining's rmse: 3.39284\tvalid_1's rmse: 3.78722\n",
            "[3500]\ttraining's rmse: 3.36852\tvalid_1's rmse: 3.78662\n",
            "Early stopping, best iteration is:\n",
            "[3328]\ttraining's rmse: 3.37672\tvalid_1's rmse: 3.78636\n",
            "fold n°4\n",
            "Training until validation scores don't improve for 200 rounds.\n",
            "[500]\ttraining's rmse: 3.61903\tvalid_1's rmse: 3.63252\n",
            "[1000]\ttraining's rmse: 3.56\tvalid_1's rmse: 3.62017\n",
            "[1500]\ttraining's rmse: 3.52106\tvalid_1's rmse: 3.61662\n",
            "[2000]\ttraining's rmse: 3.48908\tvalid_1's rmse: 3.61525\n",
            "Early stopping, best iteration is:\n",
            "[2217]\ttraining's rmse: 3.47649\tvalid_1's rmse: 3.61473\n",
            "| \u001b[95m3        \u001b[0m | \u001b[95m-3.657   \u001b[0m | \u001b[95m0.1388   \u001b[0m | \u001b[95m9.673    \u001b[0m | \u001b[95m53.98    \u001b[0m | \u001b[95m13.96    \u001b[0m | \u001b[95m8.049    \u001b[0m | \u001b[95m17.69    \u001b[0m | \u001b[95m0.02194  \u001b[0m | \u001b[95m5.772    \u001b[0m | \u001b[95m5.841    \u001b[0m | \u001b[95m0.836    \u001b[0m | \u001b[95m0.9053   \u001b[0m |\n",
            "fold n°0\n",
            "Training until validation scores don't improve for 200 rounds.\n",
            "[500]\ttraining's rmse: 3.62617\tvalid_1's rmse: 3.69986\n",
            "[1000]\ttraining's rmse: 3.57415\tvalid_1's rmse: 3.68428\n",
            "[1500]\ttraining's rmse: 3.53836\tvalid_1's rmse: 3.67913\n",
            "[2000]\ttraining's rmse: 3.50784\tvalid_1's rmse: 3.67664\n",
            "[2500]\ttraining's rmse: 3.48145\tvalid_1's rmse: 3.67601\n",
            "Early stopping, best iteration is:\n",
            "[2680]\ttraining's rmse: 3.47281\tvalid_1's rmse: 3.67583\n",
            "fold n°1\n",
            "Training until validation scores don't improve for 200 rounds.\n",
            "[500]\ttraining's rmse: 3.6395\tvalid_1's rmse: 3.64239\n",
            "[1000]\ttraining's rmse: 3.58694\tvalid_1's rmse: 3.62693\n",
            "[1500]\ttraining's rmse: 3.55042\tvalid_1's rmse: 3.62014\n",
            "[2000]\ttraining's rmse: 3.51941\tvalid_1's rmse: 3.61644\n",
            "[2500]\ttraining's rmse: 3.49357\tvalid_1's rmse: 3.61488\n",
            "[3000]\ttraining's rmse: 3.4709\tvalid_1's rmse: 3.61402\n",
            "[3500]\ttraining's rmse: 3.44815\tvalid_1's rmse: 3.61328\n",
            "[4000]\ttraining's rmse: 3.4261\tvalid_1's rmse: 3.61299\n",
            "Early stopping, best iteration is:\n",
            "[3929]\ttraining's rmse: 3.42917\tvalid_1's rmse: 3.61293\n",
            "fold n°2\n",
            "Training until validation scores don't improve for 200 rounds.\n",
            "[500]\ttraining's rmse: 3.64674\tvalid_1's rmse: 3.6169\n",
            "[1000]\ttraining's rmse: 3.5925\tvalid_1's rmse: 3.6014\n",
            "[1500]\ttraining's rmse: 3.5566\tvalid_1's rmse: 3.5965\n",
            "[2000]\ttraining's rmse: 3.52552\tvalid_1's rmse: 3.59427\n",
            "Early stopping, best iteration is:\n",
            "[2260]\ttraining's rmse: 3.51224\tvalid_1's rmse: 3.59382\n",
            "fold n°3\n",
            "Training until validation scores don't improve for 200 rounds.\n",
            "[500]\ttraining's rmse: 3.59709\tvalid_1's rmse: 3.81393\n",
            "[1000]\ttraining's rmse: 3.54304\tvalid_1's rmse: 3.79936\n",
            "[1500]\ttraining's rmse: 3.50572\tvalid_1's rmse: 3.79527\n",
            "[2000]\ttraining's rmse: 3.47586\tvalid_1's rmse: 3.79216\n",
            "[2500]\ttraining's rmse: 3.44974\tvalid_1's rmse: 3.79086\n",
            "[3000]\ttraining's rmse: 3.42624\tvalid_1's rmse: 3.79007\n",
            "Early stopping, best iteration is:\n",
            "[3131]\ttraining's rmse: 3.42028\tvalid_1's rmse: 3.78983\n",
            "fold n°4\n",
            "Training until validation scores don't improve for 200 rounds.\n",
            "[500]\ttraining's rmse: 3.64091\tvalid_1's rmse: 3.64009\n",
            "[1000]\ttraining's rmse: 3.5874\tvalid_1's rmse: 3.62719\n",
            "[1500]\ttraining's rmse: 3.55111\tvalid_1's rmse: 3.62291\n",
            "[2000]\ttraining's rmse: 3.52055\tvalid_1's rmse: 3.62058\n",
            "[2500]\ttraining's rmse: 3.49494\tvalid_1's rmse: 3.61958\n",
            "[3000]\ttraining's rmse: 3.47183\tvalid_1's rmse: 3.61957\n",
            "Early stopping, best iteration is:\n",
            "[2895]\ttraining's rmse: 3.47652\tvalid_1's rmse: 3.61942\n",
            "| \u001b[0m4        \u001b[0m | \u001b[0m-3.659   \u001b[0m | \u001b[0m0.1137   \u001b[0m | \u001b[0m8.426    \u001b[0m | \u001b[0m29.62    \u001b[0m | \u001b[0m24.81    \u001b[0m | \u001b[0m8.645    \u001b[0m | \u001b[0m14.48    \u001b[0m | \u001b[0m0.04208  \u001b[0m | \u001b[0m6.013    \u001b[0m | \u001b[0m6.767    \u001b[0m | \u001b[0m0.9501   \u001b[0m | \u001b[0m0.928    \u001b[0m |\n",
            "fold n°0\n",
            "Training until validation scores don't improve for 200 rounds.\n",
            "[500]\ttraining's rmse: 3.63193\tvalid_1's rmse: 3.69372\n",
            "[1000]\ttraining's rmse: 3.59476\tvalid_1's rmse: 3.6823\n",
            "[1500]\ttraining's rmse: 3.5696\tvalid_1's rmse: 3.67986\n",
            "[2000]\ttraining's rmse: 3.54822\tvalid_1's rmse: 3.67961\n",
            "Early stopping, best iteration is:\n",
            "[1900]\ttraining's rmse: 3.55217\tvalid_1's rmse: 3.67936\n",
            "fold n°1\n",
            "Training until validation scores don't improve for 200 rounds.\n",
            "[500]\ttraining's rmse: 3.64854\tvalid_1's rmse: 3.63515\n",
            "[1000]\ttraining's rmse: 3.61322\tvalid_1's rmse: 3.62602\n",
            "[1500]\ttraining's rmse: 3.58804\tvalid_1's rmse: 3.62208\n",
            "[2000]\ttraining's rmse: 3.56483\tvalid_1's rmse: 3.61993\n",
            "Early stopping, best iteration is:\n",
            "[2293]\ttraining's rmse: 3.55159\tvalid_1's rmse: 3.61918\n",
            "fold n°2\n",
            "Training until validation scores don't improve for 200 rounds.\n",
            "[500]\ttraining's rmse: 3.65354\tvalid_1's rmse: 3.60987\n",
            "[1000]\ttraining's rmse: 3.61816\tvalid_1's rmse: 3.60095\n",
            "[1500]\ttraining's rmse: 3.59435\tvalid_1's rmse: 3.5981\n",
            "[2000]\ttraining's rmse: 3.57225\tvalid_1's rmse: 3.59674\n",
            "Early stopping, best iteration is:\n",
            "[2156]\ttraining's rmse: 3.56556\tvalid_1's rmse: 3.59641\n",
            "fold n°3\n",
            "Training until validation scores don't improve for 200 rounds.\n",
            "[500]\ttraining's rmse: 3.6025\tvalid_1's rmse: 3.80074\n",
            "[1000]\ttraining's rmse: 3.56486\tvalid_1's rmse: 3.79143\n",
            "[1500]\ttraining's rmse: 3.53903\tvalid_1's rmse: 3.78785\n",
            "[2000]\ttraining's rmse: 3.51845\tvalid_1's rmse: 3.78633\n",
            "[2500]\ttraining's rmse: 3.49868\tvalid_1's rmse: 3.7855\n",
            "[3000]\ttraining's rmse: 3.47969\tvalid_1's rmse: 3.78511\n",
            "Early stopping, best iteration is:\n",
            "[2968]\ttraining's rmse: 3.481\tvalid_1's rmse: 3.78503\n",
            "fold n°4\n",
            "Training until validation scores don't improve for 200 rounds.\n",
            "[500]\ttraining's rmse: 3.64913\tvalid_1's rmse: 3.62613\n",
            "[1000]\ttraining's rmse: 3.61203\tvalid_1's rmse: 3.61785\n",
            "[1500]\ttraining's rmse: 3.58551\tvalid_1's rmse: 3.61571\n",
            "[2000]\ttraining's rmse: 3.56122\tvalid_1's rmse: 3.61527\n",
            "Early stopping, best iteration is:\n",
            "[1912]\ttraining's rmse: 3.56526\tvalid_1's rmse: 3.61508\n",
            "| \u001b[0m5        \u001b[0m | \u001b[0m-3.66    \u001b[0m | \u001b[0m0.6756   \u001b[0m | \u001b[0m4.514    \u001b[0m | \u001b[0m19.07    \u001b[0m | \u001b[0m25.89    \u001b[0m | \u001b[0m11.5     \u001b[0m | \u001b[0m56.01    \u001b[0m | \u001b[0m0.06402  \u001b[0m | \u001b[0m7.75     \u001b[0m | \u001b[0m14.9     \u001b[0m | \u001b[0m0.8566   \u001b[0m | \u001b[0m0.9554   \u001b[0m |\n",
            "fold n°0\n",
            "Training until validation scores don't improve for 200 rounds.\n",
            "[500]\ttraining's rmse: 3.59145\tvalid_1's rmse: 3.68776\n",
            "[1000]\ttraining's rmse: 3.53637\tvalid_1's rmse: 3.67679\n",
            "[1500]\ttraining's rmse: 3.49802\tvalid_1's rmse: 3.67426\n",
            "Early stopping, best iteration is:\n",
            "[1751]\ttraining's rmse: 3.48151\tvalid_1's rmse: 3.67407\n",
            "fold n°1\n",
            "Training until validation scores don't improve for 200 rounds.\n",
            "[500]\ttraining's rmse: 3.60285\tvalid_1's rmse: 3.62748\n",
            "[1000]\ttraining's rmse: 3.54674\tvalid_1's rmse: 3.61635\n",
            "[1500]\ttraining's rmse: 3.50788\tvalid_1's rmse: 3.61274\n",
            "[2000]\ttraining's rmse: 3.4752\tvalid_1's rmse: 3.61175\n",
            "[2500]\ttraining's rmse: 3.44583\tvalid_1's rmse: 3.61103\n",
            "[3000]\ttraining's rmse: 3.41722\tvalid_1's rmse: 3.61055\n",
            "Early stopping, best iteration is:\n",
            "[2866]\ttraining's rmse: 3.42452\tvalid_1's rmse: 3.61028\n",
            "fold n°2\n",
            "Training until validation scores don't improve for 200 rounds.\n",
            "[500]\ttraining's rmse: 3.61016\tvalid_1's rmse: 3.60335\n",
            "[1000]\ttraining's rmse: 3.55387\tvalid_1's rmse: 3.59227\n",
            "[1500]\ttraining's rmse: 3.51414\tvalid_1's rmse: 3.58879\n",
            "[2000]\ttraining's rmse: 3.48083\tvalid_1's rmse: 3.58766\n",
            "[2500]\ttraining's rmse: 3.45142\tvalid_1's rmse: 3.5874\n",
            "Early stopping, best iteration is:\n",
            "[2324]\ttraining's rmse: 3.46179\tvalid_1's rmse: 3.58716\n",
            "fold n°3\n",
            "Training until validation scores don't improve for 200 rounds.\n",
            "[500]\ttraining's rmse: 3.56031\tvalid_1's rmse: 3.7964\n",
            "[1000]\ttraining's rmse: 3.50504\tvalid_1's rmse: 3.78675\n",
            "[1500]\ttraining's rmse: 3.46604\tvalid_1's rmse: 3.78417\n",
            "[2000]\ttraining's rmse: 3.43398\tvalid_1's rmse: 3.78291\n",
            "[2500]\ttraining's rmse: 3.40455\tvalid_1's rmse: 3.7822\n",
            "Early stopping, best iteration is:\n",
            "[2505]\ttraining's rmse: 3.40434\tvalid_1's rmse: 3.78218\n",
            "fold n°4\n",
            "Training until validation scores don't improve for 200 rounds.\n",
            "[500]\ttraining's rmse: 3.60367\tvalid_1's rmse: 3.62428\n",
            "[1000]\ttraining's rmse: 3.5487\tvalid_1's rmse: 3.616\n",
            "[1500]\ttraining's rmse: 3.50989\tvalid_1's rmse: 3.61325\n",
            "[2000]\ttraining's rmse: 3.47768\tvalid_1's rmse: 3.61266\n",
            "Early stopping, best iteration is:\n",
            "[1975]\ttraining's rmse: 3.47922\tvalid_1's rmse: 3.61254\n",
            "| \u001b[95m6        \u001b[0m | \u001b[95m-3.654   \u001b[0m | \u001b[95m0.3023   \u001b[0m | \u001b[95m8.53     \u001b[0m | \u001b[95m53.2     \u001b[0m | \u001b[95m13.1     \u001b[0m | \u001b[95m7.24     \u001b[0m | \u001b[95m17.18    \u001b[0m | \u001b[95m0.05552  \u001b[0m | \u001b[95m8.307    \u001b[0m | \u001b[95m8.082    \u001b[0m | \u001b[95m0.8196   \u001b[0m | \u001b[95m0.9666   \u001b[0m |\n",
            "fold n°0\n",
            "Training until validation scores don't improve for 200 rounds.\n",
            "[500]\ttraining's rmse: 3.59542\tvalid_1's rmse: 3.68393\n",
            "[1000]\ttraining's rmse: 3.54625\tvalid_1's rmse: 3.67497\n",
            "[1500]\ttraining's rmse: 3.51053\tvalid_1's rmse: 3.6737\n",
            "[2000]\ttraining's rmse: 3.47941\tvalid_1's rmse: 3.67378\n",
            "Early stopping, best iteration is:\n",
            "[1813]\ttraining's rmse: 3.49158\tvalid_1's rmse: 3.67343\n",
            "fold n°1\n",
            "Training until validation scores don't improve for 200 rounds.\n",
            "[500]\ttraining's rmse: 3.60931\tvalid_1's rmse: 3.62539\n",
            "[1000]\ttraining's rmse: 3.55961\tvalid_1's rmse: 3.6155\n",
            "[1500]\ttraining's rmse: 3.52373\tvalid_1's rmse: 3.61246\n",
            "[2000]\ttraining's rmse: 3.49225\tvalid_1's rmse: 3.61059\n",
            "[2500]\ttraining's rmse: 3.46253\tvalid_1's rmse: 3.60984\n",
            "Early stopping, best iteration is:\n",
            "[2502]\ttraining's rmse: 3.46234\tvalid_1's rmse: 3.60981\n",
            "fold n°2\n",
            "Training until validation scores don't improve for 200 rounds.\n",
            "[500]\ttraining's rmse: 3.61616\tvalid_1's rmse: 3.60184\n",
            "[1000]\ttraining's rmse: 3.56734\tvalid_1's rmse: 3.59316\n",
            "[1500]\ttraining's rmse: 3.53174\tvalid_1's rmse: 3.59133\n",
            "[2000]\ttraining's rmse: 3.50157\tvalid_1's rmse: 3.59057\n",
            "[2500]\ttraining's rmse: 3.4718\tvalid_1's rmse: 3.59012\n",
            "Early stopping, best iteration is:\n",
            "[2401]\ttraining's rmse: 3.47743\tvalid_1's rmse: 3.58983\n",
            "fold n°3\n",
            "Training until validation scores don't improve for 200 rounds.\n",
            "[500]\ttraining's rmse: 3.56534\tvalid_1's rmse: 3.79362\n",
            "[1000]\ttraining's rmse: 3.51651\tvalid_1's rmse: 3.78565\n",
            "[1500]\ttraining's rmse: 3.47977\tvalid_1's rmse: 3.78223\n",
            "[2000]\ttraining's rmse: 3.44948\tvalid_1's rmse: 3.78149\n",
            "[2500]\ttraining's rmse: 3.42025\tvalid_1's rmse: 3.78086\n",
            "Early stopping, best iteration is:\n",
            "[2383]\ttraining's rmse: 3.42704\tvalid_1's rmse: 3.78076\n",
            "fold n°4\n",
            "Training until validation scores don't improve for 200 rounds.\n",
            "[500]\ttraining's rmse: 3.60813\tvalid_1's rmse: 3.62115\n",
            "[1000]\ttraining's rmse: 3.55887\tvalid_1's rmse: 3.61403\n",
            "[1500]\ttraining's rmse: 3.52355\tvalid_1's rmse: 3.61264\n",
            "[2000]\ttraining's rmse: 3.49196\tvalid_1's rmse: 3.61226\n",
            "Early stopping, best iteration is:\n",
            "[1897]\ttraining's rmse: 3.49804\tvalid_1's rmse: 3.61219\n",
            "| \u001b[95m7        \u001b[0m | \u001b[95m-3.654   \u001b[0m | \u001b[95m0.4052   \u001b[0m | \u001b[95m6.718    \u001b[0m | \u001b[95m53.53    \u001b[0m | \u001b[95m14.15    \u001b[0m | \u001b[95m5.703    \u001b[0m | \u001b[95m18.66    \u001b[0m | \u001b[95m0.01058  \u001b[0m | \u001b[95m7.279    \u001b[0m | \u001b[95m8.397    \u001b[0m | \u001b[95m0.9479   \u001b[0m | \u001b[95m0.9881   \u001b[0m |\n",
            "fold n°0\n",
            "Training until validation scores don't improve for 200 rounds.\n",
            "[500]\ttraining's rmse: 3.58419\tvalid_1's rmse: 3.68639\n",
            "[1000]\ttraining's rmse: 3.53068\tvalid_1's rmse: 3.67838\n",
            "[1500]\ttraining's rmse: 3.4916\tvalid_1's rmse: 3.67791\n",
            "Early stopping, best iteration is:\n",
            "[1386]\ttraining's rmse: 3.50017\tvalid_1's rmse: 3.67773\n",
            "fold n°1\n",
            "Training until validation scores don't improve for 200 rounds.\n",
            "[500]\ttraining's rmse: 3.59758\tvalid_1's rmse: 3.6243\n",
            "[1000]\ttraining's rmse: 3.54404\tvalid_1's rmse: 3.61524\n",
            "[1500]\ttraining's rmse: 3.50261\tvalid_1's rmse: 3.6131\n",
            "[2000]\ttraining's rmse: 3.4651\tvalid_1's rmse: 3.61218\n",
            "Early stopping, best iteration is:\n",
            "[1895]\ttraining's rmse: 3.47327\tvalid_1's rmse: 3.61197\n",
            "fold n°2\n",
            "Training until validation scores don't improve for 200 rounds.\n",
            "[500]\ttraining's rmse: 3.60563\tvalid_1's rmse: 3.60546\n",
            "[1000]\ttraining's rmse: 3.55148\tvalid_1's rmse: 3.59928\n",
            "[1500]\ttraining's rmse: 3.51024\tvalid_1's rmse: 3.59812\n",
            "Early stopping, best iteration is:\n",
            "[1722]\ttraining's rmse: 3.49418\tvalid_1's rmse: 3.59759\n",
            "fold n°3\n",
            "Training until validation scores don't improve for 200 rounds.\n",
            "[500]\ttraining's rmse: 3.55413\tvalid_1's rmse: 3.79106\n",
            "[1000]\ttraining's rmse: 3.49899\tvalid_1's rmse: 3.78316\n",
            "[1500]\ttraining's rmse: 3.45688\tvalid_1's rmse: 3.78134\n",
            "[2000]\ttraining's rmse: 3.4209\tvalid_1's rmse: 3.78139\n",
            "Early stopping, best iteration is:\n",
            "[1909]\ttraining's rmse: 3.42737\tvalid_1's rmse: 3.78102\n",
            "fold n°4\n",
            "Training until validation scores don't improve for 200 rounds.\n",
            "[500]\ttraining's rmse: 3.59763\tvalid_1's rmse: 3.62058\n",
            "[1000]\ttraining's rmse: 3.54279\tvalid_1's rmse: 3.61579\n",
            "[1500]\ttraining's rmse: 3.50168\tvalid_1's rmse: 3.61556\n",
            "Early stopping, best iteration is:\n",
            "[1319]\ttraining's rmse: 3.51602\tvalid_1's rmse: 3.61533\n",
            "| \u001b[0m8        \u001b[0m | \u001b[0m-3.657   \u001b[0m | \u001b[0m0.8259   \u001b[0m | \u001b[0m6.692    \u001b[0m | \u001b[0m51.53    \u001b[0m | \u001b[0m11.38    \u001b[0m | \u001b[0m5.224    \u001b[0m | \u001b[0m20.66    \u001b[0m | \u001b[0m0.05588  \u001b[0m | \u001b[0m10.58    \u001b[0m | \u001b[0m8.49     \u001b[0m | \u001b[0m0.9582   \u001b[0m | \u001b[0m0.9829   \u001b[0m |\n",
            "fold n°0\n",
            "Training until validation scores don't improve for 200 rounds.\n",
            "[500]\ttraining's rmse: 3.78429\tvalid_1's rmse: 3.82618\n",
            "[1000]\ttraining's rmse: 3.76256\tvalid_1's rmse: 3.8074\n",
            "[1500]\ttraining's rmse: 3.74908\tvalid_1's rmse: 3.79677\n",
            "[2000]\ttraining's rmse: 3.73855\tvalid_1's rmse: 3.78953\n",
            "[2500]\ttraining's rmse: 3.73048\tvalid_1's rmse: 3.78501\n",
            "[3000]\ttraining's rmse: 3.72342\tvalid_1's rmse: 3.78127\n",
            "[3500]\ttraining's rmse: 3.7167\tvalid_1's rmse: 3.77786\n",
            "[4000]\ttraining's rmse: 3.711\tvalid_1's rmse: 3.77548\n",
            "[4500]\ttraining's rmse: 3.7061\tvalid_1's rmse: 3.77355\n",
            "[5000]\ttraining's rmse: 3.70141\tvalid_1's rmse: 3.77197\n",
            "[5500]\ttraining's rmse: 3.69702\tvalid_1's rmse: 3.77054\n",
            "[6000]\ttraining's rmse: 3.69302\tvalid_1's rmse: 3.76931\n",
            "[6500]\ttraining's rmse: 3.68905\tvalid_1's rmse: 3.76835\n",
            "[7000]\ttraining's rmse: 3.68582\tvalid_1's rmse: 3.76777\n",
            "[7500]\ttraining's rmse: 3.68244\tvalid_1's rmse: 3.76682\n",
            "[8000]\ttraining's rmse: 3.67918\tvalid_1's rmse: 3.76624\n",
            "[8500]\ttraining's rmse: 3.67605\tvalid_1's rmse: 3.7656\n",
            "[9000]\ttraining's rmse: 3.67317\tvalid_1's rmse: 3.76526\n",
            "Early stopping, best iteration is:\n",
            "[9295]\ttraining's rmse: 3.67148\tvalid_1's rmse: 3.76514\n",
            "fold n°1\n",
            "Training until validation scores don't improve for 200 rounds.\n",
            "[500]\ttraining's rmse: 3.80504\tvalid_1's rmse: 3.75356\n",
            "[1000]\ttraining's rmse: 3.77849\tvalid_1's rmse: 3.73147\n",
            "[1500]\ttraining's rmse: 3.76499\tvalid_1's rmse: 3.72205\n",
            "[2000]\ttraining's rmse: 3.75443\tvalid_1's rmse: 3.71524\n",
            "[2500]\ttraining's rmse: 3.7466\tvalid_1's rmse: 3.71088\n",
            "[3000]\ttraining's rmse: 3.73964\tvalid_1's rmse: 3.70739\n",
            "[3500]\ttraining's rmse: 3.73358\tvalid_1's rmse: 3.7048\n",
            "[4000]\ttraining's rmse: 3.728\tvalid_1's rmse: 3.7026\n",
            "[4500]\ttraining's rmse: 3.72273\tvalid_1's rmse: 3.70056\n",
            "[5000]\ttraining's rmse: 3.71798\tvalid_1's rmse: 3.69892\n",
            "[5500]\ttraining's rmse: 3.71381\tvalid_1's rmse: 3.69787\n",
            "[6000]\ttraining's rmse: 3.70971\tvalid_1's rmse: 3.69669\n",
            "[6500]\ttraining's rmse: 3.70589\tvalid_1's rmse: 3.69574\n",
            "[7000]\ttraining's rmse: 3.70231\tvalid_1's rmse: 3.69491\n",
            "[7500]\ttraining's rmse: 3.69887\tvalid_1's rmse: 3.69426\n",
            "[8000]\ttraining's rmse: 3.69557\tvalid_1's rmse: 3.69357\n",
            "[8500]\ttraining's rmse: 3.69255\tvalid_1's rmse: 3.6932\n",
            "[9000]\ttraining's rmse: 3.68944\tvalid_1's rmse: 3.69276\n",
            "[9500]\ttraining's rmse: 3.68667\tvalid_1's rmse: 3.69234\n",
            "[10000]\ttraining's rmse: 3.68421\tvalid_1's rmse: 3.6921\n",
            "Did not meet early stopping. Best iteration is:\n",
            "[10000]\ttraining's rmse: 3.68421\tvalid_1's rmse: 3.6921\n",
            "fold n°2\n",
            "Training until validation scores don't improve for 200 rounds.\n",
            "[500]\ttraining's rmse: 3.80845\tvalid_1's rmse: 3.72528\n",
            "[1000]\ttraining's rmse: 3.78628\tvalid_1's rmse: 3.70816\n",
            "[1500]\ttraining's rmse: 3.77243\tvalid_1's rmse: 3.69897\n",
            "[2000]\ttraining's rmse: 3.7616\tvalid_1's rmse: 3.69304\n",
            "[2500]\ttraining's rmse: 3.75328\tvalid_1's rmse: 3.68944\n",
            "[3000]\ttraining's rmse: 3.74623\tvalid_1's rmse: 3.68636\n",
            "[3500]\ttraining's rmse: 3.73945\tvalid_1's rmse: 3.68383\n",
            "[4000]\ttraining's rmse: 3.73364\tvalid_1's rmse: 3.68206\n",
            "[4500]\ttraining's rmse: 3.72855\tvalid_1's rmse: 3.68082\n",
            "[5000]\ttraining's rmse: 3.72375\tvalid_1's rmse: 3.67957\n",
            "[5500]\ttraining's rmse: 3.71924\tvalid_1's rmse: 3.6786\n",
            "[6000]\ttraining's rmse: 3.71519\tvalid_1's rmse: 3.67771\n",
            "[6500]\ttraining's rmse: 3.71118\tvalid_1's rmse: 3.677\n",
            "[7000]\ttraining's rmse: 3.70784\tvalid_1's rmse: 3.6766\n",
            "[7500]\ttraining's rmse: 3.70435\tvalid_1's rmse: 3.67602\n",
            "[8000]\ttraining's rmse: 3.701\tvalid_1's rmse: 3.67559\n",
            "[8500]\ttraining's rmse: 3.69781\tvalid_1's rmse: 3.67508\n",
            "[9000]\ttraining's rmse: 3.69478\tvalid_1's rmse: 3.67478\n",
            "[9500]\ttraining's rmse: 3.69216\tvalid_1's rmse: 3.67461\n",
            "[10000]\ttraining's rmse: 3.68953\tvalid_1's rmse: 3.67457\n",
            "Did not meet early stopping. Best iteration is:\n",
            "[10000]\ttraining's rmse: 3.68953\tvalid_1's rmse: 3.67457\n",
            "fold n°3\n",
            "Training until validation scores don't improve for 200 rounds.\n",
            "[500]\ttraining's rmse: 3.75644\tvalid_1's rmse: 3.93267\n",
            "[1000]\ttraining's rmse: 3.73461\tvalid_1's rmse: 3.91566\n",
            "[1500]\ttraining's rmse: 3.72097\tvalid_1's rmse: 3.9065\n",
            "[2000]\ttraining's rmse: 3.71046\tvalid_1's rmse: 3.90035\n",
            "[2500]\ttraining's rmse: 3.70233\tvalid_1's rmse: 3.89654\n",
            "[3000]\ttraining's rmse: 3.69525\tvalid_1's rmse: 3.89366\n",
            "[3500]\ttraining's rmse: 3.68874\tvalid_1's rmse: 3.89075\n",
            "[4000]\ttraining's rmse: 3.68318\tvalid_1's rmse: 3.8887\n",
            "[4500]\ttraining's rmse: 3.67841\tvalid_1's rmse: 3.88704\n",
            "[5000]\ttraining's rmse: 3.67377\tvalid_1's rmse: 3.88558\n",
            "[5500]\ttraining's rmse: 3.66947\tvalid_1's rmse: 3.88431\n",
            "[6000]\ttraining's rmse: 3.66556\tvalid_1's rmse: 3.88318\n",
            "[6500]\ttraining's rmse: 3.66175\tvalid_1's rmse: 3.88225\n",
            "[7000]\ttraining's rmse: 3.65859\tvalid_1's rmse: 3.88168\n",
            "[7500]\ttraining's rmse: 3.65526\tvalid_1's rmse: 3.88088\n",
            "[8000]\ttraining's rmse: 3.65205\tvalid_1's rmse: 3.88025\n",
            "[8500]\ttraining's rmse: 3.64898\tvalid_1's rmse: 3.8796\n",
            "[9000]\ttraining's rmse: 3.64617\tvalid_1's rmse: 3.87903\n",
            "[9500]\ttraining's rmse: 3.64357\tvalid_1's rmse: 3.8789\n",
            "[10000]\ttraining's rmse: 3.64102\tvalid_1's rmse: 3.87855\n",
            "Did not meet early stopping. Best iteration is:\n",
            "[10000]\ttraining's rmse: 3.64102\tvalid_1's rmse: 3.87855\n",
            "fold n°4\n",
            "Training until validation scores don't improve for 200 rounds.\n",
            "[500]\ttraining's rmse: 3.80389\tvalid_1's rmse: 3.74229\n",
            "[1000]\ttraining's rmse: 3.78157\tvalid_1's rmse: 3.7263\n",
            "[1500]\ttraining's rmse: 3.76779\tvalid_1's rmse: 3.71735\n",
            "[2000]\ttraining's rmse: 3.75711\tvalid_1's rmse: 3.7113\n",
            "[2500]\ttraining's rmse: 3.74871\tvalid_1's rmse: 3.70769\n",
            "[3000]\ttraining's rmse: 3.74163\tvalid_1's rmse: 3.70456\n",
            "[3500]\ttraining's rmse: 3.73499\tvalid_1's rmse: 3.70182\n",
            "[4000]\ttraining's rmse: 3.72924\tvalid_1's rmse: 3.69983\n",
            "[4500]\ttraining's rmse: 3.72431\tvalid_1's rmse: 3.69829\n",
            "[5000]\ttraining's rmse: 3.71964\tvalid_1's rmse: 3.69699\n",
            "[5500]\ttraining's rmse: 3.71528\tvalid_1's rmse: 3.69584\n",
            "[6000]\ttraining's rmse: 3.71129\tvalid_1's rmse: 3.69495\n",
            "[6500]\ttraining's rmse: 3.70744\tvalid_1's rmse: 3.69412\n",
            "[7000]\ttraining's rmse: 3.70419\tvalid_1's rmse: 3.69355\n",
            "[7500]\ttraining's rmse: 3.70076\tvalid_1's rmse: 3.69294\n",
            "[8000]\ttraining's rmse: 3.69747\tvalid_1's rmse: 3.69235\n",
            "[8500]\ttraining's rmse: 3.69428\tvalid_1's rmse: 3.69176\n",
            "[9000]\ttraining's rmse: 3.69133\tvalid_1's rmse: 3.69144\n",
            "[9500]\ttraining's rmse: 3.68879\tvalid_1's rmse: 3.69125\n",
            "[10000]\ttraining's rmse: 3.68624\tvalid_1's rmse: 3.69109\n",
            "Did not meet early stopping. Best iteration is:\n",
            "[10000]\ttraining's rmse: 3.68624\tvalid_1's rmse: 3.69109\n",
            "| \u001b[0m9        \u001b[0m | \u001b[0m-3.741   \u001b[0m | \u001b[0m0.003848 \u001b[0m | \u001b[0m6.563    \u001b[0m | \u001b[0m50.93    \u001b[0m | \u001b[0m13.66    \u001b[0m | \u001b[0m7.247    \u001b[0m | \u001b[0m17.44    \u001b[0m | \u001b[0m0.01944  \u001b[0m | \u001b[0m9.363    \u001b[0m | \u001b[0m7.617    \u001b[0m | \u001b[0m0.8052   \u001b[0m | \u001b[0m0.9453   \u001b[0m |\n",
            "fold n°0\n",
            "Training until validation scores don't improve for 200 rounds.\n",
            "[500]\ttraining's rmse: 3.63305\tvalid_1's rmse: 3.69356\n",
            "[1000]\ttraining's rmse: 3.59665\tvalid_1's rmse: 3.6823\n",
            "[1500]\ttraining's rmse: 3.57261\tvalid_1's rmse: 3.67914\n",
            "Early stopping, best iteration is:\n",
            "[1748]\ttraining's rmse: 3.56203\tvalid_1's rmse: 3.67855\n",
            "fold n°1\n",
            "Training until validation scores don't improve for 200 rounds.\n",
            "[500]\ttraining's rmse: 3.6486\tvalid_1's rmse: 3.63478\n",
            "[1000]\ttraining's rmse: 3.614\tvalid_1's rmse: 3.62498\n",
            "[1500]\ttraining's rmse: 3.59016\tvalid_1's rmse: 3.62141\n",
            "[2000]\ttraining's rmse: 3.56786\tvalid_1's rmse: 3.61945\n",
            "[2500]\ttraining's rmse: 3.54587\tvalid_1's rmse: 3.61848\n",
            "Early stopping, best iteration is:\n",
            "[2573]\ttraining's rmse: 3.54286\tvalid_1's rmse: 3.61823\n",
            "fold n°2\n",
            "Training until validation scores don't improve for 200 rounds.\n",
            "[500]\ttraining's rmse: 3.65251\tvalid_1's rmse: 3.6087\n",
            "[1000]\ttraining's rmse: 3.61767\tvalid_1's rmse: 3.59839\n",
            "[1500]\ttraining's rmse: 3.59423\tvalid_1's rmse: 3.59602\n",
            "[2000]\ttraining's rmse: 3.5722\tvalid_1's rmse: 3.5947\n",
            "Early stopping, best iteration is:\n",
            "[2149]\ttraining's rmse: 3.56663\tvalid_1's rmse: 3.59435\n",
            "fold n°3\n",
            "Training until validation scores don't improve for 200 rounds.\n",
            "[500]\ttraining's rmse: 3.60342\tvalid_1's rmse: 3.80111\n",
            "[1000]\ttraining's rmse: 3.56659\tvalid_1's rmse: 3.79196\n",
            "[1500]\ttraining's rmse: 3.54134\tvalid_1's rmse: 3.78796\n",
            "[2000]\ttraining's rmse: 3.52085\tvalid_1's rmse: 3.78631\n",
            "[2500]\ttraining's rmse: 3.5014\tvalid_1's rmse: 3.78549\n",
            "[3000]\ttraining's rmse: 3.483\tvalid_1's rmse: 3.78498\n",
            "Early stopping, best iteration is:\n",
            "[2989]\ttraining's rmse: 3.4835\tvalid_1's rmse: 3.78496\n",
            "fold n°4\n",
            "Training until validation scores don't improve for 200 rounds.\n",
            "[500]\ttraining's rmse: 3.64881\tvalid_1's rmse: 3.62574\n",
            "[1000]\ttraining's rmse: 3.61256\tvalid_1's rmse: 3.61723\n",
            "[1500]\ttraining's rmse: 3.58671\tvalid_1's rmse: 3.61499\n",
            "Early stopping, best iteration is:\n",
            "[1611]\ttraining's rmse: 3.5812\tvalid_1's rmse: 3.61491\n",
            "| \u001b[0m10       \u001b[0m | \u001b[0m-3.659   \u001b[0m | \u001b[0m0.566    \u001b[0m | \u001b[0m4.254    \u001b[0m | \u001b[0m32.38    \u001b[0m | \u001b[0m27.23    \u001b[0m | \u001b[0m10.72    \u001b[0m | \u001b[0m37.37    \u001b[0m | \u001b[0m0.005794 \u001b[0m | \u001b[0m8.706    \u001b[0m | \u001b[0m11.5     \u001b[0m | \u001b[0m0.8209   \u001b[0m | \u001b[0m0.9426   \u001b[0m |\n",
            "fold n°0\n",
            "Training until validation scores don't improve for 200 rounds.\n",
            "[500]\ttraining's rmse: 3.58987\tvalid_1's rmse: 3.68387\n",
            "[1000]\ttraining's rmse: 3.53387\tvalid_1's rmse: 3.67695\n",
            "[1500]\ttraining's rmse: 3.49362\tvalid_1's rmse: 3.67583\n",
            "Early stopping, best iteration is:\n",
            "[1576]\ttraining's rmse: 3.48779\tvalid_1's rmse: 3.67563\n",
            "fold n°1\n",
            "Training until validation scores don't improve for 200 rounds.\n",
            "[500]\ttraining's rmse: 3.60269\tvalid_1's rmse: 3.62602\n",
            "[1000]\ttraining's rmse: 3.54855\tvalid_1's rmse: 3.61973\n",
            "[1500]\ttraining's rmse: 3.50528\tvalid_1's rmse: 3.61809\n",
            "[2000]\ttraining's rmse: 3.46732\tvalid_1's rmse: 3.61708\n",
            "Early stopping, best iteration is:\n",
            "[2045]\ttraining's rmse: 3.4641\tvalid_1's rmse: 3.61691\n",
            "fold n°2\n",
            "Training until validation scores don't improve for 200 rounds.\n",
            "[500]\ttraining's rmse: 3.60983\tvalid_1's rmse: 3.60511\n",
            "[1000]\ttraining's rmse: 3.55657\tvalid_1's rmse: 3.59857\n",
            "[1500]\ttraining's rmse: 3.51747\tvalid_1's rmse: 3.59758\n",
            "Early stopping, best iteration is:\n",
            "[1469]\ttraining's rmse: 3.51991\tvalid_1's rmse: 3.59737\n",
            "fold n°3\n",
            "Training until validation scores don't improve for 200 rounds.\n",
            "[500]\ttraining's rmse: 3.55935\tvalid_1's rmse: 3.79162\n",
            "[1000]\ttraining's rmse: 3.50424\tvalid_1's rmse: 3.78422\n",
            "Early stopping, best iteration is:\n",
            "[1290]\ttraining's rmse: 3.47876\tvalid_1's rmse: 3.78288\n",
            "fold n°4\n",
            "Training until validation scores don't improve for 200 rounds.\n",
            "[500]\ttraining's rmse: 3.60346\tvalid_1's rmse: 3.62012\n",
            "Early stopping, best iteration is:\n",
            "[797]\ttraining's rmse: 3.56617\tvalid_1's rmse: 3.61709\n",
            "| \u001b[0m11       \u001b[0m | \u001b[0m-3.659   \u001b[0m | \u001b[0m0.9344   \u001b[0m | \u001b[0m5.107    \u001b[0m | \u001b[0m18.69    \u001b[0m | \u001b[0m23.12    \u001b[0m | \u001b[0m12.25    \u001b[0m | \u001b[0m26.61    \u001b[0m | \u001b[0m0.03352  \u001b[0m | \u001b[0m14.81    \u001b[0m | \u001b[0m14.1     \u001b[0m | \u001b[0m0.8105   \u001b[0m | \u001b[0m0.9631   \u001b[0m |\n",
            "fold n°0\n",
            "Training until validation scores don't improve for 200 rounds.\n",
            "[500]\ttraining's rmse: 3.56017\tvalid_1's rmse: 3.68462\n",
            "[1000]\ttraining's rmse: 3.49632\tvalid_1's rmse: 3.67529\n",
            "[1500]\ttraining's rmse: 3.44983\tvalid_1's rmse: 3.67343\n",
            "Early stopping, best iteration is:\n",
            "[1600]\ttraining's rmse: 3.44129\tvalid_1's rmse: 3.67326\n",
            "fold n°1\n",
            "Training until validation scores don't improve for 200 rounds.\n",
            "[500]\ttraining's rmse: 3.57276\tvalid_1's rmse: 3.62733\n",
            "[1000]\ttraining's rmse: 3.50636\tvalid_1's rmse: 3.61735\n",
            "[1500]\ttraining's rmse: 3.45923\tvalid_1's rmse: 3.61482\n",
            "Early stopping, best iteration is:\n",
            "[1618]\ttraining's rmse: 3.44931\tvalid_1's rmse: 3.61444\n",
            "fold n°2\n",
            "Training until validation scores don't improve for 200 rounds.\n",
            "[500]\ttraining's rmse: 3.5799\tvalid_1's rmse: 3.6017\n",
            "[1000]\ttraining's rmse: 3.51257\tvalid_1's rmse: 3.59331\n",
            "[1500]\ttraining's rmse: 3.46507\tvalid_1's rmse: 3.5917\n",
            "[2000]\ttraining's rmse: 3.4235\tvalid_1's rmse: 3.59167\n",
            "Early stopping, best iteration is:\n",
            "[1860]\ttraining's rmse: 3.43489\tvalid_1's rmse: 3.59134\n",
            "fold n°3\n",
            "Training until validation scores don't improve for 200 rounds.\n",
            "[500]\ttraining's rmse: 3.53052\tvalid_1's rmse: 3.79362\n",
            "[1000]\ttraining's rmse: 3.464\tvalid_1's rmse: 3.78521\n",
            "[1500]\ttraining's rmse: 3.41594\tvalid_1's rmse: 3.78317\n",
            "[2000]\ttraining's rmse: 3.37602\tvalid_1's rmse: 3.78214\n",
            "[2500]\ttraining's rmse: 3.33953\tvalid_1's rmse: 3.78236\n",
            "Early stopping, best iteration is:\n",
            "[2313]\ttraining's rmse: 3.3532\tvalid_1's rmse: 3.78189\n",
            "fold n°4\n",
            "Training until validation scores don't improve for 200 rounds.\n",
            "[500]\ttraining's rmse: 3.57269\tvalid_1's rmse: 3.62175\n",
            "[1000]\ttraining's rmse: 3.50528\tvalid_1's rmse: 3.61587\n",
            "[1500]\ttraining's rmse: 3.45843\tvalid_1's rmse: 3.61433\n",
            "Early stopping, best iteration is:\n",
            "[1761]\ttraining's rmse: 3.43691\tvalid_1's rmse: 3.61383\n",
            "| \u001b[0m12       \u001b[0m | \u001b[0m-3.656   \u001b[0m | \u001b[0m0.4698   \u001b[0m | \u001b[0m9.031    \u001b[0m | \u001b[0m48.83    \u001b[0m | \u001b[0m19.67    \u001b[0m | \u001b[0m13.03    \u001b[0m | \u001b[0m21.08    \u001b[0m | \u001b[0m0.09727  \u001b[0m | \u001b[0m6.677    \u001b[0m | \u001b[0m12.05    \u001b[0m | \u001b[0m0.8025   \u001b[0m | \u001b[0m0.9938   \u001b[0m |\n",
            "fold n°0\n",
            "Training until validation scores don't improve for 200 rounds.\n",
            "[500]\ttraining's rmse: 3.61533\tvalid_1's rmse: 3.69021\n",
            "[1000]\ttraining's rmse: 3.56769\tvalid_1's rmse: 3.6782\n",
            "[1500]\ttraining's rmse: 3.53359\tvalid_1's rmse: 3.67528\n",
            "[2000]\ttraining's rmse: 3.50567\tvalid_1's rmse: 3.67449\n",
            "Early stopping, best iteration is:\n",
            "[1987]\ttraining's rmse: 3.50634\tvalid_1's rmse: 3.67444\n",
            "fold n°1\n",
            "Training until validation scores don't improve for 200 rounds.\n",
            "[500]\ttraining's rmse: 3.63069\tvalid_1's rmse: 3.63217\n",
            "[1000]\ttraining's rmse: 3.58263\tvalid_1's rmse: 3.62012\n",
            "[1500]\ttraining's rmse: 3.54947\tvalid_1's rmse: 3.61532\n",
            "[2000]\ttraining's rmse: 3.52183\tvalid_1's rmse: 3.61282\n",
            "[2500]\ttraining's rmse: 3.49721\tvalid_1's rmse: 3.61169\n",
            "[3000]\ttraining's rmse: 3.47264\tvalid_1's rmse: 3.61026\n",
            "[3500]\ttraining's rmse: 3.45006\tvalid_1's rmse: 3.60924\n",
            "Early stopping, best iteration is:\n",
            "[3520]\ttraining's rmse: 3.44908\tvalid_1's rmse: 3.60914\n",
            "fold n°2\n",
            "Training until validation scores don't improve for 200 rounds.\n",
            "[500]\ttraining's rmse: 3.63484\tvalid_1's rmse: 3.60847\n",
            "[1000]\ttraining's rmse: 3.58596\tvalid_1's rmse: 3.59656\n",
            "[1500]\ttraining's rmse: 3.5518\tvalid_1's rmse: 3.59354\n",
            "[2000]\ttraining's rmse: 3.5247\tvalid_1's rmse: 3.59271\n",
            "Early stopping, best iteration is:\n",
            "[1851]\ttraining's rmse: 3.5323\tvalid_1's rmse: 3.5925\n",
            "fold n°3\n",
            "Training until validation scores don't improve for 200 rounds.\n",
            "[500]\ttraining's rmse: 3.58608\tvalid_1's rmse: 3.80157\n",
            "[1000]\ttraining's rmse: 3.53791\tvalid_1's rmse: 3.7904\n",
            "[1500]\ttraining's rmse: 3.50454\tvalid_1's rmse: 3.78651\n",
            "[2000]\ttraining's rmse: 3.47618\tvalid_1's rmse: 3.78473\n",
            "[2500]\ttraining's rmse: 3.45187\tvalid_1's rmse: 3.78403\n",
            "[3000]\ttraining's rmse: 3.42912\tvalid_1's rmse: 3.78372\n",
            "Early stopping, best iteration is:\n",
            "[3178]\ttraining's rmse: 3.4216\tvalid_1's rmse: 3.78359\n",
            "fold n°4\n",
            "Training until validation scores don't improve for 200 rounds.\n",
            "[500]\ttraining's rmse: 3.62896\tvalid_1's rmse: 3.62866\n",
            "[1000]\ttraining's rmse: 3.57987\tvalid_1's rmse: 3.61855\n",
            "[1500]\ttraining's rmse: 3.5466\tvalid_1's rmse: 3.61503\n",
            "Early stopping, best iteration is:\n",
            "[1680]\ttraining's rmse: 3.53617\tvalid_1's rmse: 3.61471\n",
            "| \u001b[0m13       \u001b[0m | \u001b[0m-3.656   \u001b[0m | \u001b[0m0.2027   \u001b[0m | \u001b[0m6.532    \u001b[0m | \u001b[0m29.06    \u001b[0m | \u001b[0m11.39    \u001b[0m | \u001b[0m14.35    \u001b[0m | \u001b[0m15.2     \u001b[0m | \u001b[0m0.09558  \u001b[0m | \u001b[0m10.87    \u001b[0m | \u001b[0m6.37     \u001b[0m | \u001b[0m0.9045   \u001b[0m | \u001b[0m0.9405   \u001b[0m |\n",
            "fold n°0\n",
            "Training until validation scores don't improve for 200 rounds.\n",
            "[500]\ttraining's rmse: 3.60328\tvalid_1's rmse: 3.69006\n",
            "[1000]\ttraining's rmse: 3.54351\tvalid_1's rmse: 3.67704\n",
            "[1500]\ttraining's rmse: 3.50064\tvalid_1's rmse: 3.67492\n",
            "Early stopping, best iteration is:\n",
            "[1631]\ttraining's rmse: 3.49008\tvalid_1's rmse: 3.6748\n",
            "fold n°1\n",
            "Training until validation scores don't improve for 200 rounds.\n",
            "[500]\ttraining's rmse: 3.61476\tvalid_1's rmse: 3.63397\n",
            "[1000]\ttraining's rmse: 3.55457\tvalid_1's rmse: 3.62074\n",
            "[1500]\ttraining's rmse: 3.51281\tvalid_1's rmse: 3.61634\n",
            "[2000]\ttraining's rmse: 3.47814\tvalid_1's rmse: 3.61401\n",
            "[2500]\ttraining's rmse: 3.44699\tvalid_1's rmse: 3.61364\n",
            "Early stopping, best iteration is:\n",
            "[2346]\ttraining's rmse: 3.45639\tvalid_1's rmse: 3.61349\n",
            "fold n°2\n",
            "Training until validation scores don't improve for 200 rounds.\n",
            "[500]\ttraining's rmse: 3.62172\tvalid_1's rmse: 3.60778\n",
            "[1000]\ttraining's rmse: 3.55927\tvalid_1's rmse: 3.59555\n",
            "[1500]\ttraining's rmse: 3.51914\tvalid_1's rmse: 3.59234\n",
            "[2000]\ttraining's rmse: 3.48665\tvalid_1's rmse: 3.59108\n",
            "Early stopping, best iteration is:\n",
            "[2004]\ttraining's rmse: 3.48636\tvalid_1's rmse: 3.59098\n",
            "fold n°3\n",
            "Training until validation scores don't improve for 200 rounds.\n",
            "[500]\ttraining's rmse: 3.572\tvalid_1's rmse: 3.8058\n",
            "[1000]\ttraining's rmse: 3.51154\tvalid_1's rmse: 3.79337\n",
            "[1500]\ttraining's rmse: 3.46914\tvalid_1's rmse: 3.79015\n",
            "[2000]\ttraining's rmse: 3.43546\tvalid_1's rmse: 3.78856\n",
            "[2500]\ttraining's rmse: 3.40605\tvalid_1's rmse: 3.7876\n",
            "[3000]\ttraining's rmse: 3.38352\tvalid_1's rmse: 3.78756\n",
            "Early stopping, best iteration is:\n",
            "[2885]\ttraining's rmse: 3.38826\tvalid_1's rmse: 3.7874\n",
            "fold n°4\n",
            "Training until validation scores don't improve for 200 rounds.\n",
            "[500]\ttraining's rmse: 3.6158\tvalid_1's rmse: 3.63004\n",
            "[1000]\ttraining's rmse: 3.5548\tvalid_1's rmse: 3.61912\n",
            "[1500]\ttraining's rmse: 3.51102\tvalid_1's rmse: 3.61626\n",
            "Early stopping, best iteration is:\n",
            "[1722]\ttraining's rmse: 3.49437\tvalid_1's rmse: 3.61559\n",
            "| \u001b[0m14       \u001b[0m | \u001b[0m-3.657   \u001b[0m | \u001b[0m0.1147   \u001b[0m | \u001b[0m6.66     \u001b[0m | \u001b[0m34.08    \u001b[0m | \u001b[0m18.15    \u001b[0m | \u001b[0m12.96    \u001b[0m | \u001b[0m26.56    \u001b[0m | \u001b[0m0.0255   \u001b[0m | \u001b[0m13.54    \u001b[0m | \u001b[0m8.342    \u001b[0m | \u001b[0m0.8946   \u001b[0m | \u001b[0m0.9564   \u001b[0m |\n",
            "fold n°0\n",
            "Training until validation scores don't improve for 200 rounds.\n",
            "[500]\ttraining's rmse: 3.6182\tvalid_1's rmse: 3.69145\n",
            "[1000]\ttraining's rmse: 3.57586\tvalid_1's rmse: 3.6797\n",
            "[1500]\ttraining's rmse: 3.54337\tvalid_1's rmse: 3.67671\n",
            "[2000]\ttraining's rmse: 3.51659\tvalid_1's rmse: 3.67625\n",
            "Early stopping, best iteration is:\n",
            "[2031]\ttraining's rmse: 3.51503\tvalid_1's rmse: 3.67615\n",
            "fold n°1\n",
            "Training until validation scores don't improve for 200 rounds.\n",
            "[500]\ttraining's rmse: 3.63508\tvalid_1's rmse: 3.63364\n",
            "[1000]\ttraining's rmse: 3.59143\tvalid_1's rmse: 3.62362\n",
            "[1500]\ttraining's rmse: 3.55903\tvalid_1's rmse: 3.61958\n",
            "[2000]\ttraining's rmse: 3.53179\tvalid_1's rmse: 3.61764\n",
            "[2500]\ttraining's rmse: 3.50567\tvalid_1's rmse: 3.61689\n",
            "[3000]\ttraining's rmse: 3.48145\tvalid_1's rmse: 3.61663\n",
            "Early stopping, best iteration is:\n",
            "[2824]\ttraining's rmse: 3.49002\tvalid_1's rmse: 3.61652\n",
            "fold n°2\n",
            "Training until validation scores don't improve for 200 rounds.\n",
            "[500]\ttraining's rmse: 3.6405\tvalid_1's rmse: 3.60923\n",
            "[1000]\ttraining's rmse: 3.59652\tvalid_1's rmse: 3.59962\n",
            "[1500]\ttraining's rmse: 3.56443\tvalid_1's rmse: 3.59634\n",
            "[2000]\ttraining's rmse: 3.53594\tvalid_1's rmse: 3.59576\n",
            "[2500]\ttraining's rmse: 3.51058\tvalid_1's rmse: 3.59499\n",
            "Early stopping, best iteration is:\n",
            "[2572]\ttraining's rmse: 3.50715\tvalid_1's rmse: 3.59484\n",
            "fold n°3\n",
            "Training until validation scores don't improve for 200 rounds.\n",
            "[500]\ttraining's rmse: 3.58925\tvalid_1's rmse: 3.79741\n",
            "[1000]\ttraining's rmse: 3.54533\tvalid_1's rmse: 3.78713\n",
            "[1500]\ttraining's rmse: 3.51245\tvalid_1's rmse: 3.78423\n",
            "[2000]\ttraining's rmse: 3.48498\tvalid_1's rmse: 3.78223\n",
            "[2500]\ttraining's rmse: 3.45955\tvalid_1's rmse: 3.78141\n",
            "Early stopping, best iteration is:\n",
            "[2695]\ttraining's rmse: 3.45026\tvalid_1's rmse: 3.78119\n",
            "fold n°4\n",
            "Training until validation scores don't improve for 200 rounds.\n",
            "[500]\ttraining's rmse: 3.6339\tvalid_1's rmse: 3.62445\n",
            "[1000]\ttraining's rmse: 3.58982\tvalid_1's rmse: 3.61702\n",
            "[1500]\ttraining's rmse: 3.55806\tvalid_1's rmse: 3.61601\n",
            "[2000]\ttraining's rmse: 3.52976\tvalid_1's rmse: 3.61531\n",
            "Early stopping, best iteration is:\n",
            "[2042]\ttraining's rmse: 3.52729\tvalid_1's rmse: 3.61529\n",
            "| \u001b[0m15       \u001b[0m | \u001b[0m-3.657   \u001b[0m | \u001b[0m0.8171   \u001b[0m | \u001b[0m6.12     \u001b[0m | \u001b[0m12.39    \u001b[0m | \u001b[0m24.69    \u001b[0m | \u001b[0m12.25    \u001b[0m | \u001b[0m12.48    \u001b[0m | \u001b[0m0.001974 \u001b[0m | \u001b[0m14.81    \u001b[0m | \u001b[0m14.93    \u001b[0m | \u001b[0m0.8614   \u001b[0m | \u001b[0m0.93     \u001b[0m |\n",
            "fold n°0\n",
            "Training until validation scores don't improve for 200 rounds.\n",
            "[500]\ttraining's rmse: 3.61899\tvalid_1's rmse: 3.6918\n",
            "[1000]\ttraining's rmse: 3.57613\tvalid_1's rmse: 3.68233\n",
            "[1500]\ttraining's rmse: 3.54348\tvalid_1's rmse: 3.67953\n",
            "[2000]\ttraining's rmse: 3.51625\tvalid_1's rmse: 3.67916\n",
            "Early stopping, best iteration is:\n",
            "[2276]\ttraining's rmse: 3.50103\tvalid_1's rmse: 3.67805\n",
            "fold n°1\n",
            "Training until validation scores don't improve for 200 rounds.\n",
            "[500]\ttraining's rmse: 3.63262\tvalid_1's rmse: 3.63072\n",
            "[1000]\ttraining's rmse: 3.59\tvalid_1's rmse: 3.62071\n",
            "[1500]\ttraining's rmse: 3.559\tvalid_1's rmse: 3.61863\n",
            "[2000]\ttraining's rmse: 3.53107\tvalid_1's rmse: 3.61769\n",
            "Early stopping, best iteration is:\n",
            "[1876]\ttraining's rmse: 3.53785\tvalid_1's rmse: 3.61747\n",
            "fold n°2\n",
            "Training until validation scores don't improve for 200 rounds.\n",
            "[500]\ttraining's rmse: 3.63889\tvalid_1's rmse: 3.61103\n",
            "[1000]\ttraining's rmse: 3.59627\tvalid_1's rmse: 3.60288\n",
            "Early stopping, best iteration is:\n",
            "[1283]\ttraining's rmse: 3.57806\tvalid_1's rmse: 3.60181\n",
            "fold n°3\n",
            "Training until validation scores don't improve for 200 rounds.\n",
            "[500]\ttraining's rmse: 3.5879\tvalid_1's rmse: 3.79652\n",
            "[1000]\ttraining's rmse: 3.54338\tvalid_1's rmse: 3.7878\n",
            "[1500]\ttraining's rmse: 3.51176\tvalid_1's rmse: 3.78468\n",
            "[2000]\ttraining's rmse: 3.48358\tvalid_1's rmse: 3.78329\n",
            "[2500]\ttraining's rmse: 3.45726\tvalid_1's rmse: 3.78292\n",
            "Early stopping, best iteration is:\n",
            "[2508]\ttraining's rmse: 3.45683\tvalid_1's rmse: 3.7829\n",
            "fold n°4\n",
            "Training until validation scores don't improve for 200 rounds.\n",
            "[500]\ttraining's rmse: 3.63279\tvalid_1's rmse: 3.62349\n",
            "[1000]\ttraining's rmse: 3.58881\tvalid_1's rmse: 3.61792\n",
            "[1500]\ttraining's rmse: 3.55683\tvalid_1's rmse: 3.61639\n",
            "Early stopping, best iteration is:\n",
            "[1554]\ttraining's rmse: 3.55345\tvalid_1's rmse: 3.61622\n",
            "| \u001b[0m16       \u001b[0m | \u001b[0m-3.66    \u001b[0m | \u001b[0m0.9543   \u001b[0m | \u001b[0m5.447    \u001b[0m | \u001b[0m28.65    \u001b[0m | \u001b[0m15.6     \u001b[0m | \u001b[0m11.96    \u001b[0m | \u001b[0m14.18    \u001b[0m | \u001b[0m0.06266  \u001b[0m | \u001b[0m12.15    \u001b[0m | \u001b[0m11.07    \u001b[0m | \u001b[0m0.9191   \u001b[0m | \u001b[0m0.9727   \u001b[0m |\n",
            "fold n°0\n",
            "Training until validation scores don't improve for 200 rounds.\n",
            "[500]\ttraining's rmse: 3.57219\tvalid_1's rmse: 3.68826\n",
            "[1000]\ttraining's rmse: 3.51062\tvalid_1's rmse: 3.6781\n",
            "[1500]\ttraining's rmse: 3.46406\tvalid_1's rmse: 3.67566\n",
            "Early stopping, best iteration is:\n",
            "[1583]\ttraining's rmse: 3.4572\tvalid_1's rmse: 3.67556\n",
            "fold n°1\n",
            "Training until validation scores don't improve for 200 rounds.\n",
            "[500]\ttraining's rmse: 3.58615\tvalid_1's rmse: 3.63157\n",
            "[1000]\ttraining's rmse: 3.521\tvalid_1's rmse: 3.62241\n",
            "[1500]\ttraining's rmse: 3.47499\tvalid_1's rmse: 3.61974\n",
            "Early stopping, best iteration is:\n",
            "[1677]\ttraining's rmse: 3.46036\tvalid_1's rmse: 3.61909\n",
            "fold n°2\n",
            "Training until validation scores don't improve for 200 rounds.\n",
            "[500]\ttraining's rmse: 3.59442\tvalid_1's rmse: 3.60564\n",
            "[1000]\ttraining's rmse: 3.53126\tvalid_1's rmse: 3.59744\n",
            "[1500]\ttraining's rmse: 3.48402\tvalid_1's rmse: 3.5962\n",
            "Early stopping, best iteration is:\n",
            "[1391]\ttraining's rmse: 3.49381\tvalid_1's rmse: 3.59597\n",
            "fold n°3\n",
            "Training until validation scores don't improve for 200 rounds.\n",
            "[500]\ttraining's rmse: 3.5451\tvalid_1's rmse: 3.79239\n",
            "[1000]\ttraining's rmse: 3.48122\tvalid_1's rmse: 3.78432\n",
            "[1500]\ttraining's rmse: 3.43442\tvalid_1's rmse: 3.78215\n",
            "Early stopping, best iteration is:\n",
            "[1702]\ttraining's rmse: 3.41746\tvalid_1's rmse: 3.78194\n",
            "fold n°4\n",
            "Training until validation scores don't improve for 200 rounds.\n",
            "[500]\ttraining's rmse: 3.58652\tvalid_1's rmse: 3.62452\n",
            "[1000]\ttraining's rmse: 3.52325\tvalid_1's rmse: 3.61959\n",
            "[1500]\ttraining's rmse: 3.4781\tvalid_1's rmse: 3.61911\n",
            "Early stopping, best iteration is:\n",
            "[1379]\ttraining's rmse: 3.48813\tvalid_1's rmse: 3.61883\n",
            "| \u001b[0m17       \u001b[0m | \u001b[0m-3.659   \u001b[0m | \u001b[0m0.8848   \u001b[0m | \u001b[0m8.913    \u001b[0m | \u001b[0m33.29    \u001b[0m | \u001b[0m17.12    \u001b[0m | \u001b[0m5.666    \u001b[0m | \u001b[0m18.12    \u001b[0m | \u001b[0m0.08781  \u001b[0m | \u001b[0m7.807    \u001b[0m | \u001b[0m12.72    \u001b[0m | \u001b[0m0.9529   \u001b[0m | \u001b[0m0.9365   \u001b[0m |\n",
            "fold n°0\n",
            "Training until validation scores don't improve for 200 rounds.\n",
            "[500]\ttraining's rmse: 3.58828\tvalid_1's rmse: 3.68365\n",
            "[1000]\ttraining's rmse: 3.53718\tvalid_1's rmse: 3.67525\n",
            "[1500]\ttraining's rmse: 3.50016\tvalid_1's rmse: 3.67421\n",
            "Early stopping, best iteration is:\n",
            "[1511]\ttraining's rmse: 3.49942\tvalid_1's rmse: 3.67414\n",
            "fold n°1\n",
            "Training until validation scores don't improve for 200 rounds.\n",
            "[500]\ttraining's rmse: 3.60026\tvalid_1's rmse: 3.62402\n",
            "[1000]\ttraining's rmse: 3.54923\tvalid_1's rmse: 3.61543\n",
            "[1500]\ttraining's rmse: 3.51212\tvalid_1's rmse: 3.61272\n",
            "[2000]\ttraining's rmse: 3.47815\tvalid_1's rmse: 3.61084\n",
            "Early stopping, best iteration is:\n",
            "[2281]\ttraining's rmse: 3.45937\tvalid_1's rmse: 3.61023\n",
            "fold n°2\n",
            "Training until validation scores don't improve for 200 rounds.\n",
            "[500]\ttraining's rmse: 3.60805\tvalid_1's rmse: 3.60265\n",
            "[1000]\ttraining's rmse: 3.55679\tvalid_1's rmse: 3.59512\n",
            "[1500]\ttraining's rmse: 3.51884\tvalid_1's rmse: 3.59356\n",
            "Early stopping, best iteration is:\n",
            "[1715]\ttraining's rmse: 3.50414\tvalid_1's rmse: 3.59317\n",
            "fold n°3\n",
            "Training until validation scores don't improve for 200 rounds.\n",
            "[500]\ttraining's rmse: 3.55807\tvalid_1's rmse: 3.79075\n",
            "[1000]\ttraining's rmse: 3.5058\tvalid_1's rmse: 3.78337\n",
            "[1500]\ttraining's rmse: 3.46761\tvalid_1's rmse: 3.78099\n",
            "[2000]\ttraining's rmse: 3.43554\tvalid_1's rmse: 3.78048\n",
            "Early stopping, best iteration is:\n",
            "[1805]\ttraining's rmse: 3.44765\tvalid_1's rmse: 3.78036\n",
            "fold n°4\n",
            "Training until validation scores don't improve for 200 rounds.\n",
            "[500]\ttraining's rmse: 3.60157\tvalid_1's rmse: 3.61958\n",
            "[1000]\ttraining's rmse: 3.54923\tvalid_1's rmse: 3.6139\n",
            "[1500]\ttraining's rmse: 3.50995\tvalid_1's rmse: 3.61309\n",
            "Early stopping, best iteration is:\n",
            "[1346]\ttraining's rmse: 3.52194\tvalid_1's rmse: 3.61299\n",
            "| \u001b[0m18       \u001b[0m | \u001b[0m-3.655   \u001b[0m | \u001b[0m0.5723   \u001b[0m | \u001b[0m6.233    \u001b[0m | \u001b[0m58.28    \u001b[0m | \u001b[0m13.08    \u001b[0m | \u001b[0m14.93    \u001b[0m | \u001b[0m20.41    \u001b[0m | \u001b[0m0.004688 \u001b[0m | \u001b[0m9.309    \u001b[0m | \u001b[0m11.12    \u001b[0m | \u001b[0m0.902    \u001b[0m | \u001b[0m0.9013   \u001b[0m |\n",
            "fold n°0\n",
            "Training until validation scores don't improve for 200 rounds.\n",
            "[500]\ttraining's rmse: 3.63412\tvalid_1's rmse: 3.69306\n",
            "[1000]\ttraining's rmse: 3.59821\tvalid_1's rmse: 3.68158\n",
            "[1500]\ttraining's rmse: 3.57454\tvalid_1's rmse: 3.67908\n",
            "[2000]\ttraining's rmse: 3.55378\tvalid_1's rmse: 3.67858\n",
            "Early stopping, best iteration is:\n",
            "[1922]\ttraining's rmse: 3.5565\tvalid_1's rmse: 3.67841\n",
            "fold n°1\n",
            "Training until validation scores don't improve for 200 rounds.\n",
            "[500]\ttraining's rmse: 3.64966\tvalid_1's rmse: 3.63274\n",
            "[1000]\ttraining's rmse: 3.61485\tvalid_1's rmse: 3.62195\n",
            "[1500]\ttraining's rmse: 3.58995\tvalid_1's rmse: 3.61776\n",
            "[2000]\ttraining's rmse: 3.56816\tvalid_1's rmse: 3.61576\n",
            "[2500]\ttraining's rmse: 3.54714\tvalid_1's rmse: 3.61531\n",
            "Early stopping, best iteration is:\n",
            "[2362]\ttraining's rmse: 3.55254\tvalid_1's rmse: 3.61517\n",
            "fold n°2\n",
            "Training until validation scores don't improve for 200 rounds.\n",
            "[500]\ttraining's rmse: 3.65383\tvalid_1's rmse: 3.60834\n",
            "[1000]\ttraining's rmse: 3.61886\tvalid_1's rmse: 3.59811\n",
            "[1500]\ttraining's rmse: 3.5952\tvalid_1's rmse: 3.59543\n",
            "[2000]\ttraining's rmse: 3.57431\tvalid_1's rmse: 3.59442\n",
            "[2500]\ttraining's rmse: 3.55411\tvalid_1's rmse: 3.59369\n",
            "Early stopping, best iteration is:\n",
            "[2755]\ttraining's rmse: 3.54383\tvalid_1's rmse: 3.59352\n",
            "fold n°3\n",
            "Training until validation scores don't improve for 200 rounds.\n",
            "[500]\ttraining's rmse: 3.60462\tvalid_1's rmse: 3.8005\n",
            "[1000]\ttraining's rmse: 3.56805\tvalid_1's rmse: 3.79056\n",
            "[1500]\ttraining's rmse: 3.54307\tvalid_1's rmse: 3.78733\n",
            "[2000]\ttraining's rmse: 3.52354\tvalid_1's rmse: 3.78589\n",
            "[2500]\ttraining's rmse: 3.50378\tvalid_1's rmse: 3.78485\n",
            "[3000]\ttraining's rmse: 3.4854\tvalid_1's rmse: 3.78425\n",
            "[3500]\ttraining's rmse: 3.46741\tvalid_1's rmse: 3.7837\n",
            "Early stopping, best iteration is:\n",
            "[3694]\ttraining's rmse: 3.46068\tvalid_1's rmse: 3.78349\n",
            "fold n°4\n",
            "Training until validation scores don't improve for 200 rounds.\n",
            "[500]\ttraining's rmse: 3.64993\tvalid_1's rmse: 3.62596\n",
            "[1000]\ttraining's rmse: 3.61331\tvalid_1's rmse: 3.61735\n",
            "[1500]\ttraining's rmse: 3.58894\tvalid_1's rmse: 3.61476\n",
            "[2000]\ttraining's rmse: 3.56555\tvalid_1's rmse: 3.61407\n",
            "Early stopping, best iteration is:\n",
            "[2262]\ttraining's rmse: 3.55433\tvalid_1's rmse: 3.61385\n",
            "| \u001b[0m19       \u001b[0m | \u001b[0m-3.658   \u001b[0m | \u001b[0m0.3887   \u001b[0m | \u001b[0m4.817    \u001b[0m | \u001b[0m29.85    \u001b[0m | \u001b[0m29.46    \u001b[0m | \u001b[0m7.245    \u001b[0m | \u001b[0m23.43    \u001b[0m | \u001b[0m0.05626  \u001b[0m | \u001b[0m7.201    \u001b[0m | \u001b[0m7.761    \u001b[0m | \u001b[0m0.929    \u001b[0m | \u001b[0m0.9479   \u001b[0m |\n",
            "fold n°0\n",
            "Training until validation scores don't improve for 200 rounds.\n",
            "[500]\ttraining's rmse: 3.57233\tvalid_1's rmse: 3.68845\n",
            "[1000]\ttraining's rmse: 3.50889\tvalid_1's rmse: 3.678\n",
            "[1500]\ttraining's rmse: 3.46162\tvalid_1's rmse: 3.67593\n",
            "[2000]\ttraining's rmse: 3.42181\tvalid_1's rmse: 3.67538\n",
            "Early stopping, best iteration is:\n",
            "[2004]\ttraining's rmse: 3.4216\tvalid_1's rmse: 3.67534\n",
            "fold n°1\n",
            "Training until validation scores don't improve for 200 rounds.\n",
            "[500]\ttraining's rmse: 3.58689\tvalid_1's rmse: 3.63121\n",
            "[1000]\ttraining's rmse: 3.51997\tvalid_1's rmse: 3.62036\n",
            "[1500]\ttraining's rmse: 3.47305\tvalid_1's rmse: 3.61747\n",
            "[2000]\ttraining's rmse: 3.43157\tvalid_1's rmse: 3.61621\n",
            "Early stopping, best iteration is:\n",
            "[2197]\ttraining's rmse: 3.41633\tvalid_1's rmse: 3.61602\n",
            "fold n°2\n",
            "Training until validation scores don't improve for 200 rounds.\n",
            "[500]\ttraining's rmse: 3.59382\tvalid_1's rmse: 3.60546\n",
            "[1000]\ttraining's rmse: 3.5278\tvalid_1's rmse: 3.59698\n",
            "[1500]\ttraining's rmse: 3.48044\tvalid_1's rmse: 3.59504\n",
            "Early stopping, best iteration is:\n",
            "[1443]\ttraining's rmse: 3.48553\tvalid_1's rmse: 3.59481\n",
            "fold n°3\n",
            "Training until validation scores don't improve for 200 rounds.\n",
            "[500]\ttraining's rmse: 3.54274\tvalid_1's rmse: 3.79518\n",
            "[1000]\ttraining's rmse: 3.47682\tvalid_1's rmse: 3.78649\n",
            "[1500]\ttraining's rmse: 3.42783\tvalid_1's rmse: 3.78398\n",
            "[2000]\ttraining's rmse: 3.38667\tvalid_1's rmse: 3.78273\n",
            "[2500]\ttraining's rmse: 3.34965\tvalid_1's rmse: 3.78179\n",
            "Early stopping, best iteration is:\n",
            "[2595]\ttraining's rmse: 3.34235\tvalid_1's rmse: 3.78162\n",
            "fold n°4\n",
            "Training until validation scores don't improve for 200 rounds.\n",
            "[500]\ttraining's rmse: 3.58491\tvalid_1's rmse: 3.62407\n",
            "[1000]\ttraining's rmse: 3.51918\tvalid_1's rmse: 3.61702\n",
            "[1500]\ttraining's rmse: 3.47136\tvalid_1's rmse: 3.61622\n",
            "Early stopping, best iteration is:\n",
            "[1586]\ttraining's rmse: 3.46395\tvalid_1's rmse: 3.61602\n",
            "| \u001b[0m20       \u001b[0m | \u001b[0m-3.657   \u001b[0m | \u001b[0m0.5691   \u001b[0m | \u001b[0m9.149    \u001b[0m | \u001b[0m11.33    \u001b[0m | \u001b[0m25.73    \u001b[0m | \u001b[0m12.75    \u001b[0m | \u001b[0m17.3     \u001b[0m | \u001b[0m0.08604  \u001b[0m | \u001b[0m5.939    \u001b[0m | \u001b[0m9.205    \u001b[0m | \u001b[0m0.9206   \u001b[0m | \u001b[0m0.9079   \u001b[0m |\n",
            "fold n°0\n",
            "Training until validation scores don't improve for 200 rounds.\n",
            "[500]\ttraining's rmse: 3.48514\tvalid_1's rmse: 3.67899\n",
            "[1000]\ttraining's rmse: 3.38141\tvalid_1's rmse: 3.67253\n",
            "Early stopping, best iteration is:\n",
            "[1201]\ttraining's rmse: 3.34872\tvalid_1's rmse: 3.67178\n",
            "fold n°1\n",
            "Training until validation scores don't improve for 200 rounds.\n",
            "[500]\ttraining's rmse: 3.49951\tvalid_1's rmse: 3.62106\n",
            "[1000]\ttraining's rmse: 3.39273\tvalid_1's rmse: 3.61267\n",
            "[1500]\ttraining's rmse: 3.31456\tvalid_1's rmse: 3.61119\n",
            "Early stopping, best iteration is:\n",
            "[1428]\ttraining's rmse: 3.32546\tvalid_1's rmse: 3.61097\n",
            "fold n°2\n",
            "Training until validation scores don't improve for 200 rounds.\n",
            "[500]\ttraining's rmse: 3.507\tvalid_1's rmse: 3.59683\n",
            "[1000]\ttraining's rmse: 3.40193\tvalid_1's rmse: 3.59003\n",
            "Early stopping, best iteration is:\n",
            "[1196]\ttraining's rmse: 3.36862\tvalid_1's rmse: 3.58962\n",
            "fold n°3\n",
            "Training until validation scores don't improve for 200 rounds.\n",
            "[500]\ttraining's rmse: 3.45564\tvalid_1's rmse: 3.79181\n",
            "[1000]\ttraining's rmse: 3.35166\tvalid_1's rmse: 3.78546\n",
            "[1500]\ttraining's rmse: 3.27605\tvalid_1's rmse: 3.78367\n",
            "Early stopping, best iteration is:\n",
            "[1559]\ttraining's rmse: 3.26799\tvalid_1's rmse: 3.78346\n",
            "fold n°4\n",
            "Training until validation scores don't improve for 200 rounds.\n",
            "[500]\ttraining's rmse: 3.49593\tvalid_1's rmse: 3.61653\n",
            "[1000]\ttraining's rmse: 3.39058\tvalid_1's rmse: 3.61063\n",
            "[1500]\ttraining's rmse: 3.31171\tvalid_1's rmse: 3.61028\n",
            "Early stopping, best iteration is:\n",
            "[1301]\ttraining's rmse: 3.34107\tvalid_1's rmse: 3.61019\n",
            "| \u001b[0m21       \u001b[0m | \u001b[0m-3.654   \u001b[0m | \u001b[0m0.3209   \u001b[0m | \u001b[0m8.01     \u001b[0m | \u001b[0m8.379    \u001b[0m | \u001b[0m14.14    \u001b[0m | \u001b[0m9.517    \u001b[0m | \u001b[0m40.19    \u001b[0m | \u001b[0m0.08204  \u001b[0m | \u001b[0m11.99    \u001b[0m | \u001b[0m10.44    \u001b[0m | \u001b[0m0.8998   \u001b[0m | \u001b[0m0.928    \u001b[0m |\n",
            "fold n°0\n",
            "Training until validation scores don't improve for 200 rounds.\n",
            "[500]\ttraining's rmse: 3.53377\tvalid_1's rmse: 3.67759\n",
            "[1000]\ttraining's rmse: 3.46377\tvalid_1's rmse: 3.67447\n",
            "Early stopping, best iteration is:\n",
            "[812]\ttraining's rmse: 3.48686\tvalid_1's rmse: 3.67394\n",
            "fold n°1\n",
            "Training until validation scores don't improve for 200 rounds.\n",
            "[500]\ttraining's rmse: 3.54614\tvalid_1's rmse: 3.61984\n",
            "[1000]\ttraining's rmse: 3.47677\tvalid_1's rmse: 3.61493\n",
            "[1500]\ttraining's rmse: 3.42264\tvalid_1's rmse: 3.61418\n",
            "Early stopping, best iteration is:\n",
            "[1390]\ttraining's rmse: 3.43327\tvalid_1's rmse: 3.61396\n",
            "fold n°2\n",
            "Training until validation scores don't improve for 200 rounds.\n",
            "[500]\ttraining's rmse: 3.55091\tvalid_1's rmse: 3.5972\n",
            "[1000]\ttraining's rmse: 3.48342\tvalid_1's rmse: 3.59373\n",
            "Early stopping, best iteration is:\n",
            "[983]\ttraining's rmse: 3.4851\tvalid_1's rmse: 3.5936\n",
            "fold n°3\n",
            "Training until validation scores don't improve for 200 rounds.\n",
            "[500]\ttraining's rmse: 3.50286\tvalid_1's rmse: 3.78722\n",
            "[1000]\ttraining's rmse: 3.43204\tvalid_1's rmse: 3.78203\n",
            "[1500]\ttraining's rmse: 3.377\tvalid_1's rmse: 3.78134\n",
            "Early stopping, best iteration is:\n",
            "[1511]\ttraining's rmse: 3.37602\tvalid_1's rmse: 3.78123\n",
            "fold n°4\n",
            "Training until validation scores don't improve for 200 rounds.\n",
            "[500]\ttraining's rmse: 3.54406\tvalid_1's rmse: 3.61364\n",
            "[1000]\ttraining's rmse: 3.47\tvalid_1's rmse: 3.61252\n",
            "Early stopping, best iteration is:\n",
            "[830]\ttraining's rmse: 3.49255\tvalid_1's rmse: 3.6121\n",
            "| \u001b[0m22       \u001b[0m | \u001b[0m-3.656   \u001b[0m | \u001b[0m0.6359   \u001b[0m | \u001b[0m6.568    \u001b[0m | \u001b[0m43.95    \u001b[0m | \u001b[0m20.99    \u001b[0m | \u001b[0m14.94    \u001b[0m | \u001b[0m45.76    \u001b[0m | \u001b[0m0.09314  \u001b[0m | \u001b[0m9.691    \u001b[0m | \u001b[0m7.525    \u001b[0m | \u001b[0m0.8031   \u001b[0m | \u001b[0m0.9858   \u001b[0m |\n",
            "=============================================================================================================================================================\n",
            "\n",
            " Time taken: 1 hours 52 minutes and 47.55 seconds.\n"
          ]
        }
      ]
    },
    {
      "cell_type": "code",
      "source": [
        "print('-'*130)\n",
        "print('Final Results')\n",
        "print('Maximum  value: %f' % LGB_BO.max['target'])\n",
        "print('Best  parameters: ', LGB_BO.max['params'])\n",
        "\n",
        "\n",
        "history_df = pd.DataFrame([x['params'] for x in LGB_BO.res])\n",
        "history_df2 = pd.DataFrame([x['target'] for x in LGB_BO.res])\n",
        "history_df = pd.concat((history_df, history_df2), axis=1)\n",
        "history_df.rename(columns = { 0 : 'gini'}, inplace=True)\n",
        "history_df.to_csv('ParametersOptimization.csv')"
      ],
      "metadata": {
        "colab": {
          "base_uri": "https://localhost:8080/"
        },
        "id": "ImjF0AuPLxVA",
        "outputId": "026c9460-2088-47d0-cd25-57add2e1670c"
      },
      "execution_count": null,
      "outputs": [
        {
          "output_type": "stream",
          "name": "stdout",
          "text": [
            "----------------------------------------------------------------------------------------------------------------------------------\n",
            "Final Results\n",
            "Maximum  value: -3.653867\n",
            "Best  parameters:  {'colsample_bytree': 0.40522959076413667, 'max_depth': 6.717733781648738, 'min_child_weight': 53.526503071616105, 'min_data_in_leaf': 14.149168225148243, 'min_split_gain': 5.7028895949632465, 'num_leaves': 18.65946164821559, 'other_rate': 0.01057827550408046, 'reg_alpha': 7.278830113413007, 'reg_lambda': 8.396856518162293, 'subsample': 0.9479136625258441, 'top_rate': 0.9881136070711608}\n"
          ]
        }
      ]
    },
    {
      "cell_type": "markdown",
      "source": [
        "**5.1 Light GBM Modelling Technique with Repeated K Folds**"
      ],
      "metadata": {
        "id": "v9sOkKngUKrf"
      }
    },
    {
      "cell_type": "code",
      "source": [
        "folds = RepeatedKFold(n_splits=5, n_repeats=2, random_state=4950)\n",
        "oof_2 = np.zeros(len(train))\n",
        "predictions_2 = np.zeros(len(test))\n",
        "feature_importance_df_2 = pd.DataFrame()\n",
        "features = data_frame_columns\n",
        "for fold_, (trn_idx, val_idx) in enumerate(folds.split(train[data_frame_columns].values, target.values)):\n",
        "    \n",
        "    print(\"fold {}\".format(fold_))\n",
        "    trn_data = lgb.Dataset(train.iloc[trn_idx][data_frame_columns], label=target.iloc[trn_idx])\n",
        "    val_data = lgb.Dataset(train.iloc[val_idx][data_frame_columns], label=target.iloc[val_idx])\n",
        "    \n",
        "    param ={\n",
        "                'task': 'train',\n",
        "                'boosting': 'goss',\n",
        "                'objective': 'regression',\n",
        "                'metric': 'rmse',\n",
        "                'learning_rate': 0.01,\n",
        "                'subsample': 0.9479136625258441,\n",
        "                'max_depth': 7,\n",
        "                'num_leaves': 19,\n",
        "                'min_child_weight': 53.526503071616105,\n",
        "                'top_rate': 0.9881136070711608,\n",
        "                'other_rate': 0.01057827550408046,\n",
        "                'colsample_bytree': 0.40522959076413667,\n",
        "                'min_split_gain': 5.7028895949632465,\n",
        "                'reg_alpha': 7.278830113413007,\n",
        "                'reg_lambda': 8.396856518162293,\n",
        "                'min_data_in_leaf': 14,\n",
        "                'verbose': -1,\n",
        "                'seed':int(2**fold_),\n",
        "                'bagging_seed':int(2**fold_),\n",
        "                'drop_seed':int(2**fold_)\n",
        "                }\n",
        "\n",
        "       \n",
        "    num_round = 10000\n",
        "    clf_r = lgb.train(param, trn_data, num_round, valid_sets = [trn_data, val_data], verbose_eval=-1, early_stopping_rounds = 200)\n",
        "    oof_2[val_idx] = clf_r.predict(train.iloc[val_idx][data_frame_columns], num_iteration=clf_r.best_iteration)\n",
        "    \n",
        "    fold_importance_df = pd.DataFrame()\n",
        "    fold_importance_df[\"Feature\"] = data_frame_columns\n",
        "    fold_importance_df[\"importance\"] = clf_r.feature_importance()\n",
        "    fold_importance_df[\"fold\"] = fold_ + 1\n",
        "    feature_importance_df_2 = pd.concat([feature_importance_df_2, fold_importance_df], axis=0)\n",
        "    \n",
        "    predictions_2 += clf_r.predict(test[data_frame_columns], num_iteration=clf_r.best_iteration) / (5 * 2)\n",
        "\n",
        "print(\"CV score: {:<8.5f}\".format(mean_squared_error(oof_2, target)**0.5))"
      ],
      "metadata": {
        "colab": {
          "base_uri": "https://localhost:8080/"
        },
        "id": "XvBwvX0BO9_G",
        "outputId": "b6689177-93cd-4d11-a78a-72dd82ccd0e0"
      },
      "execution_count": null,
      "outputs": [
        {
          "output_type": "stream",
          "name": "stdout",
          "text": [
            "fold 0\n",
            "Training until validation scores don't improve for 200 rounds.\n",
            "Early stopping, best iteration is:\n",
            "[2436]\ttraining's rmse: 3.42647\tvalid_1's rmse: 3.66424\n",
            "fold 1\n",
            "Training until validation scores don't improve for 200 rounds.\n",
            "Early stopping, best iteration is:\n",
            "[2189]\ttraining's rmse: 3.41113\tvalid_1's rmse: 3.79882\n",
            "fold 2\n",
            "Training until validation scores don't improve for 200 rounds.\n",
            "Early stopping, best iteration is:\n",
            "[1739]\ttraining's rmse: 3.49563\tvalid_1's rmse: 3.56016\n",
            "fold 3\n",
            "Training until validation scores don't improve for 200 rounds.\n",
            "Early stopping, best iteration is:\n",
            "[1411]\ttraining's rmse: 3.50289\tvalid_1's rmse: 3.62453\n",
            "fold 4\n",
            "Training until validation scores don't improve for 200 rounds.\n",
            "Early stopping, best iteration is:\n",
            "[2154]\ttraining's rmse: 3.45279\tvalid_1's rmse: 3.61581\n",
            "fold 5\n",
            "Training until validation scores don't improve for 200 rounds.\n",
            "Early stopping, best iteration is:\n",
            "[2781]\ttraining's rmse: 3.38629\tvalid_1's rmse: 3.73076\n",
            "fold 6\n",
            "Training until validation scores don't improve for 200 rounds.\n",
            "Early stopping, best iteration is:\n",
            "[1897]\ttraining's rmse: 3.46907\tvalid_1's rmse: 3.62669\n",
            "fold 7\n",
            "Training until validation scores don't improve for 200 rounds.\n",
            "Early stopping, best iteration is:\n",
            "[1753]\ttraining's rmse: 3.48045\tvalid_1's rmse: 3.63291\n",
            "fold 8\n",
            "Training until validation scores don't improve for 200 rounds.\n",
            "Early stopping, best iteration is:\n",
            "[2929]\ttraining's rmse: 3.39431\tvalid_1's rmse: 3.66136\n",
            "fold 9\n",
            "Training until validation scores don't improve for 200 rounds.\n",
            "Early stopping, best iteration is:\n",
            "[2000]\ttraining's rmse: 3.46663\tvalid_1's rmse: 3.59695\n",
            "CV score: 3.65001 \n"
          ]
        }
      ]
    },
    {
      "cell_type": "code",
      "source": [
        "cols = (feature_importance_df_2[[\"Feature\", \"importance\"]]\n",
        "        .groupby(\"Feature\")\n",
        "        .mean()\n",
        "        .sort_values(by=\"importance\", ascending=False)[:1000].index)\n",
        "\n",
        "best_features = feature_importance_df_2.loc[feature_importance_df_2.Feature.isin(cols)]\n",
        "\n",
        "plt.figure(figsize=(14,25))\n",
        "sns.barplot(x=\"importance\",\n",
        "            y=\"Feature\",\n",
        "            data=best_features.sort_values(by=\"importance\",\n",
        "                                           ascending=False))\n",
        "plt.title('LightGBM Features (avg over folds)')\n",
        "plt.tight_layout()\n",
        "plt.savefig('lgbm_importances.png')"
      ],
      "metadata": {
        "colab": {
          "base_uri": "https://localhost:8080/",
          "height": 1000
        },
        "id": "B6Kgz6Exxdp3",
        "outputId": "1432c553-d44b-4008-a16f-a357c1ccd553"
      },
      "execution_count": null,
      "outputs": [
        {
          "output_type": "display_data",
          "data": {
            "text/plain": [
              "<Figure size 1008x1800 with 1 Axes>"
            ],
            "image/png": "[encoded data removed]"
          },
          "metadata": {
            "needs_background": "light"
          }
        }
      ]
    },
    {
      "cell_type": "markdown",
      "source": [
        "**5.2 Light GBM Modelling Technique with Stratified K Folds**"
      ],
      "metadata": {
        "id": "QDAs2iyuUzvl"
      }
    },
    {
      "cell_type": "code",
      "source": [
        "%%time\n",
        "# Change in Hyper Parameters using kernel : https://www.kaggle.com/mfjwr1/simple-lightgbm-without-blending/output\n",
        "import lightgbm as lgb\n",
        "folds = StratifiedKFold(n_splits=5, shuffle = True, random_state=4950)\n",
        "oof = np.zeros(len(train))\n",
        "predictions = np.zeros(len(test))\n",
        "feature_importance_df = pd.DataFrame()\n",
        "\n",
        "for fold_, (trn_idx, val_idx) in enumerate(folds.split(train.values, train['outliers'].values)):\n",
        "    \n",
        "    print(\"fold {}\".format(fold_))\n",
        "    trn_data = lgb.Dataset(train.iloc[trn_idx][data_frame_columns], label=target.iloc[trn_idx])\n",
        "    val_data = lgb.Dataset(train.iloc[val_idx][data_frame_columns], label=target.iloc[val_idx])\n",
        "\n",
        "    param ={\n",
        "                'task': 'train',\n",
        "                'boosting': 'goss',\n",
        "                'objective': 'regression',\n",
        "                'metric': 'rmse',\n",
        "                'learning_rate': 0.01,\n",
        "                'subsample': 0.9479136625258441,\n",
        "                'max_depth': 7,\n",
        "                'num_leaves': 19,\n",
        "                'min_child_weight': 53.526503071616105,\n",
        "                'top_rate': 0.9881136070711608,\n",
        "                'other_rate': 0.01057827550408046,\n",
        "                'colsample_bytree': 0.40522959076413667,\n",
        "                'min_split_gain': 5.7028895949632465,\n",
        "                'reg_alpha': 7.278830113413007,\n",
        "                'reg_lambda': 8.396856518162293,\n",
        "                'min_data_in_leaf': 14,\n",
        "                'verbose': -1,\n",
        "                'seed':int(2**fold_),\n",
        "                'bagging_seed':int(2**fold_),\n",
        "                'drop_seed':int(2**fold_)\n",
        "                        }\n",
        "    \n",
        "    num_round = 10000\n",
        "    clf = lgb.train(param, trn_data, num_round, valid_sets = [trn_data, val_data], verbose_eval=-1, early_stopping_rounds = 200)\n",
        "    oof[val_idx] = clf.predict(train.iloc[val_idx][data_frame_columns ], num_iteration=clf.best_iteration)\n",
        "    \n",
        "    fold_importance_df = pd.DataFrame()\n",
        "    fold_importance_df[\"Feature\"] = data_frame_columns \n",
        "    fold_importance_df[\"importance\"] = clf.feature_importance()\n",
        "    fold_importance_df[\"fold\"] = fold_ + 1\n",
        "    feature_importance_df = pd.concat([feature_importance_df, fold_importance_df], axis=0)\n",
        "    \n",
        "    predictions += clf.predict(test[data_frame_columns], num_iteration=clf.best_iteration) / folds.n_splits\n",
        "print(\"CV score: {:<8.5f}\".format(mean_squared_error(oof, target)**0.5))\n",
        "np.sqrt(mean_squared_error(oof, target))"
      ],
      "metadata": {
        "colab": {
          "base_uri": "https://localhost:8080/"
        },
        "id": "RBA8091fZi1g",
        "outputId": "67ecd81d-a207-4576-9872-febeda3f6a68"
      },
      "execution_count": null,
      "outputs": [
        {
          "output_type": "stream",
          "name": "stdout",
          "text": [
            "fold 0\n",
            "Training until validation scores don't improve for 200 rounds.\n",
            "Early stopping, best iteration is:\n",
            "[2645]\ttraining's rmse: 3.41781\tvalid_1's rmse: 3.65102\n",
            "fold 1\n",
            "Training until validation scores don't improve for 200 rounds.\n",
            "Early stopping, best iteration is:\n",
            "[2045]\ttraining's rmse: 3.45669\tvalid_1's rmse: 3.64922\n",
            "fold 2\n",
            "Training until validation scores don't improve for 200 rounds.\n",
            "Early stopping, best iteration is:\n",
            "[1249]\ttraining's rmse: 3.50387\tvalid_1's rmse: 3.66932\n",
            "fold 3\n",
            "Training until validation scores don't improve for 200 rounds.\n",
            "Early stopping, best iteration is:\n",
            "[2137]\ttraining's rmse: 3.44944\tvalid_1's rmse: 3.64328\n",
            "fold 4\n",
            "Training until validation scores don't improve for 200 rounds.\n",
            "Early stopping, best iteration is:\n",
            "[2143]\ttraining's rmse: 3.44572\tvalid_1's rmse: 3.6512\n",
            "CV score: 3.65282 \n",
            "CPU times: user 21min 40s, sys: 3.75 s, total: 21min 43s\n",
            "Wall time: 5min 40s\n"
          ]
        },
        {
          "output_type": "execute_result",
          "data": {
            "text/plain": [
              "3.652817711210018"
            ]
          },
          "metadata": {},
          "execution_count": 133
        }
      ]
    },
    {
      "cell_type": "markdown",
      "source": [
        "**5.3 XgBoost**"
      ],
      "metadata": {
        "id": "Up8JBcfbEtMA"
      }
    },
    {
      "cell_type": "code",
      "source": [
        "%%time\n",
        "import xgboost as xgb\n",
        "folds = RepeatedKFold(n_splits=5, n_repeats=2, random_state=4076)\n",
        "oof_xgb_3 = np.zeros(len(train))\n",
        "predictions_xgb_3 = np.zeros(len(test))\n",
        "feature_importance_df_3 = pd.DataFrame()\n",
        "\n",
        "xgb_params = {\n",
        "    'objective': 'reg:linear',\n",
        "    'eval_metric': 'rmse',\n",
        "    'silent': True,\n",
        "    'booster': 'gbtree',\n",
        "    'n_jobs': 4,\n",
        "    'n_estimators': 20000,\n",
        "    'grow_policy': 'lossguide',\n",
        "    'max_depth': 12,\n",
        "    'seed': 538,\n",
        "    'colsample_bylevel': 0.9,\n",
        "    'colsample_bytree': 0.8,\n",
        "    'gamma': 0.0001,\n",
        "    'learning_rate': 0.006150886706231842,\n",
        "    'max_bin': 128,\n",
        "    'max_leaves': 47,\n",
        "    'min_child_weight': 40,\n",
        "    'reg_alpha': 10.0,\n",
        "    'reg_lambda': 10.0,\n",
        "    'silent': True,\n",
        "    'eta': 0.005,\n",
        "    'subsample': 0.9\n",
        "}\n",
        "for fold_, (trn_idx, val_idx) in enumerate(folds.split(outliers,outliers['outliers'].values)):\n",
        "    print('-')\n",
        "    print(\"Fold {}\".format(fold_ + 1))\n",
        "    trn_data = xgb.DMatrix(data=outliers.iloc[trn_idx][data_frame_columns], label=target.iloc[trn_idx])\n",
        "    val_data = xgb.DMatrix(data=outliers.iloc[val_idx][data_frame_columns], label=target.iloc[val_idx])\n",
        "    watchlist = [(trn_data, 'train'), (val_data, 'valid')]\n",
        "    print(\"xgb \" + str(fold_) + \"-\" * 50)\n",
        "    num_round = 10000\n",
        "    xgb_model = xgb.train(xgb_params, trn_data, num_round, watchlist, early_stopping_rounds=500, verbose_eval=1000)\n",
        "    oof_xgb_3[val_idx] = xgb_model.predict(xgb.DMatrix(train.iloc[val_idx][data_frame_columns]), ntree_limit=xgb_model.best_ntree_limit+50)\n",
        "\n",
        "    predictions_xgb_3 += xgb_model.predict(xgb.DMatrix(test[data_frame_columns]), ntree_limit=xgb_model.best_ntree_limit+50) / (5 * 2)\n",
        "\n",
        "np.save('oof_xgb', oof_xgb_3)\n",
        "np.save('predictions_xgb', predictions_xgb_3)\n",
        "print(np.sqrt(mean_squared_error(target.values, oof_xgb_3)))"
      ],
      "metadata": {
        "colab": {
          "base_uri": "https://localhost:8080/"
        },
        "id": "8mwsyG3XW7SW",
        "outputId": "85108b3f-7d5c-4a33-c437-a738d146a3f5"
      },
      "execution_count": null,
      "outputs": [
        {
          "output_type": "stream",
          "name": "stdout",
          "text": [
            "-\n",
            "Fold 1\n",
            "xgb 0--------------------------------------------------\n",
            "[0]\ttrain-rmse:3.96078\tvalid-rmse:3.91087\n",
            "Multiple eval metrics have been passed: 'valid-rmse' will be used for early stopping.\n",
            "\n",
            "Will train until valid-rmse hasn't improved in 500 rounds.\n",
            "Stopping. Best iteration:\n",
            "[494]\ttrain-rmse:3.71499\tvalid-rmse:3.81274\n",
            "\n",
            "-\n",
            "Fold 2\n",
            "xgb 1--------------------------------------------------\n",
            "[0]\ttrain-rmse:3.92951\tvalid-rmse:4.03499\n",
            "Multiple eval metrics have been passed: 'valid-rmse' will be used for early stopping.\n",
            "\n",
            "Will train until valid-rmse hasn't improved in 500 rounds.\n",
            "Stopping. Best iteration:\n",
            "[452]\ttrain-rmse:3.73309\tvalid-rmse:3.93585\n",
            "\n",
            "-\n",
            "Fold 3\n",
            "xgb 2--------------------------------------------------\n",
            "[0]\ttrain-rmse:3.93499\tvalid-rmse:4.01299\n",
            "Multiple eval metrics have been passed: 'valid-rmse' will be used for early stopping.\n",
            "\n",
            "Will train until valid-rmse hasn't improved in 500 rounds.\n",
            "Stopping. Best iteration:\n",
            "[473]\ttrain-rmse:3.71185\tvalid-rmse:3.90975\n",
            "\n",
            "-\n",
            "Fold 4\n",
            "xgb 3--------------------------------------------------\n",
            "[0]\ttrain-rmse:3.95954\tvalid-rmse:3.91525\n",
            "Multiple eval metrics have been passed: 'valid-rmse' will be used for early stopping.\n",
            "\n",
            "Will train until valid-rmse hasn't improved in 500 rounds.\n",
            "Stopping. Best iteration:\n",
            "[427]\ttrain-rmse:3.74002\tvalid-rmse:3.81785\n",
            "\n",
            "-\n",
            "Fold 5\n",
            "xgb 4--------------------------------------------------\n",
            "[0]\ttrain-rmse:3.96874\tvalid-rmse:3.8789\n",
            "Multiple eval metrics have been passed: 'valid-rmse' will be used for early stopping.\n",
            "\n",
            "Will train until valid-rmse hasn't improved in 500 rounds.\n",
            "Stopping. Best iteration:\n",
            "[445]\ttrain-rmse:3.75504\tvalid-rmse:3.78287\n",
            "\n",
            "-\n",
            "Fold 6\n",
            "xgb 5--------------------------------------------------\n",
            "[0]\ttrain-rmse:3.9667\tvalid-rmse:3.88722\n",
            "Multiple eval metrics have been passed: 'valid-rmse' will be used for early stopping.\n",
            "\n",
            "Will train until valid-rmse hasn't improved in 500 rounds.\n",
            "Stopping. Best iteration:\n",
            "[463]\ttrain-rmse:3.74618\tvalid-rmse:3.79014\n",
            "\n",
            "-\n",
            "Fold 7\n",
            "xgb 6--------------------------------------------------\n",
            "[0]\ttrain-rmse:3.93864\tvalid-rmse:3.99885\n",
            "Multiple eval metrics have been passed: 'valid-rmse' will be used for early stopping.\n",
            "\n",
            "Will train until valid-rmse hasn't improved in 500 rounds.\n",
            "[1000]\ttrain-rmse:3.58492\tvalid-rmse:3.90121\n",
            "Stopping. Best iteration:\n",
            "[533]\ttrain-rmse:3.67996\tvalid-rmse:3.89882\n",
            "\n",
            "-\n",
            "Fold 8\n",
            "xgb 7--------------------------------------------------\n",
            "[0]\ttrain-rmse:3.9382\tvalid-rmse:4.00117\n",
            "Multiple eval metrics have been passed: 'valid-rmse' will be used for early stopping.\n",
            "\n",
            "Will train until valid-rmse hasn't improved in 500 rounds.\n",
            "Stopping. Best iteration:\n",
            "[430]\ttrain-rmse:3.7424\tvalid-rmse:3.90385\n",
            "\n",
            "-\n",
            "Fold 9\n",
            "xgb 8--------------------------------------------------\n",
            "[0]\ttrain-rmse:3.94475\tvalid-rmse:3.97474\n",
            "Multiple eval metrics have been passed: 'valid-rmse' will be used for early stopping.\n",
            "\n",
            "Will train until valid-rmse hasn't improved in 500 rounds.\n",
            "Stopping. Best iteration:\n",
            "[471]\ttrain-rmse:3.72858\tvalid-rmse:3.87596\n",
            "\n",
            "-\n",
            "Fold 10\n",
            "xgb 9--------------------------------------------------\n",
            "[0]\ttrain-rmse:3.9654\tvalid-rmse:3.89178\n",
            "Multiple eval metrics have been passed: 'valid-rmse' will be used for early stopping.\n",
            "\n",
            "Will train until valid-rmse hasn't improved in 500 rounds.\n",
            "Stopping. Best iteration:\n",
            "[475]\ttrain-rmse:3.73105\tvalid-rmse:3.7928\n",
            "\n",
            "3.8546233335808067\n",
            "CPU times: user 12h 9min 54s, sys: 3min 3s, total: 12h 12min 57s\n",
            "Wall time: 3h 7min 23s\n"
          ]
        }
      ]
    },
    {
      "cell_type": "markdown",
      "source": [
        "**5.3 Stacking**"
      ],
      "metadata": {
        "id": "dmzDRa4TjQme"
      }
    },
    {
      "cell_type": "code",
      "source": [
        "from sklearn.linear_model import BayesianRidge\n",
        "\n",
        "train_stack = np.vstack([oof,oof_2]).transpose()\n",
        "test_stack = np.vstack([predictions, predictions_2]).transpose()\n",
        "\n",
        "folds_stack = RepeatedKFold(n_splits=5, n_repeats=1, random_state=4590)\n",
        "oof_stack = np.zeros(train_stack.shape[0])\n",
        "predictions_3 = np.zeros(test_stack.shape[0])\n",
        "\n",
        "for fold_, (trn_idx, val_idx) in enumerate(folds_stack.split(train_stack,target)):\n",
        "    print(\"fold {}\".format(fold_))\n",
        "    trn_data, trn_y = train_stack[trn_idx], target.iloc[trn_idx].values\n",
        "    val_data, val_y = train_stack[val_idx], target.iloc[val_idx].values\n",
        "    \n",
        "    clf_3 = BayesianRidge()\n",
        "    clf_3 = clf_3.fit(trn_data, trn_y)\n",
        "    \n",
        "    oof_stack[val_idx] = clf_3.predict(val_data)\n",
        "    predictions_3 += clf_3.predict(test_stack) / 5\n",
        "    \n",
        "np.sqrt(mean_squared_error(target.values, oof_stack))"
      ],
      "metadata": {
        "colab": {
          "base_uri": "https://localhost:8080/"
        },
        "outputId": "e8752d03-61a4-4bcf-8ddc-1213be55efe3",
        "id": "uXNKcJCFjQmg"
      },
      "execution_count": null,
      "outputs": [
        {
          "output_type": "stream",
          "name": "stdout",
          "text": [
            "fold 0\n",
            "fold 1\n",
            "fold 2\n",
            "fold 3\n",
            "fold 4\n"
          ]
        },
        {
          "output_type": "execute_result",
          "data": {
            "text/plain": [
              "3.6490788711713846"
            ]
          },
          "metadata": {},
          "execution_count": 134
        }
      ]
    },
    {
      "cell_type": "markdown",
      "source": [
        "**Summary and Submission**"
      ],
      "metadata": {
        "id": "VRtWijzXjQmh"
      }
    },
    {
      "cell_type": "code",
      "source": [
        "submission_name = pd.to_datetime(\"today\")\n",
        "sub_df = pd.read_csv('/content/sample_submission.csv')\n",
        "sub_df['target'] = predictions_3\n",
        "sub_df.to_csv('/content/submission_102.csv', index=False)\n",
        "!kaggle competitions submit elo-merchant-category-recommendation -f '/content/submission_102.csv' -m \"final_sfold_ipnb\""
      ],
      "metadata": {
        "colab": {
          "base_uri": "https://localhost:8080/"
        },
        "outputId": "3434b115-59c2-4ee5-c49d-cdfd4a90fa83",
        "id": "KBulZROvjQmi"
      },
      "execution_count": null,
      "outputs": [
        {
          "output_type": "stream",
          "name": "stdout",
          "text": [
            "Warning: Your Kaggle API key is readable by other users on this system! To fix this, you can run 'chmod 600 /root/.kaggle/kaggle.json'\n",
            "100% 4.23M/4.23M [00:00<00:00, 16.8MB/s]\n",
            "Successfully submitted to Elo Merchant Category Recommendation"
          ]
        }
      ]
    },
    {
      "cell_type": "code",
      "source": [
        "from prettytable import PrettyTable\n",
        "x = PrettyTable()\n",
        "x.field_names = ['Model', 'train_RMSE', 'test_RMSE']\n",
        "x.add_row([\"single LGBM model with repeated K-Folds\", \"3.46663\", \"3.59695\"])\n",
        "x.add_row([\"single LGBM model with Stratified K-Folds\", \"3.44572\", \"3.6512\"])\n",
        "x.add_row([\"XGB\", \"3.73105\", \"3.7928\"])\n",
        "print(x)"
      ],
      "metadata": {
        "colab": {
          "base_uri": "https://localhost:8080/"
        },
        "outputId": "02a50af4-ef29-4be3-c593-50372cf60843",
        "id": "IFd2K9j-VKLV"
      },
      "execution_count": 12,
      "outputs": [
        {
          "output_type": "stream",
          "name": "stdout",
          "text": [
            "+-------------------------------------------+------------+-----------+\n",
            "|                   Model                   | train_RMSE | test_RMSE |\n",
            "+-------------------------------------------+------------+-----------+\n",
            "|  single LGBM model with repeated K-Folds  |  3.46663   |  3.59695  |\n",
            "| single LGBM model with Stratified K-Folds |  3.44572   |   3.6512  |\n",
            "|                    XGB                    |  3.73105   |   3.7928  |\n",
            "+-------------------------------------------+------------+-----------+\n"
          ]
        }
      ]
    },
    {
      "cell_type": "code",
      "source": [
        "from IPython.display import Image\n",
        "print(\"private score after Submission in kaggle\")\n",
        "Image(\"/content/ps_score_hpt.JPG\")"
      ],
      "metadata": {
        "colab": {
          "base_uri": "https://localhost:8080/",
          "height": 161
        },
        "outputId": "fb6e1fdb-c746-4bd9-e4da-34812c3e29f6",
        "id": "yuSFSpdIVKLW"
      },
      "execution_count": null,
      "outputs": [
        {
          "output_type": "stream",
          "name": "stdout",
          "text": [
            "private score after Submission in kaggle\n"
          ]
        },
        {
          "output_type": "execute_result",
          "data": {
            "image/jpeg": "[encoded data removed]",
            "text/plain": [
              "<IPython.core.display.Image object>"
            ]
          },
          "metadata": {},
          "execution_count": 5
        }
      ]
    },
    {
      "cell_type": "code",
      "source": [
        "from IPython.display import Image\n",
        "\n",
        "print(\"Score is in top 10% in kaggle leaderboard\")\n",
        "Image(\"/content/lb_score_hpt.JPG\")"
      ],
      "metadata": {
        "colab": {
          "base_uri": "https://localhost:8080/",
          "height": 85
        },
        "outputId": "f7ce69d4-1db0-4e70-abc4-e05e3076414c",
        "id": "E4vfTfFCVKLX"
      },
      "execution_count": null,
      "outputs": [
        {
          "output_type": "stream",
          "name": "stdout",
          "text": [
            "Score is in top 10% in kaggle leaderboard\n"
          ]
        },
        {
          "output_type": "execute_result",
          "data": {
            "image/jpeg": "[encoded data removed]",
            "text/plain": [
              "<IPython.core.display.Image object>"
            ]
          },
          "metadata": {},
          "execution_count": 6
        }
      ]
    },
    {
      "cell_type": "code",
      "source": [],
      "metadata": {
        "id": "MCX4zvNYWjtl"
      },
      "execution_count": null,
      "outputs": []
    }
  ],
  "metadata": {
    "accelerator": "GPU",
    "colab": {
      "collapsed_sections": [],
      "machine_shape": "hm",
      "provenance": []
    },
    "gpuClass": "standard",
    "kernelspec": {
      "display_name": "Python 3",
      "name": "python3"
    },
    "language_info": {
      "name": "python"
    }
  },
  "nbformat": 4,
  "nbformat_minor": 0
}