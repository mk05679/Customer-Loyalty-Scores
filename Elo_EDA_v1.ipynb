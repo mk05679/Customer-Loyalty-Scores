{
  "cells": [
    {
      "cell_type": "code",
      "execution_count": 1,
      "metadata": {
        "colab": {
          "base_uri": "https://localhost:8080/"
        },
        "id": "MhFW-Hu6c8SA",
        "outputId": "3b497412-da4d-4eab-8dc1-a2bee3fcd8b4"
      },
      "outputs": [
        {
          "output_type": "stream",
          "name": "stdout",
          "text": [
            "Looking in indexes: https://pypi.org/simple, https://us-python.pkg.dev/colab-wheels/public/simple/\n",
            "Requirement already satisfied: kaggle in /usr/local/lib/python3.7/dist-packages (1.5.12)\n",
            "Requirement already satisfied: urllib3 in /usr/local/lib/python3.7/dist-packages (from kaggle) (1.24.3)\n",
            "Requirement already satisfied: certifi in /usr/local/lib/python3.7/dist-packages (from kaggle) (2022.6.15)\n",
            "Requirement already satisfied: requests in /usr/local/lib/python3.7/dist-packages (from kaggle) (2.23.0)\n",
            "Requirement already satisfied: python-slugify in /usr/local/lib/python3.7/dist-packages (from kaggle) (6.1.2)\n",
            "Requirement already satisfied: python-dateutil in /usr/local/lib/python3.7/dist-packages (from kaggle) (2.8.2)\n",
            "Requirement already satisfied: tqdm in /usr/local/lib/python3.7/dist-packages (from kaggle) (4.64.0)\n",
            "Requirement already satisfied: six>=1.10 in /usr/local/lib/python3.7/dist-packages (from kaggle) (1.15.0)\n",
            "Requirement already satisfied: text-unidecode>=1.3 in /usr/local/lib/python3.7/dist-packages (from python-slugify->kaggle) (1.3)\n",
            "Requirement already satisfied: idna<3,>=2.5 in /usr/local/lib/python3.7/dist-packages (from requests->kaggle) (2.10)\n",
            "Requirement already satisfied: chardet<4,>=3.0.2 in /usr/local/lib/python3.7/dist-packages (from requests->kaggle) (3.0.4)\n"
          ]
        }
      ],
      "source": [
        "!pip install kaggle "
      ]
    },
    {
      "cell_type": "code",
      "execution_count": 3,
      "metadata": {
        "id": "7WvwbSmffQzm",
        "colab": {
          "base_uri": "https://localhost:8080/"
        },
        "outputId": "7aee1eba-6a97-4536-e3ef-4f4c182c7bef"
      },
      "outputs": [
        {
          "output_type": "stream",
          "name": "stdout",
          "text": [
            "mkdir: cannot create directory ‘/root/.kaggle’: File exists\n"
          ]
        }
      ],
      "source": [
        "!mkdir ~/.kaggle"
      ]
    },
    {
      "cell_type": "code",
      "execution_count": 4,
      "metadata": {
        "id": "oo1LRUnNgPCG"
      },
      "outputs": [],
      "source": [
        "!cp kaggle.json ~/.kaggle/"
      ]
    },
    {
      "cell_type": "code",
      "execution_count": 5,
      "metadata": {
        "colab": {
          "base_uri": "https://localhost:8080/"
        },
        "id": "yTSQAsMvfqzg",
        "outputId": "4b8ba19f-eead-4053-e39e-03b0ce84183e"
      },
      "outputs": [
        {
          "output_type": "stream",
          "name": "stdout",
          "text": [
            "Warning: Your Kaggle API key is readable by other users on this system! To fix this, you can run 'chmod 600 /root/.kaggle/kaggle.json'\n",
            "Downloading elo-merchant-category-recommendation.zip to /content\n",
            " 99% 606M/615M [00:03<00:00, 192MB/s]\n",
            "100% 615M/615M [00:03<00:00, 191MB/s]\n"
          ]
        }
      ],
      "source": [
        "!kaggle competitions download -c elo-merchant-category-recommendation"
      ]
    },
    {
      "cell_type": "code",
      "execution_count": 6,
      "metadata": {
        "colab": {
          "base_uri": "https://localhost:8080/"
        },
        "id": "f6zRnalWfwY3",
        "outputId": "dfe9c426-c127-497d-d18b-708145400cb6"
      },
      "outputs": [
        {
          "output_type": "stream",
          "name": "stdout",
          "text": [
            "Archive:  elo-merchant-category-recommendation.zip\n",
            "  inflating: Data Dictionary.xlsx    \n",
            "  inflating: Data_Dictionary.xlsx    \n",
            "  inflating: historical_transactions.csv  \n",
            "  inflating: merchants.csv           \n",
            "  inflating: new_merchant_transactions.csv  \n",
            "  inflating: sample_submission.csv   \n",
            "  inflating: test.csv                \n",
            "  inflating: train.csv               \n"
          ]
        }
      ],
      "source": [
        "! unzip elo-merchant-category-recommendation"
      ]
    },
    {
      "cell_type": "markdown",
      "metadata": {
        "id": "sb7rPShIm9D3"
      },
      "source": [
        "###**1. Importing Libraries**"
      ]
    },
    {
      "cell_type": "code",
      "execution_count": 7,
      "metadata": {
        "id": "uzvYLQ-xkVG-"
      },
      "outputs": [],
      "source": [
        "import pandas as pd\n",
        "import numpy as np\n",
        "import seaborn as sns\n",
        "import matplotlib.pyplot as plt\n",
        "from scipy.stats import chi2_contingency,chisquare\n",
        "from pandas.plotting import scatter_matrix\n",
        "import plotly.graph_objs as go\n",
        "import plotly.offline as py\n",
        "from datetime import datetime, date\n",
        "import gc\n",
        "import warnings\n",
        "warnings.filterwarnings('ignore')"
      ]
    },
    {
      "cell_type": "markdown",
      "metadata": {
        "id": "Ko3H1hvQm449"
      },
      "source": [
        "###**2.Loading Datasets**"
      ]
    },
    {
      "cell_type": "code",
      "execution_count": 8,
      "metadata": {
        "id": "8vNahiSDJ28A"
      },
      "outputs": [],
      "source": [
        "def reduce_mem_usage(df, verbose=True):\n",
        "    numerics = ['int16', 'int32', 'int64', 'float16', 'float32', 'float64']\n",
        "    start_mem = df.memory_usage().sum() / 1024**2    \n",
        "    for col in df.columns:\n",
        "        col_type = df[col].dtypes\n",
        "        if col_type in numerics:\n",
        "            c_min = df[col].min()\n",
        "            c_max = df[col].max()\n",
        "            if str(col_type)[:3] == 'int':\n",
        "                if c_min > np.iinfo(np.int8).min and c_max < np.iinfo(np.int8).max:\n",
        "                    df[col] = df[col].astype(np.int8)\n",
        "                elif c_min > np.iinfo(np.int16).min and c_max < np.iinfo(np.int16).max:\n",
        "                    df[col] = df[col].astype(np.int16)\n",
        "                elif c_min > np.iinfo(np.int32).min and c_max < np.iinfo(np.int32).max:\n",
        "                    df[col] = df[col].astype(np.int32)\n",
        "                elif c_min > np.iinfo(np.int64).min and c_max < np.iinfo(np.int64).max:\n",
        "                    df[col] = df[col].astype(np.int64)  \n",
        "            else:\n",
        "                if c_min > np.finfo(np.float16).min and c_max < np.finfo(np.float16).max:\n",
        "                    df[col] = df[col].astype(np.float16)\n",
        "                elif c_min > np.finfo(np.float32).min and c_max < np.finfo(np.float32).max:\n",
        "                    df[col] = df[col].astype(np.float32)\n",
        "                else:\n",
        "                    df[col] = df[col].astype(np.float64)    \n",
        "    end_mem = df.memory_usage().sum() / 1024**2\n",
        "    if verbose: print('Mem. usage decreased to {:5.2f} Mb ({:.1f}% reduction)'.format(end_mem, 100 * (start_mem - end_mem) / start_mem))\n",
        "    return df"
      ]
    },
    {
      "cell_type": "code",
      "execution_count": 9,
      "metadata": {
        "colab": {
          "base_uri": "https://localhost:8080/"
        },
        "id": "RAAZ7pnPQzi4",
        "outputId": "6f52438f-2d01-47c4-ca29-4b2adf13d787"
      },
      "outputs": [
        {
          "output_type": "stream",
          "name": "stdout",
          "text": [
            "CPU times: user 277 ms, sys: 58.3 ms, total: 335 ms\n",
            "Wall time: 420 ms\n"
          ]
        }
      ],
      "source": [
        "%%time\n",
        "train = pd.read_csv('/content/train.csv', parse_dates=['first_active_month'])\n",
        "test = pd.read_csv('/content/test.csv', parse_dates=['first_active_month'])\n"
      ]
    },
    {
      "cell_type": "code",
      "execution_count": 10,
      "metadata": {
        "colab": {
          "base_uri": "https://localhost:8080/"
        },
        "id": "yAmfwmiXufio",
        "outputId": "379d10a9-c742-4b16-d8e2-e57c2618ede6"
      },
      "outputs": [
        {
          "output_type": "stream",
          "name": "stdout",
          "text": [
            "Mem. usage decreased to 30.32 Mb (46.0% reduction)\n",
            "Mem. usage decreased to 1749.11 Mb (43.7% reduction)\n",
            "Mem. usage decreased to 114.20 Mb (45.5% reduction)\n",
            "CPU times: user 48.3 s, sys: 8.46 s, total: 56.8 s\n",
            "Wall time: 56.4 s\n"
          ]
        },
        {
          "output_type": "execute_result",
          "data": {
            "text/plain": [
              "0"
            ]
          },
          "metadata": {},
          "execution_count": 10
        }
      ],
      "source": [
        "%%time\n",
        "merchants = reduce_mem_usage(pd.read_csv('/content/merchants.csv'))\n",
        "historical_transactions = reduce_mem_usage(pd.read_csv('/content/historical_transactions.csv'))\n",
        "new_transactions = reduce_mem_usage(pd.read_csv('/content/new_merchant_transactions.csv'))\n",
        "gc.collect()"
      ]
    },
    {
      "cell_type": "markdown",
      "metadata": {
        "id": "5YSfAWHYkl49"
      },
      "source": [
        "###**3. Explore the train and test data file**"
      ]
    },
    {
      "cell_type": "code",
      "execution_count": 11,
      "metadata": {
        "colab": {
          "base_uri": "https://localhost:8080/",
          "height": 206
        },
        "id": "DtaGUfFfvN1j",
        "outputId": "8002727a-b23c-4f86-d5ed-9ba05ce30f8f"
      },
      "outputs": [
        {
          "output_type": "execute_result",
          "data": {
            "text/plain": [
              "  first_active_month          card_id  feature_1  feature_2  feature_3  \\\n",
              "0         2017-06-01  C_ID_92a2005557          5          2          1   \n",
              "1         2017-01-01  C_ID_3d0044924f          4          1          0   \n",
              "2         2016-08-01  C_ID_d639edf6cd          2          2          0   \n",
              "3         2017-09-01  C_ID_186d6a6901          4          3          0   \n",
              "4         2017-11-01  C_ID_cdbd2c0db2          1          3          0   \n",
              "\n",
              "     target  \n",
              "0 -0.820283  \n",
              "1  0.392913  \n",
              "2  0.688056  \n",
              "3  0.142495  \n",
              "4 -0.159749  "
            ],
            "text/html": [
              "\n",
              "  <div id=\"df-b028cf53-8cf2-4f82-aec2-25449b460413\">\n",
              "    <div class=\"colab-df-container\">\n",
              "      <div>\n",
              "<style scoped>\n",
              "    .dataframe tbody tr th:only-of-type {\n",
              "        vertical-align: middle;\n",
              "    }\n",
              "\n",
              "    .dataframe tbody tr th {\n",
              "        vertical-align: top;\n",
              "    }\n",
              "\n",
              "    .dataframe thead th {\n",
              "        text-align: right;\n",
              "    }\n",
              "</style>\n",
              "<table border=\"1\" class=\"dataframe\">\n",
              "  <thead>\n",
              "    <tr style=\"text-align: right;\">\n",
              "      <th></th>\n",
              "      <th>first_active_month</th>\n",
              "      <th>card_id</th>\n",
              "      <th>feature_1</th>\n",
              "      <th>feature_2</th>\n",
              "      <th>feature_3</th>\n",
              "      <th>target</th>\n",
              "    </tr>\n",
              "  </thead>\n",
              "  <tbody>\n",
              "    <tr>\n",
              "      <th>0</th>\n",
              "      <td>2017-06-01</td>\n",
              "      <td>C_ID_92a2005557</td>\n",
              "      <td>5</td>\n",
              "      <td>2</td>\n",
              "      <td>1</td>\n",
              "      <td>-0.820283</td>\n",
              "    </tr>\n",
              "    <tr>\n",
              "      <th>1</th>\n",
              "      <td>2017-01-01</td>\n",
              "      <td>C_ID_3d0044924f</td>\n",
              "      <td>4</td>\n",
              "      <td>1</td>\n",
              "      <td>0</td>\n",
              "      <td>0.392913</td>\n",
              "    </tr>\n",
              "    <tr>\n",
              "      <th>2</th>\n",
              "      <td>2016-08-01</td>\n",
              "      <td>C_ID_d639edf6cd</td>\n",
              "      <td>2</td>\n",
              "      <td>2</td>\n",
              "      <td>0</td>\n",
              "      <td>0.688056</td>\n",
              "    </tr>\n",
              "    <tr>\n",
              "      <th>3</th>\n",
              "      <td>2017-09-01</td>\n",
              "      <td>C_ID_186d6a6901</td>\n",
              "      <td>4</td>\n",
              "      <td>3</td>\n",
              "      <td>0</td>\n",
              "      <td>0.142495</td>\n",
              "    </tr>\n",
              "    <tr>\n",
              "      <th>4</th>\n",
              "      <td>2017-11-01</td>\n",
              "      <td>C_ID_cdbd2c0db2</td>\n",
              "      <td>1</td>\n",
              "      <td>3</td>\n",
              "      <td>0</td>\n",
              "      <td>-0.159749</td>\n",
              "    </tr>\n",
              "  </tbody>\n",
              "</table>\n",
              "</div>\n",
              "      <button class=\"colab-df-convert\" onclick=\"convertToInteractive('df-b028cf53-8cf2-4f82-aec2-25449b460413')\"\n",
              "              title=\"Convert this dataframe to an interactive table.\"\n",
              "              style=\"display:none;\">\n",
              "        \n",
              "  <svg xmlns=\"http://www.w3.org/2000/svg\" height=\"24px\"viewBox=\"0 0 24 24\"\n",
              "       width=\"24px\">\n",
              "    <path d=\"M0 0h24v24H0V0z\" fill=\"none\"/>\n",
              "    <path d=\"M18.56 5.44l.94 2.06.94-2.06 2.06-.94-2.06-.94-.94-2.06-.94 2.06-2.06.94zm-11 1L8.5 8.5l.94-2.06 2.06-.94-2.06-.94L8.5 2.5l-.94 2.06-2.06.94zm10 10l.94 2.06.94-2.06 2.06-.94-2.06-.94-.94-2.06-.94 2.06-2.06.94z\"/><path d=\"M17.41 7.96l-1.37-1.37c-.4-.4-.92-.59-1.43-.59-.52 0-1.04.2-1.43.59L10.3 9.45l-7.72 7.72c-.78.78-.78 2.05 0 2.83L4 21.41c.39.39.9.59 1.41.59.51 0 1.02-.2 1.41-.59l7.78-7.78 2.81-2.81c.8-.78.8-2.07 0-2.86zM5.41 20L4 18.59l7.72-7.72 1.47 1.35L5.41 20z\"/>\n",
              "  </svg>\n",
              "      </button>\n",
              "      \n",
              "  <style>\n",
              "    .colab-df-container {\n",
              "      display:flex;\n",
              "      flex-wrap:wrap;\n",
              "      gap: 12px;\n",
              "    }\n",
              "\n",
              "    .colab-df-convert {\n",
              "      background-color: #E8F0FE;\n",
              "      border: none;\n",
              "      border-radius: 50%;\n",
              "      cursor: pointer;\n",
              "      display: none;\n",
              "      fill: #1967D2;\n",
              "      height: 32px;\n",
              "      padding: 0 0 0 0;\n",
              "      width: 32px;\n",
              "    }\n",
              "\n",
              "    .colab-df-convert:hover {\n",
              "      background-color: #E2EBFA;\n",
              "      box-shadow: 0px 1px 2px rgba(60, 64, 67, 0.3), 0px 1px 3px 1px rgba(60, 64, 67, 0.15);\n",
              "      fill: #174EA6;\n",
              "    }\n",
              "\n",
              "    [theme=dark] .colab-df-convert {\n",
              "      background-color: #3B4455;\n",
              "      fill: #D2E3FC;\n",
              "    }\n",
              "\n",
              "    [theme=dark] .colab-df-convert:hover {\n",
              "      background-color: #434B5C;\n",
              "      box-shadow: 0px 1px 3px 1px rgba(0, 0, 0, 0.15);\n",
              "      filter: drop-shadow(0px 1px 2px rgba(0, 0, 0, 0.3));\n",
              "      fill: #FFFFFF;\n",
              "    }\n",
              "  </style>\n",
              "\n",
              "      <script>\n",
              "        const buttonEl =\n",
              "          document.querySelector('#df-b028cf53-8cf2-4f82-aec2-25449b460413 button.colab-df-convert');\n",
              "        buttonEl.style.display =\n",
              "          google.colab.kernel.accessAllowed ? 'block' : 'none';\n",
              "\n",
              "        async function convertToInteractive(key) {\n",
              "          const element = document.querySelector('#df-b028cf53-8cf2-4f82-aec2-25449b460413');\n",
              "          const dataTable =\n",
              "            await google.colab.kernel.invokeFunction('convertToInteractive',\n",
              "                                                     [key], {});\n",
              "          if (!dataTable) return;\n",
              "\n",
              "          const docLinkHtml = 'Like what you see? Visit the ' +\n",
              "            '<a target=\"_blank\" href=https://colab.research.google.com/notebooks/data_table.ipynb>data table notebook</a>'\n",
              "            + ' to learn more about interactive tables.';\n",
              "          element.innerHTML = '';\n",
              "          dataTable['output_type'] = 'display_data';\n",
              "          await google.colab.output.renderOutput(dataTable, element);\n",
              "          const docLink = document.createElement('div');\n",
              "          docLink.innerHTML = docLinkHtml;\n",
              "          element.appendChild(docLink);\n",
              "        }\n",
              "      </script>\n",
              "    </div>\n",
              "  </div>\n",
              "  "
            ]
          },
          "metadata": {},
          "execution_count": 11
        }
      ],
      "source": [
        "train.head()"
      ]
    },
    {
      "cell_type": "code",
      "execution_count": 12,
      "metadata": {
        "colab": {
          "base_uri": "https://localhost:8080/",
          "height": 300
        },
        "id": "H2w0d7NZaagP",
        "outputId": "3aa143ed-c713-4a2d-cfa9-ebc5ce8dc043"
      },
      "outputs": [
        {
          "output_type": "execute_result",
          "data": {
            "text/plain": [
              "           feature_1      feature_2      feature_3         target\n",
              "count  201917.000000  201917.000000  201917.000000  201917.000000\n",
              "mean        3.105311       1.745410       0.565569      -0.393636\n",
              "std         1.186160       0.751362       0.495683       3.850500\n",
              "min         1.000000       1.000000       0.000000     -33.219281\n",
              "25%         2.000000       1.000000       0.000000      -0.883110\n",
              "50%         3.000000       2.000000       1.000000      -0.023437\n",
              "75%         4.000000       2.000000       1.000000       0.765453\n",
              "max         5.000000       3.000000       1.000000      17.965068"
            ],
            "text/html": [
              "\n",
              "  <div id=\"df-b1525217-46a2-4586-b114-ffcfd585ccab\">\n",
              "    <div class=\"colab-df-container\">\n",
              "      <div>\n",
              "<style scoped>\n",
              "    .dataframe tbody tr th:only-of-type {\n",
              "        vertical-align: middle;\n",
              "    }\n",
              "\n",
              "    .dataframe tbody tr th {\n",
              "        vertical-align: top;\n",
              "    }\n",
              "\n",
              "    .dataframe thead th {\n",
              "        text-align: right;\n",
              "    }\n",
              "</style>\n",
              "<table border=\"1\" class=\"dataframe\">\n",
              "  <thead>\n",
              "    <tr style=\"text-align: right;\">\n",
              "      <th></th>\n",
              "      <th>feature_1</th>\n",
              "      <th>feature_2</th>\n",
              "      <th>feature_3</th>\n",
              "      <th>target</th>\n",
              "    </tr>\n",
              "  </thead>\n",
              "  <tbody>\n",
              "    <tr>\n",
              "      <th>count</th>\n",
              "      <td>201917.000000</td>\n",
              "      <td>201917.000000</td>\n",
              "      <td>201917.000000</td>\n",
              "      <td>201917.000000</td>\n",
              "    </tr>\n",
              "    <tr>\n",
              "      <th>mean</th>\n",
              "      <td>3.105311</td>\n",
              "      <td>1.745410</td>\n",
              "      <td>0.565569</td>\n",
              "      <td>-0.393636</td>\n",
              "    </tr>\n",
              "    <tr>\n",
              "      <th>std</th>\n",
              "      <td>1.186160</td>\n",
              "      <td>0.751362</td>\n",
              "      <td>0.495683</td>\n",
              "      <td>3.850500</td>\n",
              "    </tr>\n",
              "    <tr>\n",
              "      <th>min</th>\n",
              "      <td>1.000000</td>\n",
              "      <td>1.000000</td>\n",
              "      <td>0.000000</td>\n",
              "      <td>-33.219281</td>\n",
              "    </tr>\n",
              "    <tr>\n",
              "      <th>25%</th>\n",
              "      <td>2.000000</td>\n",
              "      <td>1.000000</td>\n",
              "      <td>0.000000</td>\n",
              "      <td>-0.883110</td>\n",
              "    </tr>\n",
              "    <tr>\n",
              "      <th>50%</th>\n",
              "      <td>3.000000</td>\n",
              "      <td>2.000000</td>\n",
              "      <td>1.000000</td>\n",
              "      <td>-0.023437</td>\n",
              "    </tr>\n",
              "    <tr>\n",
              "      <th>75%</th>\n",
              "      <td>4.000000</td>\n",
              "      <td>2.000000</td>\n",
              "      <td>1.000000</td>\n",
              "      <td>0.765453</td>\n",
              "    </tr>\n",
              "    <tr>\n",
              "      <th>max</th>\n",
              "      <td>5.000000</td>\n",
              "      <td>3.000000</td>\n",
              "      <td>1.000000</td>\n",
              "      <td>17.965068</td>\n",
              "    </tr>\n",
              "  </tbody>\n",
              "</table>\n",
              "</div>\n",
              "      <button class=\"colab-df-convert\" onclick=\"convertToInteractive('df-b1525217-46a2-4586-b114-ffcfd585ccab')\"\n",
              "              title=\"Convert this dataframe to an interactive table.\"\n",
              "              style=\"display:none;\">\n",
              "        \n",
              "  <svg xmlns=\"http://www.w3.org/2000/svg\" height=\"24px\"viewBox=\"0 0 24 24\"\n",
              "       width=\"24px\">\n",
              "    <path d=\"M0 0h24v24H0V0z\" fill=\"none\"/>\n",
              "    <path d=\"M18.56 5.44l.94 2.06.94-2.06 2.06-.94-2.06-.94-.94-2.06-.94 2.06-2.06.94zm-11 1L8.5 8.5l.94-2.06 2.06-.94-2.06-.94L8.5 2.5l-.94 2.06-2.06.94zm10 10l.94 2.06.94-2.06 2.06-.94-2.06-.94-.94-2.06-.94 2.06-2.06.94z\"/><path d=\"M17.41 7.96l-1.37-1.37c-.4-.4-.92-.59-1.43-.59-.52 0-1.04.2-1.43.59L10.3 9.45l-7.72 7.72c-.78.78-.78 2.05 0 2.83L4 21.41c.39.39.9.59 1.41.59.51 0 1.02-.2 1.41-.59l7.78-7.78 2.81-2.81c.8-.78.8-2.07 0-2.86zM5.41 20L4 18.59l7.72-7.72 1.47 1.35L5.41 20z\"/>\n",
              "  </svg>\n",
              "      </button>\n",
              "      \n",
              "  <style>\n",
              "    .colab-df-container {\n",
              "      display:flex;\n",
              "      flex-wrap:wrap;\n",
              "      gap: 12px;\n",
              "    }\n",
              "\n",
              "    .colab-df-convert {\n",
              "      background-color: #E8F0FE;\n",
              "      border: none;\n",
              "      border-radius: 50%;\n",
              "      cursor: pointer;\n",
              "      display: none;\n",
              "      fill: #1967D2;\n",
              "      height: 32px;\n",
              "      padding: 0 0 0 0;\n",
              "      width: 32px;\n",
              "    }\n",
              "\n",
              "    .colab-df-convert:hover {\n",
              "      background-color: #E2EBFA;\n",
              "      box-shadow: 0px 1px 2px rgba(60, 64, 67, 0.3), 0px 1px 3px 1px rgba(60, 64, 67, 0.15);\n",
              "      fill: #174EA6;\n",
              "    }\n",
              "\n",
              "    [theme=dark] .colab-df-convert {\n",
              "      background-color: #3B4455;\n",
              "      fill: #D2E3FC;\n",
              "    }\n",
              "\n",
              "    [theme=dark] .colab-df-convert:hover {\n",
              "      background-color: #434B5C;\n",
              "      box-shadow: 0px 1px 3px 1px rgba(0, 0, 0, 0.15);\n",
              "      filter: drop-shadow(0px 1px 2px rgba(0, 0, 0, 0.3));\n",
              "      fill: #FFFFFF;\n",
              "    }\n",
              "  </style>\n",
              "\n",
              "      <script>\n",
              "        const buttonEl =\n",
              "          document.querySelector('#df-b1525217-46a2-4586-b114-ffcfd585ccab button.colab-df-convert');\n",
              "        buttonEl.style.display =\n",
              "          google.colab.kernel.accessAllowed ? 'block' : 'none';\n",
              "\n",
              "        async function convertToInteractive(key) {\n",
              "          const element = document.querySelector('#df-b1525217-46a2-4586-b114-ffcfd585ccab');\n",
              "          const dataTable =\n",
              "            await google.colab.kernel.invokeFunction('convertToInteractive',\n",
              "                                                     [key], {});\n",
              "          if (!dataTable) return;\n",
              "\n",
              "          const docLinkHtml = 'Like what you see? Visit the ' +\n",
              "            '<a target=\"_blank\" href=https://colab.research.google.com/notebooks/data_table.ipynb>data table notebook</a>'\n",
              "            + ' to learn more about interactive tables.';\n",
              "          element.innerHTML = '';\n",
              "          dataTable['output_type'] = 'display_data';\n",
              "          await google.colab.output.renderOutput(dataTable, element);\n",
              "          const docLink = document.createElement('div');\n",
              "          docLink.innerHTML = docLinkHtml;\n",
              "          element.appendChild(docLink);\n",
              "        }\n",
              "      </script>\n",
              "    </div>\n",
              "  </div>\n",
              "  "
            ]
          },
          "metadata": {},
          "execution_count": 12
        }
      ],
      "source": [
        "train.describe()"
      ]
    },
    {
      "cell_type": "code",
      "execution_count": 13,
      "metadata": {
        "colab": {
          "base_uri": "https://localhost:8080/"
        },
        "id": "i2sOcPlGadjb",
        "outputId": "99515539-2dbf-4e19-e7e2-2355b8e6bfa7"
      },
      "outputs": [
        {
          "output_type": "execute_result",
          "data": {
            "text/plain": [
              "first_active_month    0\n",
              "card_id               0\n",
              "feature_1             0\n",
              "feature_2             0\n",
              "feature_3             0\n",
              "target                0\n",
              "dtype: int64"
            ]
          },
          "metadata": {},
          "execution_count": 13
        }
      ],
      "source": [
        "(train.isnull()).sum()"
      ]
    },
    {
      "cell_type": "code",
      "execution_count": 14,
      "metadata": {
        "colab": {
          "base_uri": "https://localhost:8080/"
        },
        "id": "GWmxGwYiasq6",
        "outputId": "c1e40aac-beaa-4c0c-8d5d-6c52dd57cb21"
      },
      "outputs": [
        {
          "output_type": "stream",
          "name": "stdout",
          "text": [
            "The number of rows in train data is: 201917\n",
            "The number of rows in test data is: 123623\n"
          ]
        }
      ],
      "source": [
        "print('The number of rows in train data is:',train.shape[0])\n",
        "print('The number of rows in test data is:', test.shape[0])"
      ]
    },
    {
      "cell_type": "markdown",
      "metadata": {
        "id": "oHINNuLkkvJa"
      },
      "source": [
        "####**3.1 Feature comparison in train and test data features**"
      ]
    },
    {
      "cell_type": "code",
      "execution_count": 17,
      "metadata": {
        "colab": {
          "base_uri": "https://localhost:8080/",
          "height": 258
        },
        "id": "6WwCWVCubmUS",
        "outputId": "4fc45c11-4d06-4170-a6f2-c61fe87f0d2f"
      },
      "outputs": [
        {
          "output_type": "display_data",
          "data": {
            "text/plain": [
              "<Figure size 1080x360 with 4 Axes>"
            ],
            "image/png": "[encoded data removed]"
          },
          "metadata": {
            "needs_background": "light"
          }
        }
      ],
      "source": [
        "%matplotlib inline\n",
        "\n",
        "plt.figure(figsize=[15,5])\n",
        "plt.suptitle('Feature distributions in train and test', fontsize=20, y=1.1)\n",
        "for num, col in enumerate(['feature_1', 'feature_2', 'feature_3', 'target']):\n",
        "    plt.subplot(2, 4, num+1)\n",
        "    if col is not 'target':\n",
        "        v_c = train[col].value_counts() / train.shape[0]\n",
        "        plt.bar(v_c.index, v_c, label=('train'), align='edge', width=-0.3, edgecolor=[0.2]*3,color = ('green'))\n",
        "        v_c = test[col].value_counts() / test.shape[0]\n",
        "        plt.bar(v_c.index, v_c, label=('test'), align='edge', width=0.3, edgecolor=[0.2]*3,color = ('yellow'))\n",
        "        plt.title(col)\n",
        "        plt.legend()\n",
        "    else:\n",
        "        plt.hist(train[col], bins = 100, color = ('green'))\n",
        "        plt.title(col)\n",
        "    plt.tight_layout()\n",
        "plt.tight_layout()\n",
        "plt.show()"
      ]
    },
    {
      "cell_type": "markdown",
      "metadata": {
        "id": "GCdITsN5k3CC"
      },
      "source": [
        "Observation\n",
        "1. The features 1, 2 and 3 are equally train and test distributed.\n",
        "2. In the target variable, there are few outliers with few scores may be around -30."
      ]
    },
    {
      "cell_type": "code",
      "execution_count": 18,
      "metadata": {
        "colab": {
          "base_uri": "https://localhost:8080/"
        },
        "id": "-zoeyrrgkyFG",
        "outputId": "07f3a95a-bba2-44df-ec61-cc2fdf918df5"
      },
      "outputs": [
        {
          "output_type": "stream",
          "name": "stdout",
          "text": [
            "The number of outliers found are 2207\n"
          ]
        }
      ],
      "source": [
        "outliers = train.loc[train['target'] < -30]\n",
        "non_outliers = train.loc[train['target'] >= -30]\n",
        "print('The number of outliers found are',format(outliers.shape[0]))"
      ]
    },
    {
      "cell_type": "markdown",
      "metadata": {
        "id": "zQ8HbwXR5YbK"
      },
      "source": [
        "For now not treating or removing the outliers and may be treat them later if required."
      ]
    },
    {
      "cell_type": "markdown",
      "source": [
        "**3.2 Plotting the features 1, 2 and 3 against the target variable**"
      ],
      "metadata": {
        "id": "kvobq3uTuXxE"
      }
    },
    {
      "cell_type": "code",
      "execution_count": 19,
      "metadata": {
        "colab": {
          "base_uri": "https://localhost:8080/",
          "height": 432
        },
        "id": "SPpIOpLs5Vhx",
        "outputId": "259828ee-46d0-4f8c-a0ca-9e463130b865"
      },
      "outputs": [
        {
          "output_type": "display_data",
          "data": {
            "text/plain": [
              "<Figure size 1152x432 with 3 Axes>"
            ],
            "image/png": "[encoded data removed]"
          },
          "metadata": {
            "needs_background": "light"
          }
        }
      ],
      "source": [
        "fig, ax = plt.subplots(1, 3, figsize = (16, 6))\n",
        "plt.suptitle('Violineplots for features and target');\n",
        "sns.violinplot(x=\"feature_1\", y=\"target\", data=train, ax=ax[0], title='feature_1');\n",
        "sns.violinplot(x=\"feature_2\", y=\"target\", data=train, ax=ax[1], title='feature_2');\n",
        "sns.violinplot(x=\"feature_3\", y=\"target\", data=train, ax=ax[2], title='feature_3');"
      ]
    },
    {
      "cell_type": "markdown",
      "metadata": {
        "id": "d53FEYJF6xJc"
      },
      "source": [
        "Not much could be inferred from the distributions as they are similar and could mean that these features may not help in predicting the loyalty scores."
      ]
    },
    {
      "cell_type": "markdown",
      "metadata": {
        "id": "pobE6rFjG9wj"
      },
      "source": [
        "**3.3.Outliers vs Non Outlier comparisons distributions**"
      ]
    },
    {
      "cell_type": "code",
      "execution_count": 20,
      "metadata": {
        "colab": {
          "base_uri": "https://localhost:8080/"
        },
        "id": "A-UXNLj8HgDL",
        "outputId": "b9c1b662-3ddb-4611-8773-4c4dbc63192c"
      },
      "outputs": [
        {
          "output_type": "stream",
          "name": "stdout",
          "text": [
            " The number of outliers in the data is: 2207\n",
            " The number of non-outliers in the data is: 199710\n"
          ]
        }
      ],
      "source": [
        "outliers_in_target= train.loc[train['target']< -30]\n",
        "print(' The number of outliers in the data is:',outliers_in_target.shape[0])\n",
        "non_outliers_in_target= train.loc[train['target'] >=-30]\n",
        "print(' The number of non-outliers in the data is:',non_outliers_in_target.shape[0])"
      ]
    },
    {
      "cell_type": "code",
      "source": [
        "plt.figure(figsize=[16,9])\n",
        "plt.suptitle('Outlier vs. non-outlier feature distributions', fontsize=20, y=1.1)\n",
        "\n",
        "for num, col in enumerate(['feature_1', 'feature_2', 'feature_3', 'target']):\n",
        "    if col is not 'target':\n",
        "        plt.subplot(2, 3, num+1)\n",
        "        non_outlier = non_outliers_in_target[col].value_counts() / non_outliers_in_target.shape[0]\n",
        "        plt.bar(non_outlier.index, non_outlier, label=('non-outliers'), align='edge', width=-0.3, edgecolor=[0.2]*3,color=['teal'])\n",
        "        outlier = outliers_in_target[col].value_counts() / outliers_in_target.shape[0]\n",
        "        plt.bar(outlier.index, outlier, label=('outliers'), align='edge', width=0.3, edgecolor=[0.2]*3,color=['brown'])\n",
        "        plt.title(col)\n",
        "        plt.legend()\n",
        "\n",
        "plt.tight_layout()\n",
        "plt.show()"
      ],
      "metadata": {
        "colab": {
          "base_uri": "https://localhost:8080/",
          "height": 431
        },
        "id": "8wK6zmcng3l2",
        "outputId": "7b487689-de40-4729-b85b-226ace670687"
      },
      "execution_count": 21,
      "outputs": [
        {
          "output_type": "display_data",
          "data": {
            "text/plain": [
              "<Figure size 1152x648 with 3 Axes>"
            ],
            "image/png": "[encoded data removed]"
          },
          "metadata": {
            "needs_background": "light"
          }
        }
      ]
    },
    {
      "cell_type": "markdown",
      "source": [
        "There are only slight differences between outliers and non-outliers, but they don't seem to be that big and they certainly can't explain the difference between the target values, at least based on the features in the train dataset. It means the card_id's having outliers as loyality score having pretty much similar properties to the regular ones."
      ],
      "metadata": {
        "id": "j17x2i3hiML5"
      }
    },
    {
      "cell_type": "markdown",
      "metadata": {
        "id": "5tMaDOyRIWhj"
      },
      "source": [
        "**3.4 Correlation between the features**"
      ]
    },
    {
      "cell_type": "code",
      "execution_count": 22,
      "metadata": {
        "colab": {
          "base_uri": "https://localhost:8080/",
          "height": 292
        },
        "id": "CVa_OsJsHyWW",
        "outputId": "08ef768e-f772-4f73-ee05-8bf74f433d8c"
      },
      "outputs": [
        {
          "output_type": "display_data",
          "data": {
            "text/plain": [
              "<Figure size 360x360 with 2 Axes>"
            ],
            "image/png": "[encoded data removed]"
          },
          "metadata": {
            "needs_background": "light"
          }
        }
      ],
      "source": [
        "train_corr=train.drop(['first_active_month','card_id','target'],axis=1)\n",
        "corrs = np.abs(train_corr.corr())\n",
        "np.fill_diagonal(corrs.values, 0)\n",
        "plt.figure(figsize=[5,5])\n",
        "plt.imshow(corrs,  vmin=0, vmax=1)\n",
        "plt.colorbar(shrink=0.7)\n",
        "plt.xticks(range(corrs.shape[0]), list(corrs.columns))\n",
        "plt.yticks(range(corrs.shape[0]), list(corrs.columns))\n",
        "plt.title('Correlations between target and user\\'s features', fontsize=17)\n",
        "plt.show()"
      ]
    },
    {
      "cell_type": "markdown",
      "metadata": {
        "id": "-8Ksn-jmITxY"
      },
      "source": [
        "From the above correlation, we can say that features 1 and 3 are correlated."
      ]
    },
    {
      "cell_type": "code",
      "execution_count": 23,
      "metadata": {
        "colab": {
          "base_uri": "https://localhost:8080/",
          "height": 292
        },
        "id": "PeWKjzNfZ9kg",
        "outputId": "a0e0aa75-1036-4543-a5df-8fae4e87e9a2"
      },
      "outputs": [
        {
          "output_type": "display_data",
          "data": {
            "text/plain": [
              "<Figure size 360x360 with 2 Axes>"
            ],
            "image/png": "[encoded data removed]"
          },
          "metadata": {
            "needs_background": "light"
          }
        }
      ],
      "source": [
        "test_corr=test.drop(['first_active_month','card_id'],axis=1)\n",
        "corrs = np.abs(test_corr.corr())\n",
        "np.fill_diagonal(corrs.values, 0)\n",
        "plt.figure(figsize=[5,5])\n",
        "plt.imshow(corrs,  vmin=0, vmax=1)\n",
        "plt.colorbar(shrink=0.7)\n",
        "plt.xticks(range(corrs.shape[0]), list(corrs.columns))\n",
        "plt.yticks(range(corrs.shape[0]), list(corrs.columns))\n",
        "plt.title('Correlations between target and user\\'s features', fontsize=17)\n",
        "plt.show()"
      ]
    },
    {
      "cell_type": "markdown",
      "metadata": {
        "id": "HBAakgfUIoLJ"
      },
      "source": [
        "Same is the case in test, looks like features 1 and 3 are correlated."
      ]
    },
    {
      "cell_type": "markdown",
      "source": [
        "**3.5 Distribution of Active First Month in both Train and Test**"
      ],
      "metadata": {
        "id": "uRZIrIR7upKL"
      }
    },
    {
      "cell_type": "code",
      "execution_count": 24,
      "metadata": {
        "colab": {
          "base_uri": "https://localhost:8080/",
          "height": 270
        },
        "id": "vnT98FRMMjaY",
        "outputId": "11d1cb4a-e98d-41c7-d166-c6b75c652d52"
      },
      "outputs": [
        {
          "output_type": "display_data",
          "data": {
            "text/plain": [
              "<Figure size 432x288 with 1 Axes>"
            ],
            "image/png": "[encoded data removed]"
          },
          "metadata": {
            "needs_background": "light"
          }
        }
      ],
      "source": [
        "fir_mon = train['first_active_month'].value_counts()\n",
        "mon = test['first_active_month'].value_counts()\n",
        "fir_mon.plot()\n",
        "mon.plot()\n",
        "plt.ylabel('Number of Cards')\n",
        "plt.xlabel('first_active_month')\n",
        "plt.show()"
      ]
    },
    {
      "cell_type": "markdown",
      "metadata": {
        "id": "JFV7bW6ENUm4"
      },
      "source": [
        "The first active month indicates the month of first purchase and the distribution seems to be increasing over the month and years progresses."
      ]
    },
    {
      "cell_type": "markdown",
      "metadata": {
        "id": "1yVYk7wJl03p"
      },
      "source": [
        "###**4.Historical Transactions**"
      ]
    },
    {
      "cell_type": "code",
      "execution_count": 25,
      "metadata": {
        "colab": {
          "base_uri": "https://localhost:8080/"
        },
        "id": "_xXxiLYdmJDF",
        "outputId": "336bb02d-ba8f-4748-e60a-09d5f9709674"
      },
      "outputs": [
        {
          "output_type": "stream",
          "name": "stdout",
          "text": [
            "<class 'pandas.core.frame.DataFrame'>\n",
            "RangeIndex: 29112361 entries, 0 to 29112360\n",
            "Data columns (total 14 columns):\n",
            " #   Column                Non-Null Count     Dtype  \n",
            "---  ------                --------------     -----  \n",
            " 0   authorized_flag       29112361 non-null  object \n",
            " 1   card_id               29112361 non-null  object \n",
            " 2   city_id               29112361 non-null  int16  \n",
            " 3   category_1            29112361 non-null  object \n",
            " 4   installments          29112361 non-null  int16  \n",
            " 5   category_3            28934202 non-null  object \n",
            " 6   merchant_category_id  29112361 non-null  int16  \n",
            " 7   merchant_id           28973880 non-null  object \n",
            " 8   month_lag             29112361 non-null  int8   \n",
            " 9   purchase_amount       29112361 non-null  float32\n",
            " 10  purchase_date         29112361 non-null  object \n",
            " 11  category_2            26459497 non-null  float16\n",
            " 12  state_id              29112361 non-null  int8   \n",
            " 13  subsector_id          29112361 non-null  int8   \n",
            "dtypes: float16(1), float32(1), int16(3), int8(3), object(6)\n",
            "memory usage: 1.7+ GB\n"
          ]
        }
      ],
      "source": [
        "historical_transactions.info(verbose=True, null_counts=True)"
      ]
    },
    {
      "cell_type": "markdown",
      "metadata": {
        "id": "PtFJMHEvv16b"
      },
      "source": [
        "**4.1 Check for Missing Values**"
      ]
    },
    {
      "cell_type": "code",
      "execution_count": 26,
      "metadata": {
        "colab": {
          "base_uri": "https://localhost:8080/"
        },
        "id": "uHAvMj7Qhw_f",
        "outputId": "9d186e82-9318-442a-be70-f5d25728410d"
      },
      "outputs": [
        {
          "output_type": "execute_result",
          "data": {
            "text/plain": [
              "authorized_flag               0\n",
              "card_id                       0\n",
              "city_id                       0\n",
              "category_1                    0\n",
              "installments                  0\n",
              "category_3               178159\n",
              "merchant_category_id          0\n",
              "merchant_id              138481\n",
              "month_lag                     0\n",
              "purchase_amount               0\n",
              "purchase_date                 0\n",
              "category_2              2652864\n",
              "state_id                      0\n",
              "subsector_id                  0\n",
              "dtype: int64"
            ]
          },
          "metadata": {},
          "execution_count": 26
        }
      ],
      "source": [
        "(historical_transactions.isnull()).sum()"
      ]
    },
    {
      "cell_type": "code",
      "execution_count": 27,
      "metadata": {
        "id": "GpugdvLot8pe"
      },
      "outputs": [],
      "source": [
        "target_feature= train['target']"
      ]
    },
    {
      "cell_type": "code",
      "execution_count": 28,
      "metadata": {
        "colab": {
          "base_uri": "https://localhost:8080/"
        },
        "id": "5Yxdz5fdwH_3",
        "outputId": "bbe0e1d7-1124-4a38-d512-9b69b0f8a77e"
      },
      "outputs": [
        {
          "output_type": "stream",
          "name": "stdout",
          "text": [
            "The percentage of Nan values in category_3 is  0.6 percent\n",
            "The percentage of Nan values in merchant_id is  0.5 percent\n",
            "The percentage of Nan values in category_2 is  9.1 percent\n"
          ]
        }
      ],
      "source": [
        "k=['category_3','merchant_id','category_2']\n",
        "for k in historical_transactions[k]:\n",
        "  print('The percentage of Nan values in {} is {:4.1f} percent'.format(k,historical_transactions[k].isnull().sum() * 100 / len(historical_transactions[k])))"
      ]
    },
    {
      "cell_type": "code",
      "execution_count": 29,
      "metadata": {
        "id": "cEEx4_eOwLdc"
      },
      "outputs": [],
      "source": [
        "historical_transactions['category_2'].fillna(1,inplace=True)# Replacing with most occured values\n",
        "historical_transactions['category_3'].fillna('A',inplace=True)\n",
        "historical_transactions['merchant_id'].fillna('M_ID_00a6ca8a8a',inplace=True)\n"
      ]
    },
    {
      "cell_type": "markdown",
      "metadata": {
        "id": "SFWSsj_ilpAl"
      },
      "source": [
        "**4.2 Historical Transaction info**"
      ]
    },
    {
      "cell_type": "code",
      "execution_count": 30,
      "metadata": {
        "colab": {
          "base_uri": "https://localhost:8080/",
          "height": 392
        },
        "id": "yh8tPtBbwQd8",
        "outputId": "98fdf29b-dd93-4a8a-c93b-dd249db9f48a"
      },
      "outputs": [
        {
          "output_type": "stream",
          "name": "stdout",
          "text": [
            " The number of rows is 29112361 and columns is 14 in the dataset \n",
            " The First five rows of the historical transaction is:\n"
          ]
        },
        {
          "output_type": "execute_result",
          "data": {
            "text/plain": [
              "  authorized_flag          card_id  city_id category_1  installments  \\\n",
              "0               Y  C_ID_4e6213e9bc       88          N             0   \n",
              "1               Y  C_ID_4e6213e9bc       88          N             0   \n",
              "2               Y  C_ID_4e6213e9bc       88          N             0   \n",
              "3               Y  C_ID_4e6213e9bc       88          N             0   \n",
              "4               Y  C_ID_4e6213e9bc       88          N             0   \n",
              "\n",
              "  category_3  merchant_category_id      merchant_id  month_lag  \\\n",
              "0          A                    80  M_ID_e020e9b302         -8   \n",
              "1          A                   367  M_ID_86ec983688         -7   \n",
              "2          A                    80  M_ID_979ed661fc         -6   \n",
              "3          A                   560  M_ID_e6d5ae8ea6         -5   \n",
              "4          A                    80  M_ID_e020e9b302        -11   \n",
              "\n",
              "   purchase_amount        purchase_date  category_2  state_id  subsector_id  \n",
              "0        -0.703331  2017-06-25 15:33:07         1.0        16            37  \n",
              "1        -0.733128  2017-07-15 12:10:45         1.0        16            16  \n",
              "2        -0.720386  2017-08-09 22:04:29         1.0        16            37  \n",
              "3        -0.735352  2017-09-02 10:06:26         1.0        16            34  \n",
              "4        -0.722865  2017-03-10 01:14:19         1.0        16            37  "
            ],
            "text/html": [
              "\n",
              "  <div id=\"df-33798934-8929-44ff-a785-c51974bac0c5\">\n",
              "    <div class=\"colab-df-container\">\n",
              "      <div>\n",
              "<style scoped>\n",
              "    .dataframe tbody tr th:only-of-type {\n",
              "        vertical-align: middle;\n",
              "    }\n",
              "\n",
              "    .dataframe tbody tr th {\n",
              "        vertical-align: top;\n",
              "    }\n",
              "\n",
              "    .dataframe thead th {\n",
              "        text-align: right;\n",
              "    }\n",
              "</style>\n",
              "<table border=\"1\" class=\"dataframe\">\n",
              "  <thead>\n",
              "    <tr style=\"text-align: right;\">\n",
              "      <th></th>\n",
              "      <th>authorized_flag</th>\n",
              "      <th>card_id</th>\n",
              "      <th>city_id</th>\n",
              "      <th>category_1</th>\n",
              "      <th>installments</th>\n",
              "      <th>category_3</th>\n",
              "      <th>merchant_category_id</th>\n",
              "      <th>merchant_id</th>\n",
              "      <th>month_lag</th>\n",
              "      <th>purchase_amount</th>\n",
              "      <th>purchase_date</th>\n",
              "      <th>category_2</th>\n",
              "      <th>state_id</th>\n",
              "      <th>subsector_id</th>\n",
              "    </tr>\n",
              "  </thead>\n",
              "  <tbody>\n",
              "    <tr>\n",
              "      <th>0</th>\n",
              "      <td>Y</td>\n",
              "      <td>C_ID_4e6213e9bc</td>\n",
              "      <td>88</td>\n",
              "      <td>N</td>\n",
              "      <td>0</td>\n",
              "      <td>A</td>\n",
              "      <td>80</td>\n",
              "      <td>M_ID_e020e9b302</td>\n",
              "      <td>-8</td>\n",
              "      <td>-0.703331</td>\n",
              "      <td>2017-06-25 15:33:07</td>\n",
              "      <td>1.0</td>\n",
              "      <td>16</td>\n",
              "      <td>37</td>\n",
              "    </tr>\n",
              "    <tr>\n",
              "      <th>1</th>\n",
              "      <td>Y</td>\n",
              "      <td>C_ID_4e6213e9bc</td>\n",
              "      <td>88</td>\n",
              "      <td>N</td>\n",
              "      <td>0</td>\n",
              "      <td>A</td>\n",
              "      <td>367</td>\n",
              "      <td>M_ID_86ec983688</td>\n",
              "      <td>-7</td>\n",
              "      <td>-0.733128</td>\n",
              "      <td>2017-07-15 12:10:45</td>\n",
              "      <td>1.0</td>\n",
              "      <td>16</td>\n",
              "      <td>16</td>\n",
              "    </tr>\n",
              "    <tr>\n",
              "      <th>2</th>\n",
              "      <td>Y</td>\n",
              "      <td>C_ID_4e6213e9bc</td>\n",
              "      <td>88</td>\n",
              "      <td>N</td>\n",
              "      <td>0</td>\n",
              "      <td>A</td>\n",
              "      <td>80</td>\n",
              "      <td>M_ID_979ed661fc</td>\n",
              "      <td>-6</td>\n",
              "      <td>-0.720386</td>\n",
              "      <td>2017-08-09 22:04:29</td>\n",
              "      <td>1.0</td>\n",
              "      <td>16</td>\n",
              "      <td>37</td>\n",
              "    </tr>\n",
              "    <tr>\n",
              "      <th>3</th>\n",
              "      <td>Y</td>\n",
              "      <td>C_ID_4e6213e9bc</td>\n",
              "      <td>88</td>\n",
              "      <td>N</td>\n",
              "      <td>0</td>\n",
              "      <td>A</td>\n",
              "      <td>560</td>\n",
              "      <td>M_ID_e6d5ae8ea6</td>\n",
              "      <td>-5</td>\n",
              "      <td>-0.735352</td>\n",
              "      <td>2017-09-02 10:06:26</td>\n",
              "      <td>1.0</td>\n",
              "      <td>16</td>\n",
              "      <td>34</td>\n",
              "    </tr>\n",
              "    <tr>\n",
              "      <th>4</th>\n",
              "      <td>Y</td>\n",
              "      <td>C_ID_4e6213e9bc</td>\n",
              "      <td>88</td>\n",
              "      <td>N</td>\n",
              "      <td>0</td>\n",
              "      <td>A</td>\n",
              "      <td>80</td>\n",
              "      <td>M_ID_e020e9b302</td>\n",
              "      <td>-11</td>\n",
              "      <td>-0.722865</td>\n",
              "      <td>2017-03-10 01:14:19</td>\n",
              "      <td>1.0</td>\n",
              "      <td>16</td>\n",
              "      <td>37</td>\n",
              "    </tr>\n",
              "  </tbody>\n",
              "</table>\n",
              "</div>\n",
              "      <button class=\"colab-df-convert\" onclick=\"convertToInteractive('df-33798934-8929-44ff-a785-c51974bac0c5')\"\n",
              "              title=\"Convert this dataframe to an interactive table.\"\n",
              "              style=\"display:none;\">\n",
              "        \n",
              "  <svg xmlns=\"http://www.w3.org/2000/svg\" height=\"24px\"viewBox=\"0 0 24 24\"\n",
              "       width=\"24px\">\n",
              "    <path d=\"M0 0h24v24H0V0z\" fill=\"none\"/>\n",
              "    <path d=\"M18.56 5.44l.94 2.06.94-2.06 2.06-.94-2.06-.94-.94-2.06-.94 2.06-2.06.94zm-11 1L8.5 8.5l.94-2.06 2.06-.94-2.06-.94L8.5 2.5l-.94 2.06-2.06.94zm10 10l.94 2.06.94-2.06 2.06-.94-2.06-.94-.94-2.06-.94 2.06-2.06.94z\"/><path d=\"M17.41 7.96l-1.37-1.37c-.4-.4-.92-.59-1.43-.59-.52 0-1.04.2-1.43.59L10.3 9.45l-7.72 7.72c-.78.78-.78 2.05 0 2.83L4 21.41c.39.39.9.59 1.41.59.51 0 1.02-.2 1.41-.59l7.78-7.78 2.81-2.81c.8-.78.8-2.07 0-2.86zM5.41 20L4 18.59l7.72-7.72 1.47 1.35L5.41 20z\"/>\n",
              "  </svg>\n",
              "      </button>\n",
              "      \n",
              "  <style>\n",
              "    .colab-df-container {\n",
              "      display:flex;\n",
              "      flex-wrap:wrap;\n",
              "      gap: 12px;\n",
              "    }\n",
              "\n",
              "    .colab-df-convert {\n",
              "      background-color: #E8F0FE;\n",
              "      border: none;\n",
              "      border-radius: 50%;\n",
              "      cursor: pointer;\n",
              "      display: none;\n",
              "      fill: #1967D2;\n",
              "      height: 32px;\n",
              "      padding: 0 0 0 0;\n",
              "      width: 32px;\n",
              "    }\n",
              "\n",
              "    .colab-df-convert:hover {\n",
              "      background-color: #E2EBFA;\n",
              "      box-shadow: 0px 1px 2px rgba(60, 64, 67, 0.3), 0px 1px 3px 1px rgba(60, 64, 67, 0.15);\n",
              "      fill: #174EA6;\n",
              "    }\n",
              "\n",
              "    [theme=dark] .colab-df-convert {\n",
              "      background-color: #3B4455;\n",
              "      fill: #D2E3FC;\n",
              "    }\n",
              "\n",
              "    [theme=dark] .colab-df-convert:hover {\n",
              "      background-color: #434B5C;\n",
              "      box-shadow: 0px 1px 3px 1px rgba(0, 0, 0, 0.15);\n",
              "      filter: drop-shadow(0px 1px 2px rgba(0, 0, 0, 0.3));\n",
              "      fill: #FFFFFF;\n",
              "    }\n",
              "  </style>\n",
              "\n",
              "      <script>\n",
              "        const buttonEl =\n",
              "          document.querySelector('#df-33798934-8929-44ff-a785-c51974bac0c5 button.colab-df-convert');\n",
              "        buttonEl.style.display =\n",
              "          google.colab.kernel.accessAllowed ? 'block' : 'none';\n",
              "\n",
              "        async function convertToInteractive(key) {\n",
              "          const element = document.querySelector('#df-33798934-8929-44ff-a785-c51974bac0c5');\n",
              "          const dataTable =\n",
              "            await google.colab.kernel.invokeFunction('convertToInteractive',\n",
              "                                                     [key], {});\n",
              "          if (!dataTable) return;\n",
              "\n",
              "          const docLinkHtml = 'Like what you see? Visit the ' +\n",
              "            '<a target=\"_blank\" href=https://colab.research.google.com/notebooks/data_table.ipynb>data table notebook</a>'\n",
              "            + ' to learn more about interactive tables.';\n",
              "          element.innerHTML = '';\n",
              "          dataTable['output_type'] = 'display_data';\n",
              "          await google.colab.output.renderOutput(dataTable, element);\n",
              "          const docLink = document.createElement('div');\n",
              "          docLink.innerHTML = docLinkHtml;\n",
              "          element.appendChild(docLink);\n",
              "        }\n",
              "      </script>\n",
              "    </div>\n",
              "  </div>\n",
              "  "
            ]
          },
          "metadata": {},
          "execution_count": 30
        }
      ],
      "source": [
        "print(' The number of rows is {} and columns is {} in the dataset '.format(historical_transactions.shape[0],historical_transactions.shape[1]))\n",
        "print(' The First five rows of the historical transaction is:') \n",
        "historical_transactions.head()"
      ]
    },
    {
      "cell_type": "markdown",
      "source": [
        "**4.3 Authorized Card Flag**"
      ],
      "metadata": {
        "id": "HEgtUgJxvX1e"
      }
    },
    {
      "cell_type": "code",
      "source": [
        "# Convert the authorized_flag to a binary value.\n",
        "historical_transactions['authorized_flag'] = historical_transactions['authorized_flag'].apply(lambda x: 1 if x == 'Y' else 0)"
      ],
      "metadata": {
        "id": "_xQnmpTx1bw4"
      },
      "execution_count": 31,
      "outputs": []
    },
    {
      "cell_type": "code",
      "execution_count": 43,
      "metadata": {
        "id": "D32uiE_SndEQ",
        "colab": {
          "base_uri": "https://localhost:8080/"
        },
        "outputId": "867ae036-633b-4476-a2e8-454b71120c1b"
      },
      "outputs": [
        {
          "output_type": "stream",
          "name": "stdout",
          "text": [
            "At average 91.3545% transactions are authorized\n"
          ]
        }
      ],
      "source": [
        "print(f\"At average {historical_transactions['authorized_flag'].mean() * 100:.4f}% transactions are authorized\")"
      ]
    },
    {
      "cell_type": "code",
      "source": [
        "autorized_card_rate = historical_transactions.groupby(['card_id'])['authorized_flag'].mean().sort_values()\n",
        "autorized_card_rate.head()"
      ],
      "metadata": {
        "colab": {
          "base_uri": "https://localhost:8080/"
        },
        "id": "4zOUNBW7Ecgz",
        "outputId": "7705df43-d967-45d0-a064-23d9985aeb6c"
      },
      "execution_count": 33,
      "outputs": [
        {
          "output_type": "execute_result",
          "data": {
            "text/plain": [
              "card_id\n",
              "C_ID_744d26ea32    0.030488\n",
              "C_ID_bb8dd137c9    0.037037\n",
              "C_ID_e56202cd39    0.042105\n",
              "C_ID_4feacff118    0.050000\n",
              "C_ID_c27b4f80f7    0.054545\n",
              "Name: authorized_flag, dtype: float64"
            ]
          },
          "metadata": {},
          "execution_count": 33
        }
      ]
    },
    {
      "cell_type": "markdown",
      "source": [
        "Cards with lowest and highest percentage of authorized transactions. The range seems to be within 0.03 and 0.55"
      ],
      "metadata": {
        "id": "CLWtZUWPJo-s"
      }
    },
    {
      "cell_type": "code",
      "source": [
        "historical_transactions[[\"month_lag\",\"installments\",\"month_lag\",\"installments\"]].describe()\n",
        "historical_transactions.groupby(\"authorized_flag\").size()\n",
        "historical_transactions.groupby(\"category_3\").size()\n",
        "historical_transactions.groupby(\"category_1\").size()\n",
        "historical_transactions.groupby(\"category_2\").size()"
      ],
      "metadata": {
        "colab": {
          "base_uri": "https://localhost:8080/"
        },
        "id": "4n1aC2H2RJp7",
        "outputId": "93533e5f-309e-4495-a485-bf54d18174b2"
      },
      "execution_count": 37,
      "outputs": [
        {
          "output_type": "execute_result",
          "data": {
            "text/plain": [
              "category_2\n",
              "1.0    17830063\n",
              "2.0     1026535\n",
              "3.0     3911795\n",
              "4.0     2618053\n",
              "5.0     3725915\n",
              "dtype: int64"
            ]
          },
          "metadata": {},
          "execution_count": 37
        }
      ]
    },
    {
      "cell_type": "code",
      "source": [
        "# converting purchase time string into datetime\n",
        "historical_transactions['purchase_date'] = historical_transactions['purchase_date'].apply(lambda x: datetime.strptime(x, '%Y-%m-%d %H:%M:%S'))"
      ],
      "metadata": {
        "id": "2B9CIzo1Ruiz"
      },
      "execution_count": 38,
      "outputs": []
    },
    {
      "cell_type": "markdown",
      "source": [
        "**4.4 Histogram Plot and Analyse for each individual feature**"
      ],
      "metadata": {
        "id": "_HCHti8Kvuz3"
      }
    },
    {
      "cell_type": "code",
      "source": [
        "# drawing histograms for each column of filtered_trns_history\n",
        "filtered_trns_history = historical_transactions.loc[historical_transactions['purchase_amount'] < 1]\n",
        "cat_cols = ['authorized_flag', 'category_1', 'installments','category_3', 'month_lag','category_2', 'subsector_id']\n",
        "num_cols = ['purchase_amount', 'purchase_date', 'merchant_category_id', 'subsector_id']\n",
        "\n",
        "plt.figure(figsize=[15, 10])\n",
        "plt.suptitle('Historical Transactions info', y=1.02, fontsize=20)\n",
        "ncols = 4\n",
        "nrows = int(np.ceil((len(cat_cols) + len(num_cols))/4))\n",
        "last_ind = 0\n",
        "for col in sorted(list(filtered_trns_history.columns)):\n",
        "    #print('processing column ' + col)\n",
        "    if col in cat_cols:\n",
        "        last_ind += 1\n",
        "        plt.subplot(nrows, ncols, last_ind)\n",
        "        vc = filtered_trns_history[col].value_counts()\n",
        "        x = np.array(vc.index)\n",
        "        y = vc.values\n",
        "        inds = np.argsort(x)\n",
        "        x = x[inds].astype(str)\n",
        "        y = y[inds]\n",
        "        plt.bar(x, y, color=('brown'))\n",
        "        plt.title(col, fontsize=15)\n",
        "        plt.xticks(rotation=90)\n",
        "    if col in num_cols:\n",
        "        last_ind += 1\n",
        "        plt.subplot(nrows, ncols, last_ind)\n",
        "        filtered_trns_history[col].hist(bins = 50, color=('green'))\n",
        "        plt.title(col, fontsize=15)\n",
        "        plt.xticks(rotation=90)\n",
        "    plt.tight_layout()"
      ],
      "metadata": {
        "colab": {
          "base_uri": "https://localhost:8080/",
          "height": 754
        },
        "id": "5Q2vyEP2R2hm",
        "outputId": "51791f75-1b64-4f3b-9a11-3beca7b619fa"
      },
      "execution_count": 44,
      "outputs": [
        {
          "output_type": "display_data",
          "data": {
            "text/plain": [
              "<Figure size 1080x720 with 11 Axes>"
            ],
            "image/png": "[encoded data removed]"
          },
          "metadata": {
            "needs_background": "light"
          }
        }
      ]
    },
    {
      "cell_type": "markdown",
      "source": [
        "1. Most of the transactions are authorized historically and need to check the same in the new transactions.\n",
        "2. Installments seem to have outliers or different values like -1 and 999, we can either remove them or replace them accordingly\n",
        "3. t seems that almost all transactions have purchase amount in range (-1, 0). Quite a strong normalization and high outliers"
      ],
      "metadata": {
        "id": "O_QigCHQkU6D"
      }
    },
    {
      "cell_type": "code",
      "source": [
        "# converting category_1, authorized_flag and category_3 values to numeric ones, so we can use then in scatter plots and correlation coefficients\n",
        "filtered_trns_history['category_3'].replace({'A':0, 'B':1, 'C':2}, inplace=True)\n",
        "filtered_trns_history['category_1'].replace({'N':0, 'Y':1}, inplace=True)\n",
        "filtered_trns_history['authorized_flag'].replace({'N':0, 'Y':1}, inplace=True)"
      ],
      "metadata": {
        "id": "yiBU4RwMWVQH"
      },
      "execution_count": 50,
      "outputs": []
    },
    {
      "cell_type": "markdown",
      "source": [
        "**4.5 Correlations between columns in Historical Transactions**"
      ],
      "metadata": {
        "id": "UX_QUh-hwS48"
      }
    },
    {
      "cell_type": "code",
      "source": [
        "# correlations between columns in historical_transactions:\n",
        "corrs = np.abs(filtered_trns_history.corr())\n",
        "ordered_cols = (corrs).sum().sort_values().index\n",
        "np.fill_diagonal(corrs.values, 0)\n",
        "plt.figure(figsize=[10,10])\n",
        "plt.imshow(corrs.loc[ordered_cols, ordered_cols], vmin=0, vmax=1)\n",
        "plt.colorbar(shrink=0.7)\n",
        "plt.xticks(range(corrs.shape[0]), list(ordered_cols), rotation=90)\n",
        "plt.yticks(range(corrs.shape[0]), list(ordered_cols))\n",
        "plt.title('Heat map of coefficients of correlation between Historical Transactions features', fontsize=17)\n",
        "plt.show()"
      ],
      "metadata": {
        "colab": {
          "base_uri": "https://localhost:8080/",
          "height": 615
        },
        "id": "h3NiMxw0WEa8",
        "outputId": "760003e9-616b-4a38-f6c7-34002a6c2e65"
      },
      "execution_count": 45,
      "outputs": [
        {
          "output_type": "display_data",
          "data": {
            "text/plain": [
              "<Figure size 720x720 with 2 Axes>"
            ],
            "image/png": "[encoded data removed]"
          },
          "metadata": {
            "needs_background": "light"
          }
        }
      ]
    },
    {
      "cell_type": "markdown",
      "source": [
        "1. State id and city id seem to have the highest correlated features among the features.\n",
        "2. Category 2 looks correlated with the state id and the city id."
      ],
      "metadata": {
        "id": "w2sfDqpnkTok"
      }
    },
    {
      "cell_type": "markdown",
      "metadata": {
        "id": "BqRk2t-0u8d7"
      },
      "source": [
        "**4.6 Ploting the sum of transaction amounts against the loyalty score**"
      ]
    },
    {
      "cell_type": "code",
      "execution_count": 46,
      "metadata": {
        "id": "0obYzJp7u6Si"
      },
      "outputs": [],
      "source": [
        "gdf = historical_transactions.groupby(\"card_id\")\n",
        "gdf = gdf[\"purchase_amount\"].agg(['sum', 'mean', 'std', 'min', 'max']).reset_index()\n",
        "gdf.columns = [\"card_id\", \"sum_hist_trans\", \"mean_hist_trans\", \"std_hist_trans\", \"min_hist_trans\", \"max_hist_trans\"]\n",
        "train_df = pd.merge(train, gdf, on=\"card_id\", how=\"left\")"
      ]
    },
    {
      "cell_type": "code",
      "execution_count": 42,
      "metadata": {
        "id": "Iud9aH5OtIzD",
        "colab": {
          "base_uri": "https://localhost:8080/",
          "height": 518
        },
        "outputId": "992b48ca-c646-4a5f-dc99-7caf75e43434"
      },
      "outputs": [
        {
          "output_type": "display_data",
          "data": {
            "text/plain": [
              "<Figure size 1440x576 with 1 Axes>"
            ],
            "image/png": "[encoded data removed]"
          },
          "metadata": {
            "needs_background": "light"
          }
        }
      ],
      "source": [
        "bins = np.percentile(train_df[\"sum_hist_trans\"], range(0,101,10))\n",
        "train_df['binned_sum_hist_trans'] = pd.cut(train_df['sum_hist_trans'], bins)\n",
        "\n",
        "plt.figure(figsize=(20,8))\n",
        "sns.boxplot(x=\"binned_sum_hist_trans\", y=train_df['target'], data=train_df, showfliers=False)\n",
        "#plt.xticks(rotation='vertical')\n",
        "plt.xlabel('Transaction ranges')\n",
        "plt.ylabel('Loyalty score')\n",
        "plt.title(\"Transaction sum ranges for each card plotted against loyalty scores\", fontsize = 20)\n",
        "plt.show()"
      ]
    },
    {
      "cell_type": "markdown",
      "source": [
        "We can see that the loyalty scores are increasingly as the sum of transactions are increasing."
      ],
      "metadata": {
        "id": "CHp1ggiftEyw"
      }
    },
    {
      "cell_type": "code",
      "execution_count": null,
      "metadata": {
        "id": "zz1KSA-0pe-f"
      },
      "outputs": [],
      "source": []
    },
    {
      "cell_type": "markdown",
      "source": [
        "### **5. New Merchant Transactions Exploration**"
      ],
      "metadata": {
        "id": "XAGp58O0yAsp"
      }
    },
    {
      "cell_type": "code",
      "source": [
        "new_transactions.head()"
      ],
      "metadata": {
        "colab": {
          "base_uri": "https://localhost:8080/",
          "height": 357
        },
        "id": "85PO6a2CyJHZ",
        "outputId": "1df4c01d-6c24-4a41-90a3-b233f50d4613"
      },
      "execution_count": 49,
      "outputs": [
        {
          "output_type": "execute_result",
          "data": {
            "text/plain": [
              "  authorized_flag          card_id  city_id category_1  installments  \\\n",
              "0               Y  C_ID_415bb3a509      107          N             1   \n",
              "1               Y  C_ID_415bb3a509      140          N             1   \n",
              "2               Y  C_ID_415bb3a509      330          N             1   \n",
              "3               Y  C_ID_415bb3a509       -1          Y             1   \n",
              "4               Y  C_ID_ef55cf8d4b       -1          Y             1   \n",
              "\n",
              "  category_3  merchant_category_id      merchant_id  month_lag  \\\n",
              "0          B                   307  M_ID_b0c793002c          1   \n",
              "1          B                   307  M_ID_88920c89e8          1   \n",
              "2          B                   507  M_ID_ad5237ef6b          2   \n",
              "3          B                   661  M_ID_9e84cda3b1          1   \n",
              "4          B                   166  M_ID_3c86fa3831          1   \n",
              "\n",
              "   purchase_amount        purchase_date  category_2  state_id  subsector_id  \n",
              "0        -0.557617  2018-03-11 14:57:36         1.0         9            19  \n",
              "1        -0.569336  2018-03-19 18:53:37         1.0         9            19  \n",
              "2        -0.551270  2018-04-26 14:08:44         1.0         9            14  \n",
              "3        -0.671875  2018-03-07 09:43:21         NaN        -1             8  \n",
              "4        -0.659668  2018-03-22 21:07:53         NaN        -1            29  "
            ],
            "text/html": [
              "\n",
              "  <div id=\"df-f85ebeff-1eb3-43e7-9148-e93b01b54aba\">\n",
              "    <div class=\"colab-df-container\">\n",
              "      <div>\n",
              "<style scoped>\n",
              "    .dataframe tbody tr th:only-of-type {\n",
              "        vertical-align: middle;\n",
              "    }\n",
              "\n",
              "    .dataframe tbody tr th {\n",
              "        vertical-align: top;\n",
              "    }\n",
              "\n",
              "    .dataframe thead th {\n",
              "        text-align: right;\n",
              "    }\n",
              "</style>\n",
              "<table border=\"1\" class=\"dataframe\">\n",
              "  <thead>\n",
              "    <tr style=\"text-align: right;\">\n",
              "      <th></th>\n",
              "      <th>authorized_flag</th>\n",
              "      <th>card_id</th>\n",
              "      <th>city_id</th>\n",
              "      <th>category_1</th>\n",
              "      <th>installments</th>\n",
              "      <th>category_3</th>\n",
              "      <th>merchant_category_id</th>\n",
              "      <th>merchant_id</th>\n",
              "      <th>month_lag</th>\n",
              "      <th>purchase_amount</th>\n",
              "      <th>purchase_date</th>\n",
              "      <th>category_2</th>\n",
              "      <th>state_id</th>\n",
              "      <th>subsector_id</th>\n",
              "    </tr>\n",
              "  </thead>\n",
              "  <tbody>\n",
              "    <tr>\n",
              "      <th>0</th>\n",
              "      <td>Y</td>\n",
              "      <td>C_ID_415bb3a509</td>\n",
              "      <td>107</td>\n",
              "      <td>N</td>\n",
              "      <td>1</td>\n",
              "      <td>B</td>\n",
              "      <td>307</td>\n",
              "      <td>M_ID_b0c793002c</td>\n",
              "      <td>1</td>\n",
              "      <td>-0.557617</td>\n",
              "      <td>2018-03-11 14:57:36</td>\n",
              "      <td>1.0</td>\n",
              "      <td>9</td>\n",
              "      <td>19</td>\n",
              "    </tr>\n",
              "    <tr>\n",
              "      <th>1</th>\n",
              "      <td>Y</td>\n",
              "      <td>C_ID_415bb3a509</td>\n",
              "      <td>140</td>\n",
              "      <td>N</td>\n",
              "      <td>1</td>\n",
              "      <td>B</td>\n",
              "      <td>307</td>\n",
              "      <td>M_ID_88920c89e8</td>\n",
              "      <td>1</td>\n",
              "      <td>-0.569336</td>\n",
              "      <td>2018-03-19 18:53:37</td>\n",
              "      <td>1.0</td>\n",
              "      <td>9</td>\n",
              "      <td>19</td>\n",
              "    </tr>\n",
              "    <tr>\n",
              "      <th>2</th>\n",
              "      <td>Y</td>\n",
              "      <td>C_ID_415bb3a509</td>\n",
              "      <td>330</td>\n",
              "      <td>N</td>\n",
              "      <td>1</td>\n",
              "      <td>B</td>\n",
              "      <td>507</td>\n",
              "      <td>M_ID_ad5237ef6b</td>\n",
              "      <td>2</td>\n",
              "      <td>-0.551270</td>\n",
              "      <td>2018-04-26 14:08:44</td>\n",
              "      <td>1.0</td>\n",
              "      <td>9</td>\n",
              "      <td>14</td>\n",
              "    </tr>\n",
              "    <tr>\n",
              "      <th>3</th>\n",
              "      <td>Y</td>\n",
              "      <td>C_ID_415bb3a509</td>\n",
              "      <td>-1</td>\n",
              "      <td>Y</td>\n",
              "      <td>1</td>\n",
              "      <td>B</td>\n",
              "      <td>661</td>\n",
              "      <td>M_ID_9e84cda3b1</td>\n",
              "      <td>1</td>\n",
              "      <td>-0.671875</td>\n",
              "      <td>2018-03-07 09:43:21</td>\n",
              "      <td>NaN</td>\n",
              "      <td>-1</td>\n",
              "      <td>8</td>\n",
              "    </tr>\n",
              "    <tr>\n",
              "      <th>4</th>\n",
              "      <td>Y</td>\n",
              "      <td>C_ID_ef55cf8d4b</td>\n",
              "      <td>-1</td>\n",
              "      <td>Y</td>\n",
              "      <td>1</td>\n",
              "      <td>B</td>\n",
              "      <td>166</td>\n",
              "      <td>M_ID_3c86fa3831</td>\n",
              "      <td>1</td>\n",
              "      <td>-0.659668</td>\n",
              "      <td>2018-03-22 21:07:53</td>\n",
              "      <td>NaN</td>\n",
              "      <td>-1</td>\n",
              "      <td>29</td>\n",
              "    </tr>\n",
              "  </tbody>\n",
              "</table>\n",
              "</div>\n",
              "      <button class=\"colab-df-convert\" onclick=\"convertToInteractive('df-f85ebeff-1eb3-43e7-9148-e93b01b54aba')\"\n",
              "              title=\"Convert this dataframe to an interactive table.\"\n",
              "              style=\"display:none;\">\n",
              "        \n",
              "  <svg xmlns=\"http://www.w3.org/2000/svg\" height=\"24px\"viewBox=\"0 0 24 24\"\n",
              "       width=\"24px\">\n",
              "    <path d=\"M0 0h24v24H0V0z\" fill=\"none\"/>\n",
              "    <path d=\"M18.56 5.44l.94 2.06.94-2.06 2.06-.94-2.06-.94-.94-2.06-.94 2.06-2.06.94zm-11 1L8.5 8.5l.94-2.06 2.06-.94-2.06-.94L8.5 2.5l-.94 2.06-2.06.94zm10 10l.94 2.06.94-2.06 2.06-.94-2.06-.94-.94-2.06-.94 2.06-2.06.94z\"/><path d=\"M17.41 7.96l-1.37-1.37c-.4-.4-.92-.59-1.43-.59-.52 0-1.04.2-1.43.59L10.3 9.45l-7.72 7.72c-.78.78-.78 2.05 0 2.83L4 21.41c.39.39.9.59 1.41.59.51 0 1.02-.2 1.41-.59l7.78-7.78 2.81-2.81c.8-.78.8-2.07 0-2.86zM5.41 20L4 18.59l7.72-7.72 1.47 1.35L5.41 20z\"/>\n",
              "  </svg>\n",
              "      </button>\n",
              "      \n",
              "  <style>\n",
              "    .colab-df-container {\n",
              "      display:flex;\n",
              "      flex-wrap:wrap;\n",
              "      gap: 12px;\n",
              "    }\n",
              "\n",
              "    .colab-df-convert {\n",
              "      background-color: #E8F0FE;\n",
              "      border: none;\n",
              "      border-radius: 50%;\n",
              "      cursor: pointer;\n",
              "      display: none;\n",
              "      fill: #1967D2;\n",
              "      height: 32px;\n",
              "      padding: 0 0 0 0;\n",
              "      width: 32px;\n",
              "    }\n",
              "\n",
              "    .colab-df-convert:hover {\n",
              "      background-color: #E2EBFA;\n",
              "      box-shadow: 0px 1px 2px rgba(60, 64, 67, 0.3), 0px 1px 3px 1px rgba(60, 64, 67, 0.15);\n",
              "      fill: #174EA6;\n",
              "    }\n",
              "\n",
              "    [theme=dark] .colab-df-convert {\n",
              "      background-color: #3B4455;\n",
              "      fill: #D2E3FC;\n",
              "    }\n",
              "\n",
              "    [theme=dark] .colab-df-convert:hover {\n",
              "      background-color: #434B5C;\n",
              "      box-shadow: 0px 1px 3px 1px rgba(0, 0, 0, 0.15);\n",
              "      filter: drop-shadow(0px 1px 2px rgba(0, 0, 0, 0.3));\n",
              "      fill: #FFFFFF;\n",
              "    }\n",
              "  </style>\n",
              "\n",
              "      <script>\n",
              "        const buttonEl =\n",
              "          document.querySelector('#df-f85ebeff-1eb3-43e7-9148-e93b01b54aba button.colab-df-convert');\n",
              "        buttonEl.style.display =\n",
              "          google.colab.kernel.accessAllowed ? 'block' : 'none';\n",
              "\n",
              "        async function convertToInteractive(key) {\n",
              "          const element = document.querySelector('#df-f85ebeff-1eb3-43e7-9148-e93b01b54aba');\n",
              "          const dataTable =\n",
              "            await google.colab.kernel.invokeFunction('convertToInteractive',\n",
              "                                                     [key], {});\n",
              "          if (!dataTable) return;\n",
              "\n",
              "          const docLinkHtml = 'Like what you see? Visit the ' +\n",
              "            '<a target=\"_blank\" href=https://colab.research.google.com/notebooks/data_table.ipynb>data table notebook</a>'\n",
              "            + ' to learn more about interactive tables.';\n",
              "          element.innerHTML = '';\n",
              "          dataTable['output_type'] = 'display_data';\n",
              "          await google.colab.output.renderOutput(dataTable, element);\n",
              "          const docLink = document.createElement('div');\n",
              "          docLink.innerHTML = docLinkHtml;\n",
              "          element.appendChild(docLink);\n",
              "        }\n",
              "      </script>\n",
              "    </div>\n",
              "  </div>\n",
              "  "
            ]
          },
          "metadata": {},
          "execution_count": 49
        }
      ]
    },
    {
      "cell_type": "markdown",
      "metadata": {
        "id": "mV4o3_Ldy11j"
      },
      "source": [
        "**5.1 Check for Missing Values**"
      ]
    },
    {
      "cell_type": "code",
      "execution_count": 51,
      "metadata": {
        "colab": {
          "base_uri": "https://localhost:8080/"
        },
        "outputId": "9301525e-6915-4a60-fedb-33c170cecddc",
        "id": "zKYSXszgy11j"
      },
      "outputs": [
        {
          "output_type": "execute_result",
          "data": {
            "text/plain": [
              "authorized_flag              0\n",
              "card_id                      0\n",
              "city_id                      0\n",
              "category_1                   0\n",
              "installments                 0\n",
              "category_3               55922\n",
              "merchant_category_id         0\n",
              "merchant_id              26216\n",
              "month_lag                    0\n",
              "purchase_amount              0\n",
              "purchase_date                0\n",
              "category_2              111745\n",
              "state_id                     0\n",
              "subsector_id                 0\n",
              "dtype: int64"
            ]
          },
          "metadata": {},
          "execution_count": 51
        }
      ],
      "source": [
        "(new_transactions.isnull()).sum()"
      ]
    },
    {
      "cell_type": "markdown",
      "source": [
        "Same categories as the historical transactions are missing in the new transactions."
      ],
      "metadata": {
        "id": "XhMz84Z5y9uj"
      }
    },
    {
      "cell_type": "code",
      "execution_count": 52,
      "metadata": {
        "colab": {
          "base_uri": "https://localhost:8080/"
        },
        "outputId": "2ec5d504-21d7-430e-c864-0ed4a0cd2064",
        "id": "wUGp-j5vy11k"
      },
      "outputs": [
        {
          "output_type": "stream",
          "name": "stdout",
          "text": [
            "The percentage of Nan values in category_3 is  2.8 percent\n",
            "The percentage of Nan values in merchant_id is  1.3 percent\n",
            "The percentage of Nan values in category_2 is  5.7 percent\n"
          ]
        }
      ],
      "source": [
        "k=['category_3','merchant_id','category_2']\n",
        "for k in new_transactions[k]:\n",
        "  print('The percentage of Nan values in {} is {:4.1f} percent'.format(k,new_transactions[k].isnull().sum() * 100 / len(new_transactions[k])))"
      ]
    },
    {
      "cell_type": "code",
      "execution_count": 53,
      "metadata": {
        "id": "UIpGEOxGy11k"
      },
      "outputs": [],
      "source": [
        "new_transactions['category_2'].fillna(1,inplace=True)# Replacing with most occured values\n",
        "new_transactions['category_3'].fillna('A',inplace=True)\n",
        "new_transactions['merchant_id'].fillna('M_ID_00a6ca8a8a',inplace=True)\n"
      ]
    },
    {
      "cell_type": "markdown",
      "metadata": {
        "id": "9oq7gL15y11l"
      },
      "source": [
        "**5.2 New Transaction info**"
      ]
    },
    {
      "cell_type": "code",
      "execution_count": 50,
      "metadata": {
        "colab": {
          "base_uri": "https://localhost:8080/"
        },
        "outputId": "ddb414ec-0edb-4d2d-ee39-46bc6171c61d",
        "id": "abukArify11h"
      },
      "outputs": [
        {
          "output_type": "stream",
          "name": "stdout",
          "text": [
            "<class 'pandas.core.frame.DataFrame'>\n",
            "RangeIndex: 1963031 entries, 0 to 1963030\n",
            "Data columns (total 14 columns):\n",
            " #   Column                Non-Null Count    Dtype  \n",
            "---  ------                --------------    -----  \n",
            " 0   authorized_flag       1963031 non-null  object \n",
            " 1   card_id               1963031 non-null  object \n",
            " 2   city_id               1963031 non-null  int16  \n",
            " 3   category_1            1963031 non-null  object \n",
            " 4   installments          1963031 non-null  int16  \n",
            " 5   category_3            1907109 non-null  object \n",
            " 6   merchant_category_id  1963031 non-null  int16  \n",
            " 7   merchant_id           1936815 non-null  object \n",
            " 8   month_lag             1963031 non-null  int8   \n",
            " 9   purchase_amount       1963031 non-null  float16\n",
            " 10  purchase_date         1963031 non-null  object \n",
            " 11  category_2            1851286 non-null  float16\n",
            " 12  state_id              1963031 non-null  int8   \n",
            " 13  subsector_id          1963031 non-null  int8   \n",
            "dtypes: float16(2), int16(3), int8(3), object(6)\n",
            "memory usage: 114.2+ MB\n"
          ]
        }
      ],
      "source": [
        "new_transactions.info(verbose=True, null_counts=True)"
      ]
    },
    {
      "cell_type": "markdown",
      "source": [
        "More or less the features between the old and new transactions are same and this is expected, but distributions could vary with time."
      ],
      "metadata": {
        "id": "tUo8IsEpzGsW"
      }
    },
    {
      "cell_type": "code",
      "execution_count": 54,
      "metadata": {
        "colab": {
          "base_uri": "https://localhost:8080/",
          "height": 392
        },
        "outputId": "395efdeb-deb7-437c-fc4d-33f076f0b229",
        "id": "4rtDuNJ3y11l"
      },
      "outputs": [
        {
          "output_type": "stream",
          "name": "stdout",
          "text": [
            " The number of rows is 29112361 and columns is 14 in the dataset \n",
            " The First five rows of the historical transaction is:\n"
          ]
        },
        {
          "output_type": "execute_result",
          "data": {
            "text/plain": [
              "  authorized_flag          card_id  city_id category_1  installments  \\\n",
              "0               Y  C_ID_415bb3a509      107          N             1   \n",
              "1               Y  C_ID_415bb3a509      140          N             1   \n",
              "2               Y  C_ID_415bb3a509      330          N             1   \n",
              "3               Y  C_ID_415bb3a509       -1          Y             1   \n",
              "4               Y  C_ID_ef55cf8d4b       -1          Y             1   \n",
              "\n",
              "  category_3  merchant_category_id      merchant_id  month_lag  \\\n",
              "0          B                   307  M_ID_b0c793002c          1   \n",
              "1          B                   307  M_ID_88920c89e8          1   \n",
              "2          B                   507  M_ID_ad5237ef6b          2   \n",
              "3          B                   661  M_ID_9e84cda3b1          1   \n",
              "4          B                   166  M_ID_3c86fa3831          1   \n",
              "\n",
              "   purchase_amount        purchase_date  category_2  state_id  subsector_id  \n",
              "0        -0.557617  2018-03-11 14:57:36         1.0         9            19  \n",
              "1        -0.569336  2018-03-19 18:53:37         1.0         9            19  \n",
              "2        -0.551270  2018-04-26 14:08:44         1.0         9            14  \n",
              "3        -0.671875  2018-03-07 09:43:21         1.0        -1             8  \n",
              "4        -0.659668  2018-03-22 21:07:53         1.0        -1            29  "
            ],
            "text/html": [
              "\n",
              "  <div id=\"df-316e3591-78b9-4408-943a-625ee54c1c2b\">\n",
              "    <div class=\"colab-df-container\">\n",
              "      <div>\n",
              "<style scoped>\n",
              "    .dataframe tbody tr th:only-of-type {\n",
              "        vertical-align: middle;\n",
              "    }\n",
              "\n",
              "    .dataframe tbody tr th {\n",
              "        vertical-align: top;\n",
              "    }\n",
              "\n",
              "    .dataframe thead th {\n",
              "        text-align: right;\n",
              "    }\n",
              "</style>\n",
              "<table border=\"1\" class=\"dataframe\">\n",
              "  <thead>\n",
              "    <tr style=\"text-align: right;\">\n",
              "      <th></th>\n",
              "      <th>authorized_flag</th>\n",
              "      <th>card_id</th>\n",
              "      <th>city_id</th>\n",
              "      <th>category_1</th>\n",
              "      <th>installments</th>\n",
              "      <th>category_3</th>\n",
              "      <th>merchant_category_id</th>\n",
              "      <th>merchant_id</th>\n",
              "      <th>month_lag</th>\n",
              "      <th>purchase_amount</th>\n",
              "      <th>purchase_date</th>\n",
              "      <th>category_2</th>\n",
              "      <th>state_id</th>\n",
              "      <th>subsector_id</th>\n",
              "    </tr>\n",
              "  </thead>\n",
              "  <tbody>\n",
              "    <tr>\n",
              "      <th>0</th>\n",
              "      <td>Y</td>\n",
              "      <td>C_ID_415bb3a509</td>\n",
              "      <td>107</td>\n",
              "      <td>N</td>\n",
              "      <td>1</td>\n",
              "      <td>B</td>\n",
              "      <td>307</td>\n",
              "      <td>M_ID_b0c793002c</td>\n",
              "      <td>1</td>\n",
              "      <td>-0.557617</td>\n",
              "      <td>2018-03-11 14:57:36</td>\n",
              "      <td>1.0</td>\n",
              "      <td>9</td>\n",
              "      <td>19</td>\n",
              "    </tr>\n",
              "    <tr>\n",
              "      <th>1</th>\n",
              "      <td>Y</td>\n",
              "      <td>C_ID_415bb3a509</td>\n",
              "      <td>140</td>\n",
              "      <td>N</td>\n",
              "      <td>1</td>\n",
              "      <td>B</td>\n",
              "      <td>307</td>\n",
              "      <td>M_ID_88920c89e8</td>\n",
              "      <td>1</td>\n",
              "      <td>-0.569336</td>\n",
              "      <td>2018-03-19 18:53:37</td>\n",
              "      <td>1.0</td>\n",
              "      <td>9</td>\n",
              "      <td>19</td>\n",
              "    </tr>\n",
              "    <tr>\n",
              "      <th>2</th>\n",
              "      <td>Y</td>\n",
              "      <td>C_ID_415bb3a509</td>\n",
              "      <td>330</td>\n",
              "      <td>N</td>\n",
              "      <td>1</td>\n",
              "      <td>B</td>\n",
              "      <td>507</td>\n",
              "      <td>M_ID_ad5237ef6b</td>\n",
              "      <td>2</td>\n",
              "      <td>-0.551270</td>\n",
              "      <td>2018-04-26 14:08:44</td>\n",
              "      <td>1.0</td>\n",
              "      <td>9</td>\n",
              "      <td>14</td>\n",
              "    </tr>\n",
              "    <tr>\n",
              "      <th>3</th>\n",
              "      <td>Y</td>\n",
              "      <td>C_ID_415bb3a509</td>\n",
              "      <td>-1</td>\n",
              "      <td>Y</td>\n",
              "      <td>1</td>\n",
              "      <td>B</td>\n",
              "      <td>661</td>\n",
              "      <td>M_ID_9e84cda3b1</td>\n",
              "      <td>1</td>\n",
              "      <td>-0.671875</td>\n",
              "      <td>2018-03-07 09:43:21</td>\n",
              "      <td>1.0</td>\n",
              "      <td>-1</td>\n",
              "      <td>8</td>\n",
              "    </tr>\n",
              "    <tr>\n",
              "      <th>4</th>\n",
              "      <td>Y</td>\n",
              "      <td>C_ID_ef55cf8d4b</td>\n",
              "      <td>-1</td>\n",
              "      <td>Y</td>\n",
              "      <td>1</td>\n",
              "      <td>B</td>\n",
              "      <td>166</td>\n",
              "      <td>M_ID_3c86fa3831</td>\n",
              "      <td>1</td>\n",
              "      <td>-0.659668</td>\n",
              "      <td>2018-03-22 21:07:53</td>\n",
              "      <td>1.0</td>\n",
              "      <td>-1</td>\n",
              "      <td>29</td>\n",
              "    </tr>\n",
              "  </tbody>\n",
              "</table>\n",
              "</div>\n",
              "      <button class=\"colab-df-convert\" onclick=\"convertToInteractive('df-316e3591-78b9-4408-943a-625ee54c1c2b')\"\n",
              "              title=\"Convert this dataframe to an interactive table.\"\n",
              "              style=\"display:none;\">\n",
              "        \n",
              "  <svg xmlns=\"http://www.w3.org/2000/svg\" height=\"24px\"viewBox=\"0 0 24 24\"\n",
              "       width=\"24px\">\n",
              "    <path d=\"M0 0h24v24H0V0z\" fill=\"none\"/>\n",
              "    <path d=\"M18.56 5.44l.94 2.06.94-2.06 2.06-.94-2.06-.94-.94-2.06-.94 2.06-2.06.94zm-11 1L8.5 8.5l.94-2.06 2.06-.94-2.06-.94L8.5 2.5l-.94 2.06-2.06.94zm10 10l.94 2.06.94-2.06 2.06-.94-2.06-.94-.94-2.06-.94 2.06-2.06.94z\"/><path d=\"M17.41 7.96l-1.37-1.37c-.4-.4-.92-.59-1.43-.59-.52 0-1.04.2-1.43.59L10.3 9.45l-7.72 7.72c-.78.78-.78 2.05 0 2.83L4 21.41c.39.39.9.59 1.41.59.51 0 1.02-.2 1.41-.59l7.78-7.78 2.81-2.81c.8-.78.8-2.07 0-2.86zM5.41 20L4 18.59l7.72-7.72 1.47 1.35L5.41 20z\"/>\n",
              "  </svg>\n",
              "      </button>\n",
              "      \n",
              "  <style>\n",
              "    .colab-df-container {\n",
              "      display:flex;\n",
              "      flex-wrap:wrap;\n",
              "      gap: 12px;\n",
              "    }\n",
              "\n",
              "    .colab-df-convert {\n",
              "      background-color: #E8F0FE;\n",
              "      border: none;\n",
              "      border-radius: 50%;\n",
              "      cursor: pointer;\n",
              "      display: none;\n",
              "      fill: #1967D2;\n",
              "      height: 32px;\n",
              "      padding: 0 0 0 0;\n",
              "      width: 32px;\n",
              "    }\n",
              "\n",
              "    .colab-df-convert:hover {\n",
              "      background-color: #E2EBFA;\n",
              "      box-shadow: 0px 1px 2px rgba(60, 64, 67, 0.3), 0px 1px 3px 1px rgba(60, 64, 67, 0.15);\n",
              "      fill: #174EA6;\n",
              "    }\n",
              "\n",
              "    [theme=dark] .colab-df-convert {\n",
              "      background-color: #3B4455;\n",
              "      fill: #D2E3FC;\n",
              "    }\n",
              "\n",
              "    [theme=dark] .colab-df-convert:hover {\n",
              "      background-color: #434B5C;\n",
              "      box-shadow: 0px 1px 3px 1px rgba(0, 0, 0, 0.15);\n",
              "      filter: drop-shadow(0px 1px 2px rgba(0, 0, 0, 0.3));\n",
              "      fill: #FFFFFF;\n",
              "    }\n",
              "  </style>\n",
              "\n",
              "      <script>\n",
              "        const buttonEl =\n",
              "          document.querySelector('#df-316e3591-78b9-4408-943a-625ee54c1c2b button.colab-df-convert');\n",
              "        buttonEl.style.display =\n",
              "          google.colab.kernel.accessAllowed ? 'block' : 'none';\n",
              "\n",
              "        async function convertToInteractive(key) {\n",
              "          const element = document.querySelector('#df-316e3591-78b9-4408-943a-625ee54c1c2b');\n",
              "          const dataTable =\n",
              "            await google.colab.kernel.invokeFunction('convertToInteractive',\n",
              "                                                     [key], {});\n",
              "          if (!dataTable) return;\n",
              "\n",
              "          const docLinkHtml = 'Like what you see? Visit the ' +\n",
              "            '<a target=\"_blank\" href=https://colab.research.google.com/notebooks/data_table.ipynb>data table notebook</a>'\n",
              "            + ' to learn more about interactive tables.';\n",
              "          element.innerHTML = '';\n",
              "          dataTable['output_type'] = 'display_data';\n",
              "          await google.colab.output.renderOutput(dataTable, element);\n",
              "          const docLink = document.createElement('div');\n",
              "          docLink.innerHTML = docLinkHtml;\n",
              "          element.appendChild(docLink);\n",
              "        }\n",
              "      </script>\n",
              "    </div>\n",
              "  </div>\n",
              "  "
            ]
          },
          "metadata": {},
          "execution_count": 54
        }
      ],
      "source": [
        "print(' The number of rows is {} and columns is {} in the dataset '.format(historical_transactions.shape[0],historical_transactions.shape[1]))\n",
        "print(' The First five rows of the historical transaction is:') \n",
        "new_transactions.head()"
      ]
    },
    {
      "cell_type": "markdown",
      "source": [
        "**5.3 Histogram Plot and Analyse for each individual feature**"
      ],
      "metadata": {
        "id": "0iThr3bw0KGY"
      }
    },
    {
      "cell_type": "code",
      "source": [
        "# converting purchase time string into datetime\n",
        "new_transactions['purchase_date'] = new_transactions['purchase_date'].apply(lambda x: datetime.strptime(x, '%Y-%m-%d %H:%M:%S'))"
      ],
      "metadata": {
        "id": "HEQLcCs70YQg"
      },
      "execution_count": 55,
      "outputs": []
    },
    {
      "cell_type": "code",
      "source": [
        "# plotting histograms for each column of filtered_new_trns\n",
        "filtered_new_trns = new_transactions.loc[new_transactions['purchase_amount'] < 1]\n",
        "cat_cols = ['authorized_flag', 'category_1', 'installments','category_3', 'month_lag','category_2', 'subsector_id']\n",
        "num_cols = ['purchase_amount', 'purchase_date', 'merchant_category_id', 'subsector_id']\n",
        "\n",
        "plt.figure(figsize=[15, 10])\n",
        "plt.suptitle('New Transactions info', y=1.02, fontsize=20)\n",
        "ncols = 4\n",
        "nrows = int(np.ceil((len(cat_cols) + len(num_cols))/4))\n",
        "last_ind = 0\n",
        "for col in sorted(list(filtered_new_trns.columns)):\n",
        "    #print('processing column ' + col)\n",
        "    if col in cat_cols:\n",
        "        last_ind += 1\n",
        "        plt.subplot(nrows, ncols, last_ind)\n",
        "        vc = filtered_new_trns[col].value_counts()\n",
        "        x = np.array(vc.index)\n",
        "        y = vc.values\n",
        "        inds = np.argsort(x)\n",
        "        x = x[inds].astype(str)\n",
        "        y = y[inds]\n",
        "        plt.bar(x, y, color=('brown'))\n",
        "        plt.title(col, fontsize=15)\n",
        "        plt.xticks(rotation=90)\n",
        "    if col in num_cols:\n",
        "        last_ind += 1\n",
        "        plt.subplot(nrows, ncols, last_ind)\n",
        "        filtered_new_trns[col].hist(bins = 50, color=('green'))\n",
        "        plt.title(col, fontsize=15)\n",
        "        plt.xticks(rotation=90)\n",
        "    plt.tight_layout()"
      ],
      "metadata": {
        "colab": {
          "base_uri": "https://localhost:8080/",
          "height": 754
        },
        "outputId": "ca2de9c0-4579-49fc-8071-dcd6d1cf82a2",
        "id": "GYx9PQsP0EA_"
      },
      "execution_count": 56,
      "outputs": [
        {
          "output_type": "display_data",
          "data": {
            "text/plain": [
              "<Figure size 1080x720 with 11 Axes>"
            ],
            "image/png": "[encoded data removed]"
          },
          "metadata": {
            "needs_background": "light"
          }
        }
      ]
    },
    {
      "cell_type": "markdown",
      "source": [
        "1. All of the transactions are authorized in the latest transactions info and hence we can drop this feature.\n",
        "2. Installments seem to have outliers or different values like -1 and 999, we can either remove them or replace them accordingly\n",
        "3. It seems that almost all transactions have purchase amount in range (-1, 0).quite a strong normalization and high outliers.\n",
        "4. Most of the purchase date for the cards seem to happen after 2018."
      ],
      "metadata": {
        "id": "usAi4cd60EBA"
      }
    },
    {
      "cell_type": "code",
      "source": [
        "# converting category_1, authorized_flag and category_3 values to numeric ones, so we can use then in scatter plots and correlation coefficients\n",
        "filtered_new_trns['category_3'].replace({'A':0, 'B':1, 'C':2}, inplace=True)\n",
        "filtered_new_trns['category_1'].replace({'N':0, 'Y':1}, inplace=True)\n",
        "filtered_new_trns['authorized_flag'].replace({'N':0, 'Y':1}, inplace=True)"
      ],
      "metadata": {
        "id": "xL3hQzEQ0EBB"
      },
      "execution_count": 57,
      "outputs": []
    },
    {
      "cell_type": "markdown",
      "source": [
        "**5.4 Correlations between columns in New Transactions**"
      ],
      "metadata": {
        "id": "ZREBHg3T0EBC"
      }
    },
    {
      "cell_type": "code",
      "source": [
        "# correlations between columns in  new transactions:\n",
        "corrs = np.abs(filtered_new_trns.corr())\n",
        "ordered_cols = (corrs).sum().sort_values().index\n",
        "np.fill_diagonal(corrs.values, 0)\n",
        "plt.figure(figsize=[10,10])\n",
        "plt.imshow(corrs.loc[ordered_cols, ordered_cols], vmin=0, vmax=1)\n",
        "plt.colorbar(shrink=0.7)\n",
        "plt.xticks(range(corrs.shape[0]), list(ordered_cols), rotation=90)\n",
        "plt.yticks(range(corrs.shape[0]), list(ordered_cols))\n",
        "plt.title('Heat map of coefficients of correlation between New Transactions features', fontsize=17)\n",
        "plt.show()"
      ],
      "metadata": {
        "colab": {
          "base_uri": "https://localhost:8080/",
          "height": 615
        },
        "outputId": "3b7de924-c0d7-4625-dd89-457e4c95481b",
        "id": "sVHnb_y50EBC"
      },
      "execution_count": 58,
      "outputs": [
        {
          "output_type": "display_data",
          "data": {
            "text/plain": [
              "<Figure size 720x720 with 2 Axes>"
            ],
            "image/png": "[encoded data removed]"
          },
          "metadata": {
            "needs_background": "light"
          }
        }
      ]
    },
    {
      "cell_type": "markdown",
      "source": [
        "1. A very high correlation is seen between Installments and Category 3 variables.\n",
        "2. State id and city id seem to have the highest correlated features among the features.\n",
        "3. Category 2 looks correlated with the state id and the city id."
      ],
      "metadata": {
        "id": "hrHI6Kvq0EBD"
      }
    },
    {
      "cell_type": "markdown",
      "metadata": {
        "id": "YiQqyW_t0EBD"
      },
      "source": [
        "**5.5 Ploting the sum of transaction amounts against the loyalty score**"
      ]
    },
    {
      "cell_type": "code",
      "execution_count": 68,
      "metadata": {
        "id": "MwCFHhRK0EBD"
      },
      "outputs": [],
      "source": [
        "gdf = new_transactions.groupby(\"card_id\")\n",
        "gdf = gdf[\"purchase_amount\"].agg(['sum', 'mean', 'std', 'min', 'max']).reset_index()\n",
        "gdf.columns = [\"card_id\", \"sum_hist_trans\", \"mean_hist_trans\", \"std_hist_trans\", \"min_hist_trans\", \"max_hist_trans\"]\n",
        "train_df = pd.merge(train, gdf, on=\"card_id\", how=\"left\")"
      ]
    },
    {
      "cell_type": "code",
      "source": [
        "bins = np.nanpercentile(train_df[\"sum_hist_trans\"], range(0,101,10))\n",
        "train_df['binned_sum_hist_trans'] = pd.cut(train_df['sum_hist_trans'], bins)\n",
        "\n",
        "plt.figure(figsize=(20,8))\n",
        "sns.boxplot(x=\"binned_sum_hist_trans\", y=train_df['target'], data=train_df, showfliers=False)\n",
        "#plt.xticks(rotation='vertical')\n",
        "plt.xlabel('Transaction ranges')\n",
        "plt.ylabel('Loyalty score')\n",
        "plt.title(\"Transaction sum ranges for each card plotted against loyalty scores\", fontsize = 20)\n",
        "plt.show()"
      ],
      "metadata": {
        "colab": {
          "base_uri": "https://localhost:8080/",
          "height": 518
        },
        "id": "qNX2XCU74y7Y",
        "outputId": "28c63679-a943-42ad-e8d0-de09afdb4139"
      },
      "execution_count": 70,
      "outputs": [
        {
          "output_type": "display_data",
          "data": {
            "text/plain": [
              "<Figure size 1440x576 with 1 Axes>"
            ],
            "image/png": "[encoded data removed]"
          },
          "metadata": {
            "needs_background": "light"
          }
        }
      ]
    },
    {
      "cell_type": "markdown",
      "source": [
        "1. Here as the sum of new merchant transactions is increasing the loyalty also seems to be increasing except the last bin.\n",
        "2. This could be because of the effect of the outliers on the last bin."
      ],
      "metadata": {
        "id": "8L2ie-mF5xCV"
      }
    },
    {
      "cell_type": "markdown",
      "source": [
        "### **6. Merchant Data exploration**"
      ],
      "metadata": {
        "id": "oAM-65g-2EJ7"
      }
    },
    {
      "cell_type": "markdown",
      "source": [
        "**6.1 Check for Missing Values**"
      ],
      "metadata": {
        "id": "cbWl0ibKwjIM"
      }
    },
    {
      "cell_type": "code",
      "source": [
        "(merchants.isnull()).sum()"
      ],
      "metadata": {
        "colab": {
          "base_uri": "https://localhost:8080/"
        },
        "id": "Jr-Rsvmz2Hiw",
        "outputId": "2383300a-d90a-4b3e-fe50-3db75404f180"
      },
      "execution_count": 76,
      "outputs": [
        {
          "output_type": "execute_result",
          "data": {
            "text/plain": [
              "merchant_id                        0\n",
              "merchant_group_id                  0\n",
              "merchant_category_id               0\n",
              "subsector_id                       0\n",
              "numerical_1                        0\n",
              "numerical_2                        0\n",
              "category_1                         0\n",
              "most_recent_sales_range            0\n",
              "most_recent_purchases_range        0\n",
              "avg_sales_lag3                    13\n",
              "avg_purchases_lag3                 0\n",
              "active_months_lag3                 0\n",
              "avg_sales_lag6                    13\n",
              "avg_purchases_lag6                 0\n",
              "active_months_lag6                 0\n",
              "avg_sales_lag12                   13\n",
              "avg_purchases_lag12                0\n",
              "active_months_lag12                0\n",
              "category_4                         0\n",
              "city_id                            0\n",
              "state_id                           0\n",
              "category_2                     11887\n",
              "dtype: int64"
            ]
          },
          "metadata": {},
          "execution_count": 76
        }
      ]
    },
    {
      "cell_type": "code",
      "source": [
        "merchants['avg_sales_lag3'].fillna(1,inplace=True)\n",
        "merchants['avg_sales_lag6'].fillna(1,inplace=True)\n",
        "merchants['avg_sales_lag12'].fillna(1,inplace=True)\n",
        "merchants['category_2'].fillna(1,inplace=True)"
      ],
      "metadata": {
        "id": "xQ48mZkz3D_F"
      },
      "execution_count": 77,
      "outputs": []
    },
    {
      "cell_type": "code",
      "source": [
        "merchants.dtypes"
      ],
      "metadata": {
        "colab": {
          "base_uri": "https://localhost:8080/"
        },
        "id": "q_VZ3Rlu3Nve",
        "outputId": "8576d740-5995-4730-cae1-bfd746b982b4"
      },
      "execution_count": 78,
      "outputs": [
        {
          "output_type": "execute_result",
          "data": {
            "text/plain": [
              "merchant_id                     object\n",
              "merchant_group_id                int32\n",
              "merchant_category_id             int16\n",
              "subsector_id                      int8\n",
              "numerical_1                    float16\n",
              "numerical_2                    float16\n",
              "category_1                      object\n",
              "most_recent_sales_range         object\n",
              "most_recent_purchases_range     object\n",
              "avg_sales_lag3                 float32\n",
              "avg_purchases_lag3             float64\n",
              "active_months_lag3                int8\n",
              "avg_sales_lag6                 float32\n",
              "avg_purchases_lag6             float64\n",
              "active_months_lag6                int8\n",
              "avg_sales_lag12                float32\n",
              "avg_purchases_lag12            float64\n",
              "active_months_lag12               int8\n",
              "category_4                      object\n",
              "city_id                          int16\n",
              "state_id                          int8\n",
              "category_2                     float16\n",
              "dtype: object"
            ]
          },
          "metadata": {},
          "execution_count": 78
        }
      ]
    },
    {
      "cell_type": "markdown",
      "source": [
        "**6.2 Merchants info**"
      ],
      "metadata": {
        "id": "p-d9nydn8pGZ"
      }
    },
    {
      "cell_type": "code",
      "execution_count": 79,
      "metadata": {
        "colab": {
          "base_uri": "https://localhost:8080/"
        },
        "outputId": "7a2ad268-28d1-423d-bbbe-56aac855bb85",
        "id": "PXMwHR1v8mpA"
      },
      "outputs": [
        {
          "output_type": "stream",
          "name": "stdout",
          "text": [
            "<class 'pandas.core.frame.DataFrame'>\n",
            "RangeIndex: 334696 entries, 0 to 334695\n",
            "Data columns (total 22 columns):\n",
            " #   Column                       Non-Null Count   Dtype  \n",
            "---  ------                       --------------   -----  \n",
            " 0   merchant_id                  334696 non-null  object \n",
            " 1   merchant_group_id            334696 non-null  int32  \n",
            " 2   merchant_category_id         334696 non-null  int16  \n",
            " 3   subsector_id                 334696 non-null  int8   \n",
            " 4   numerical_1                  334696 non-null  float16\n",
            " 5   numerical_2                  334696 non-null  float16\n",
            " 6   category_1                   334696 non-null  object \n",
            " 7   most_recent_sales_range      334696 non-null  object \n",
            " 8   most_recent_purchases_range  334696 non-null  object \n",
            " 9   avg_sales_lag3               334696 non-null  float32\n",
            " 10  avg_purchases_lag3           334696 non-null  float64\n",
            " 11  active_months_lag3           334696 non-null  int8   \n",
            " 12  avg_sales_lag6               334696 non-null  float32\n",
            " 13  avg_purchases_lag6           334696 non-null  float64\n",
            " 14  active_months_lag6           334696 non-null  int8   \n",
            " 15  avg_sales_lag12              334696 non-null  float32\n",
            " 16  avg_purchases_lag12          334696 non-null  float64\n",
            " 17  active_months_lag12          334696 non-null  int8   \n",
            " 18  category_4                   334696 non-null  object \n",
            " 19  city_id                      334696 non-null  int16  \n",
            " 20  state_id                     334696 non-null  int8   \n",
            " 21  category_2                   334696 non-null  float16\n",
            "dtypes: float16(3), float32(3), float64(3), int16(2), int32(1), int8(5), object(5)\n",
            "memory usage: 30.3+ MB\n"
          ]
        }
      ],
      "source": [
        "merchants.info(verbose=True, null_counts=True)"
      ]
    },
    {
      "cell_type": "code",
      "execution_count": 81,
      "metadata": {
        "colab": {
          "base_uri": "https://localhost:8080/",
          "height": 334
        },
        "outputId": "fee25067-3624-4029-81b0-8c0f0e058f99",
        "id": "seG8WGd98mpB"
      },
      "outputs": [
        {
          "output_type": "stream",
          "name": "stdout",
          "text": [
            " The number of rows is 334696 and columns is 22 in the dataset \n",
            " The First five rows of the historical transaction is:\n"
          ]
        },
        {
          "output_type": "execute_result",
          "data": {
            "text/plain": [
              "       merchant_id  merchant_group_id  merchant_category_id  subsector_id  \\\n",
              "0  M_ID_838061e48c               8353                   792             9   \n",
              "1  M_ID_9339d880ad               3184                   840            20   \n",
              "2  M_ID_e726bbae1e                447                   690             1   \n",
              "3  M_ID_a70e9c5f81               5026                   792             9   \n",
              "4  M_ID_64456c37ce               2228                   222            21   \n",
              "\n",
              "   numerical_1  numerical_2 category_1 most_recent_sales_range  \\\n",
              "0    -0.057465    -0.057465          N                       E   \n",
              "1    -0.057465    -0.057465          N                       E   \n",
              "2    -0.057465    -0.057465          N                       E   \n",
              "3    -0.057465    -0.057465          Y                       E   \n",
              "4    -0.057465    -0.057465          Y                       E   \n",
              "\n",
              "  most_recent_purchases_range  avg_sales_lag3  ...  avg_sales_lag6  \\\n",
              "0                           E       -0.400000  ...       -2.250000   \n",
              "1                           E       -0.720000  ...       -0.740000   \n",
              "2                           E      -82.129997  ...      -82.129997   \n",
              "3                           E        1.000000  ...        1.000000   \n",
              "4                           E        1.000000  ...        1.000000   \n",
              "\n",
              "   avg_purchases_lag6  active_months_lag6  avg_sales_lag12  \\\n",
              "0           18.666667                   6        -2.320000   \n",
              "1            1.291667                   6        -0.570000   \n",
              "2          260.000000                   2       -82.129997   \n",
              "3            4.666667                   6         1.000000   \n",
              "4            0.361111                   6         1.000000   \n",
              "\n",
              "   avg_purchases_lag12  active_months_lag12  category_4  city_id state_id  \\\n",
              "0            13.916667                   12           N      242        9   \n",
              "1             1.687500                   12           N       22       16   \n",
              "2           260.000000                    2           N       -1        5   \n",
              "3             3.833333                   12           Y       -1       -1   \n",
              "4             0.347222                   12           Y       -1       -1   \n",
              "\n",
              "   category_2  \n",
              "0         1.0  \n",
              "1         1.0  \n",
              "2         5.0  \n",
              "3         1.0  \n",
              "4         1.0  \n",
              "\n",
              "[5 rows x 22 columns]"
            ],
            "text/html": [
              "\n",
              "  <div id=\"df-dbb3ae6f-7bf7-460e-bc29-31d8074cb3cf\">\n",
              "    <div class=\"colab-df-container\">\n",
              "      <div>\n",
              "<style scoped>\n",
              "    .dataframe tbody tr th:only-of-type {\n",
              "        vertical-align: middle;\n",
              "    }\n",
              "\n",
              "    .dataframe tbody tr th {\n",
              "        vertical-align: top;\n",
              "    }\n",
              "\n",
              "    .dataframe thead th {\n",
              "        text-align: right;\n",
              "    }\n",
              "</style>\n",
              "<table border=\"1\" class=\"dataframe\">\n",
              "  <thead>\n",
              "    <tr style=\"text-align: right;\">\n",
              "      <th></th>\n",
              "      <th>merchant_id</th>\n",
              "      <th>merchant_group_id</th>\n",
              "      <th>merchant_category_id</th>\n",
              "      <th>subsector_id</th>\n",
              "      <th>numerical_1</th>\n",
              "      <th>numerical_2</th>\n",
              "      <th>category_1</th>\n",
              "      <th>most_recent_sales_range</th>\n",
              "      <th>most_recent_purchases_range</th>\n",
              "      <th>avg_sales_lag3</th>\n",
              "      <th>...</th>\n",
              "      <th>avg_sales_lag6</th>\n",
              "      <th>avg_purchases_lag6</th>\n",
              "      <th>active_months_lag6</th>\n",
              "      <th>avg_sales_lag12</th>\n",
              "      <th>avg_purchases_lag12</th>\n",
              "      <th>active_months_lag12</th>\n",
              "      <th>category_4</th>\n",
              "      <th>city_id</th>\n",
              "      <th>state_id</th>\n",
              "      <th>category_2</th>\n",
              "    </tr>\n",
              "  </thead>\n",
              "  <tbody>\n",
              "    <tr>\n",
              "      <th>0</th>\n",
              "      <td>M_ID_838061e48c</td>\n",
              "      <td>8353</td>\n",
              "      <td>792</td>\n",
              "      <td>9</td>\n",
              "      <td>-0.057465</td>\n",
              "      <td>-0.057465</td>\n",
              "      <td>N</td>\n",
              "      <td>E</td>\n",
              "      <td>E</td>\n",
              "      <td>-0.400000</td>\n",
              "      <td>...</td>\n",
              "      <td>-2.250000</td>\n",
              "      <td>18.666667</td>\n",
              "      <td>6</td>\n",
              "      <td>-2.320000</td>\n",
              "      <td>13.916667</td>\n",
              "      <td>12</td>\n",
              "      <td>N</td>\n",
              "      <td>242</td>\n",
              "      <td>9</td>\n",
              "      <td>1.0</td>\n",
              "    </tr>\n",
              "    <tr>\n",
              "      <th>1</th>\n",
              "      <td>M_ID_9339d880ad</td>\n",
              "      <td>3184</td>\n",
              "      <td>840</td>\n",
              "      <td>20</td>\n",
              "      <td>-0.057465</td>\n",
              "      <td>-0.057465</td>\n",
              "      <td>N</td>\n",
              "      <td>E</td>\n",
              "      <td>E</td>\n",
              "      <td>-0.720000</td>\n",
              "      <td>...</td>\n",
              "      <td>-0.740000</td>\n",
              "      <td>1.291667</td>\n",
              "      <td>6</td>\n",
              "      <td>-0.570000</td>\n",
              "      <td>1.687500</td>\n",
              "      <td>12</td>\n",
              "      <td>N</td>\n",
              "      <td>22</td>\n",
              "      <td>16</td>\n",
              "      <td>1.0</td>\n",
              "    </tr>\n",
              "    <tr>\n",
              "      <th>2</th>\n",
              "      <td>M_ID_e726bbae1e</td>\n",
              "      <td>447</td>\n",
              "      <td>690</td>\n",
              "      <td>1</td>\n",
              "      <td>-0.057465</td>\n",
              "      <td>-0.057465</td>\n",
              "      <td>N</td>\n",
              "      <td>E</td>\n",
              "      <td>E</td>\n",
              "      <td>-82.129997</td>\n",
              "      <td>...</td>\n",
              "      <td>-82.129997</td>\n",
              "      <td>260.000000</td>\n",
              "      <td>2</td>\n",
              "      <td>-82.129997</td>\n",
              "      <td>260.000000</td>\n",
              "      <td>2</td>\n",
              "      <td>N</td>\n",
              "      <td>-1</td>\n",
              "      <td>5</td>\n",
              "      <td>5.0</td>\n",
              "    </tr>\n",
              "    <tr>\n",
              "      <th>3</th>\n",
              "      <td>M_ID_a70e9c5f81</td>\n",
              "      <td>5026</td>\n",
              "      <td>792</td>\n",
              "      <td>9</td>\n",
              "      <td>-0.057465</td>\n",
              "      <td>-0.057465</td>\n",
              "      <td>Y</td>\n",
              "      <td>E</td>\n",
              "      <td>E</td>\n",
              "      <td>1.000000</td>\n",
              "      <td>...</td>\n",
              "      <td>1.000000</td>\n",
              "      <td>4.666667</td>\n",
              "      <td>6</td>\n",
              "      <td>1.000000</td>\n",
              "      <td>3.833333</td>\n",
              "      <td>12</td>\n",
              "      <td>Y</td>\n",
              "      <td>-1</td>\n",
              "      <td>-1</td>\n",
              "      <td>1.0</td>\n",
              "    </tr>\n",
              "    <tr>\n",
              "      <th>4</th>\n",
              "      <td>M_ID_64456c37ce</td>\n",
              "      <td>2228</td>\n",
              "      <td>222</td>\n",
              "      <td>21</td>\n",
              "      <td>-0.057465</td>\n",
              "      <td>-0.057465</td>\n",
              "      <td>Y</td>\n",
              "      <td>E</td>\n",
              "      <td>E</td>\n",
              "      <td>1.000000</td>\n",
              "      <td>...</td>\n",
              "      <td>1.000000</td>\n",
              "      <td>0.361111</td>\n",
              "      <td>6</td>\n",
              "      <td>1.000000</td>\n",
              "      <td>0.347222</td>\n",
              "      <td>12</td>\n",
              "      <td>Y</td>\n",
              "      <td>-1</td>\n",
              "      <td>-1</td>\n",
              "      <td>1.0</td>\n",
              "    </tr>\n",
              "  </tbody>\n",
              "</table>\n",
              "<p>5 rows × 22 columns</p>\n",
              "</div>\n",
              "      <button class=\"colab-df-convert\" onclick=\"convertToInteractive('df-dbb3ae6f-7bf7-460e-bc29-31d8074cb3cf')\"\n",
              "              title=\"Convert this dataframe to an interactive table.\"\n",
              "              style=\"display:none;\">\n",
              "        \n",
              "  <svg xmlns=\"http://www.w3.org/2000/svg\" height=\"24px\"viewBox=\"0 0 24 24\"\n",
              "       width=\"24px\">\n",
              "    <path d=\"M0 0h24v24H0V0z\" fill=\"none\"/>\n",
              "    <path d=\"M18.56 5.44l.94 2.06.94-2.06 2.06-.94-2.06-.94-.94-2.06-.94 2.06-2.06.94zm-11 1L8.5 8.5l.94-2.06 2.06-.94-2.06-.94L8.5 2.5l-.94 2.06-2.06.94zm10 10l.94 2.06.94-2.06 2.06-.94-2.06-.94-.94-2.06-.94 2.06-2.06.94z\"/><path d=\"M17.41 7.96l-1.37-1.37c-.4-.4-.92-.59-1.43-.59-.52 0-1.04.2-1.43.59L10.3 9.45l-7.72 7.72c-.78.78-.78 2.05 0 2.83L4 21.41c.39.39.9.59 1.41.59.51 0 1.02-.2 1.41-.59l7.78-7.78 2.81-2.81c.8-.78.8-2.07 0-2.86zM5.41 20L4 18.59l7.72-7.72 1.47 1.35L5.41 20z\"/>\n",
              "  </svg>\n",
              "      </button>\n",
              "      \n",
              "  <style>\n",
              "    .colab-df-container {\n",
              "      display:flex;\n",
              "      flex-wrap:wrap;\n",
              "      gap: 12px;\n",
              "    }\n",
              "\n",
              "    .colab-df-convert {\n",
              "      background-color: #E8F0FE;\n",
              "      border: none;\n",
              "      border-radius: 50%;\n",
              "      cursor: pointer;\n",
              "      display: none;\n",
              "      fill: #1967D2;\n",
              "      height: 32px;\n",
              "      padding: 0 0 0 0;\n",
              "      width: 32px;\n",
              "    }\n",
              "\n",
              "    .colab-df-convert:hover {\n",
              "      background-color: #E2EBFA;\n",
              "      box-shadow: 0px 1px 2px rgba(60, 64, 67, 0.3), 0px 1px 3px 1px rgba(60, 64, 67, 0.15);\n",
              "      fill: #174EA6;\n",
              "    }\n",
              "\n",
              "    [theme=dark] .colab-df-convert {\n",
              "      background-color: #3B4455;\n",
              "      fill: #D2E3FC;\n",
              "    }\n",
              "\n",
              "    [theme=dark] .colab-df-convert:hover {\n",
              "      background-color: #434B5C;\n",
              "      box-shadow: 0px 1px 3px 1px rgba(0, 0, 0, 0.15);\n",
              "      filter: drop-shadow(0px 1px 2px rgba(0, 0, 0, 0.3));\n",
              "      fill: #FFFFFF;\n",
              "    }\n",
              "  </style>\n",
              "\n",
              "      <script>\n",
              "        const buttonEl =\n",
              "          document.querySelector('#df-dbb3ae6f-7bf7-460e-bc29-31d8074cb3cf button.colab-df-convert');\n",
              "        buttonEl.style.display =\n",
              "          google.colab.kernel.accessAllowed ? 'block' : 'none';\n",
              "\n",
              "        async function convertToInteractive(key) {\n",
              "          const element = document.querySelector('#df-dbb3ae6f-7bf7-460e-bc29-31d8074cb3cf');\n",
              "          const dataTable =\n",
              "            await google.colab.kernel.invokeFunction('convertToInteractive',\n",
              "                                                     [key], {});\n",
              "          if (!dataTable) return;\n",
              "\n",
              "          const docLinkHtml = 'Like what you see? Visit the ' +\n",
              "            '<a target=\"_blank\" href=https://colab.research.google.com/notebooks/data_table.ipynb>data table notebook</a>'\n",
              "            + ' to learn more about interactive tables.';\n",
              "          element.innerHTML = '';\n",
              "          dataTable['output_type'] = 'display_data';\n",
              "          await google.colab.output.renderOutput(dataTable, element);\n",
              "          const docLink = document.createElement('div');\n",
              "          docLink.innerHTML = docLinkHtml;\n",
              "          element.appendChild(docLink);\n",
              "        }\n",
              "      </script>\n",
              "    </div>\n",
              "  </div>\n",
              "  "
            ]
          },
          "metadata": {},
          "execution_count": 81
        }
      ],
      "source": [
        "print(' The number of rows is {} and columns is {} in the dataset '.format(merchants.shape[0],merchants.shape[1]))\n",
        "print(' The First five rows of the historical transaction is:') \n",
        "merchants.head()"
      ]
    },
    {
      "cell_type": "markdown",
      "source": [
        "**6.3 Histogram Plot and Analyse for each individual feature**"
      ],
      "metadata": {
        "id": "SNOvKTSX8mpC"
      }
    },
    {
      "cell_type": "code",
      "source": [
        "# Several columns in merchants.csv have outliers that squeeze most of the data into one bin. Let's fix that by removing those outliers:\n",
        "clean_merchants = merchants.loc[(merchants['numerical_1'] < 0.1) &\n",
        "                               (merchants['numerical_2'] < 0.1) &\n",
        "                               (merchants['avg_sales_lag3'] < 5) &\n",
        "                               (merchants['avg_purchases_lag3'] < 5) &\n",
        "                               (merchants['avg_sales_lag6'] < 10) &\n",
        "                               (merchants['avg_purchases_lag6'] < 10) &\n",
        "                               (merchants['avg_sales_lag12'] < 10) &\n",
        "                               (merchants['avg_purchases_lag12'] < 10)]"
      ],
      "metadata": {
        "id": "LKrSlZxt4n_V"
      },
      "execution_count": 82,
      "outputs": []
    },
    {
      "cell_type": "code",
      "source": [
        "category_columns = ['active_months_lag6','active_months_lag3','most_recent_sales_range', 'most_recent_purchases_range','category_1','active_months_lag12','category_4', 'category_2']\n",
        "numeral_columns = ['numerical_1', 'numerical_2','merchant_group_id','merchant_category_id','avg_sales_lag3', 'avg_purchases_lag3', 'subsector_id', 'avg_sales_lag6', 'avg_purchases_lag6', 'avg_sales_lag12', 'avg_purchases_lag12']\n",
        "\n",
        "plt.figure(figsize=[15, 15])\n",
        "plt.suptitle('Histograms of Merchant data', y=1.02, fontsize=20)\n",
        "number_of_columns = 4\n",
        "number_of_rows = int(np.ceil((len(category_columns) + len(numeral_columns))/4))\n",
        "last_index = 0\n",
        "for col in sorted(list(clean_merchants.columns)):\n",
        "    #print('processing column ' + col)\n",
        "    if col in category_columns:\n",
        "        last_index += 1\n",
        "        plt.subplot(number_of_rows, number_of_columns, last_index)\n",
        "        value_count = clean_merchants[col].value_counts()\n",
        "        x = np.array(value_count.index)\n",
        "        y = value_count.values\n",
        "        indexes = np.argsort(x)\n",
        "        x = x[indexes].astype(str)\n",
        "        y = y[indexes]\n",
        "        plt.bar(x, y, color=('green'))\n",
        "        plt.title(col, fontsize=15)\n",
        "        plt.xticks(rotation=90)\n",
        "    if col in numeral_columns:\n",
        "        last_index += 1\n",
        "        plt.subplot(number_of_rows, number_of_columns, last_index)\n",
        "        clean_merchants[col].hist(bins = 50, color=('brown'))\n",
        "        plt.title(col, fontsize=15)\n",
        "        plt.xticks(rotation=90)\n",
        "    plt.tight_layout()"
      ],
      "metadata": {
        "colab": {
          "base_uri": "https://localhost:8080/",
          "height": 1000
        },
        "id": "AIYSyQOy3Ux0",
        "outputId": "0f42261f-104a-4993-8e23-059dfde047da"
      },
      "execution_count": 83,
      "outputs": [
        {
          "output_type": "display_data",
          "data": {
            "text/plain": [
              "<Figure size 1080x1080 with 19 Axes>"
            ],
            "image/png": "[encoded data removed]"
          },
          "metadata": {
            "needs_background": "light"
          }
        }
      ]
    },
    {
      "cell_type": "markdown",
      "source": [
        "1. Numerical 1 and 2 are discrete values and both are look similarly distributed.\n"
      ],
      "metadata": {
        "id": "1e_Gruj-5hU3"
      }
    },
    {
      "cell_type": "markdown",
      "source": [
        "**6.4 Correlations between columns in Merchants**"
      ],
      "metadata": {
        "id": "-IoTWsf6AE6Y"
      }
    },
    {
      "cell_type": "code",
      "source": [
        "clean_merchants['most_recent_purchases_range'].replace({'A':4, 'B':3, 'C':2, 'D':1, 'E':0}, inplace=True)\n",
        "clean_merchants['most_recent_sales_range'].replace({'A':4, 'B':3, 'C':2, 'D':1, 'E':0}, inplace=True)\n",
        "clean_merchants['category_1'].replace({'N':0, 'Y':1}, inplace=True)"
      ],
      "metadata": {
        "id": "ANxPiOtz3p7d"
      },
      "execution_count": 84,
      "outputs": []
    },
    {
      "cell_type": "code",
      "source": [
        "corrs = np.abs(clean_merchants.corr())\n",
        "ordered_cols = (corrs).sum().sort_values().index\n",
        "np.fill_diagonal(corrs.values, 0)\n",
        "plt.figure(figsize=[10,10])\n",
        "plt.imshow(corrs.loc[ordered_cols, ordered_cols], vmin=0, vmax=1)\n",
        "plt.colorbar(shrink=0.7)\n",
        "plt.xticks(range(corrs.shape[0]), list(ordered_cols), rotation=90)\n",
        "plt.yticks(range(corrs.shape[0]), list(ordered_cols))\n",
        "plt.title('Heat map of coefficients of correlation between merchant\\'s features', fontsize=17)\n",
        "plt.show()"
      ],
      "metadata": {
        "colab": {
          "base_uri": "https://localhost:8080/",
          "height": 656
        },
        "id": "bzOXYF209IOw",
        "outputId": "db5bcfb9-f429-4bcb-f08e-2967ea7c9dd2"
      },
      "execution_count": 85,
      "outputs": [
        {
          "output_type": "display_data",
          "data": {
            "text/plain": [
              "<Figure size 720x720 with 2 Axes>"
            ],
            "image/png": "[encoded data removed]"
          },
          "metadata": {
            "needs_background": "light"
          }
        }
      ]
    },
    {
      "cell_type": "markdown",
      "source": [
        "1. Lot of highly correlated features between numbericals and sales columns.\n",
        "2. numerical_1 and numerical_2 are highly correlated.\n",
        "3. Avg_sales and avg_purchases within the last 3, 6, and 12 months are highly correlated\n",
        "4. category_1 is may be correlated with the merchant's city_id and merchant's state_id."
      ],
      "metadata": {
        "id": "Eg04aDbe_UF6"
      }
    },
    {
      "cell_type": "markdown",
      "source": [
        "**6.5 Avergage sales and number of purchases**"
      ],
      "metadata": {
        "id": "J-m5nc7C-grl"
      }
    },
    {
      "cell_type": "code",
      "source": [
        "x = np.array([12, 6, 3]).astype(str)\n",
        "sales_rates = clean_merchants[['avg_sales_lag3', 'avg_sales_lag6', 'avg_sales_lag12']].mean().values\n",
        "purchase_rates = clean_merchants[['avg_purchases_lag3', 'avg_purchases_lag6', 'avg_purchases_lag12']].mean().values\n",
        "plt.bar(x, sales_rates, width=0.3, align='edge', label='average sales',color='green', edgecolor=[0.2]*3)\n",
        "plt.bar(x, purchase_rates, width=-0.3, align='edge', label='average purchases',color='teal',  edgecolor=[0.2]*3)\n",
        "plt.legend()\n",
        "plt.title('Avergage sales and number of purchases\\nover the last 12, 6, and 3 months', fontsize=17)\n",
        "plt.show()"
      ],
      "metadata": {
        "colab": {
          "base_uri": "https://localhost:8080/",
          "height": 306
        },
        "id": "9ZFp8G1w9PX4",
        "outputId": "72770960-1622-4cf7-8206-f475dd224441"
      },
      "execution_count": 89,
      "outputs": [
        {
          "output_type": "display_data",
          "data": {
            "text/plain": [
              "<Figure size 432x288 with 1 Axes>"
            ],
            "image/png": "[encoded data removed]"
          },
          "metadata": {
            "needs_background": "light"
          }
        }
      ]
    },
    {
      "cell_type": "markdown",
      "source": [
        "1. The last 3 months seems to be good with regards to sales and purchases.\n",
        "2. We can drop the Average sales of 3 months and 6 months as these are the truncated versions of the Average sales of 12 months"
      ],
      "metadata": {
        "id": "SwgJg-nT92KN"
      }
    },
    {
      "cell_type": "markdown",
      "source": [
        "**6.6 Duplicates Check and Drop**"
      ],
      "metadata": {
        "id": "R5EHOuZrGSJx"
      }
    },
    {
      "cell_type": "code",
      "source": [
        "clean_merchants = clean_merchants.drop_duplicates()\n",
        "print('Number of duplicates in merchants.csv using all features:',clean_merchants.shape[0]-clean_merchants.shape[0])"
      ],
      "metadata": {
        "colab": {
          "base_uri": "https://localhost:8080/"
        },
        "id": "WTWEAxXv9Tdp",
        "outputId": "7f623bc8-0dfc-4820-8dac-e1f72c846f20"
      },
      "execution_count": 93,
      "outputs": [
        {
          "output_type": "stream",
          "name": "stdout",
          "text": [
            "Number of duplicates in merchants.csv using all features: 0\n"
          ]
        }
      ]
    },
    {
      "cell_type": "markdown",
      "source": [
        "###**7. Exploring Common card_id's between datasets**"
      ],
      "metadata": {
        "id": "7U-nX76WGxDa"
      }
    },
    {
      "cell_type": "code",
      "source": [
        "def isin(a,b):\n",
        "    From = pd.DataFrame(a)\n",
        "    To = pd.DataFrame(b)\n",
        "    return(np.mean(From[0].isin(To[0]))*100)"
      ],
      "metadata": {
        "id": "TV4Rmt_WG7m5"
      },
      "execution_count": 92,
      "outputs": []
    },
    {
      "cell_type": "markdown",
      "source": [
        "**Train vs rest**"
      ],
      "metadata": {
        "id": "i5Gut-_AG_1N"
      }
    },
    {
      "cell_type": "code",
      "source": [
        "print(isin(train[\"card_id\"].unique(),test[\"card_id\"].unique()), '% of unique credit cards from train in test')\n",
        "print(isin(train[\"card_id\"].unique(),filtered_trns_history[\"card_id\"].unique()), '% of unique credit cards from train in historical_transactions')\n",
        "print(isin(train[\"card_id\"].unique(),filtered_new_trns[\"card_id\"].unique()), '% of unique credit cards from train in new_merchant_transactions')"
      ],
      "metadata": {
        "colab": {
          "base_uri": "https://localhost:8080/"
        },
        "id": "gY6q9qj3G-XQ",
        "outputId": "839781dc-c146-4a29-a365-e11156d57535"
      },
      "execution_count": 94,
      "outputs": [
        {
          "output_type": "stream",
          "name": "stdout",
          "text": [
            "0.0 % of unique credit cards from train in test\n",
            "99.98860918100011 % of unique credit cards from train in historical_transactions\n",
            "88.64137244511359 % of unique credit cards from train in new_merchant_transactions\n"
          ]
        }
      ]
    },
    {
      "cell_type": "markdown",
      "source": [
        "**Test vs rest**"
      ],
      "metadata": {
        "id": "ow8pnNYUHt9C"
      }
    },
    {
      "cell_type": "code",
      "source": [
        "print(isin(test[\"card_id\"].unique(),train[\"card_id\"].unique()), '% of unique credit cards from test in train')\n",
        "print(isin(test[\"card_id\"].unique(),filtered_trns_history[\"card_id\"].unique()), '% of unique credit cards from test in historical_transactions')\n",
        "print(isin(test[\"card_id\"].unique(),filtered_new_trns[\"card_id\"].unique()), '% of unique credit cards from test in new_merchant_transactions')"
      ],
      "metadata": {
        "colab": {
          "base_uri": "https://localhost:8080/"
        },
        "id": "q4vhhdQRHsVP",
        "outputId": "f3af04b9-071c-4e90-de19-4f42f2b5703e"
      },
      "execution_count": 95,
      "outputs": [
        {
          "output_type": "stream",
          "name": "stdout",
          "text": [
            "0.0 % of unique credit cards from test in train\n",
            "99.98705742458928 % of unique credit cards from test in historical_transactions\n",
            "88.47220986386029 % of unique credit cards from test in new_merchant_transactions\n"
          ]
        }
      ]
    },
    {
      "cell_type": "markdown",
      "source": [
        "**Historical Transactions vs rest**"
      ],
      "metadata": {
        "id": "Cpf62atEIAlP"
      }
    },
    {
      "cell_type": "code",
      "source": [
        "print(isin(filtered_trns_history[\"card_id\"].unique(),filtered_new_trns[\"card_id\"].unique()), '% of unique credit cards from historical_transactions in new_merchant_transactions')\n",
        "print(isin(filtered_trns_history[\"merchant_id\"].unique(),clean_merchants[\"merchant_id\"].unique()), '% of unique merchants from historical_transactions in merchants')"
      ],
      "metadata": {
        "colab": {
          "base_uri": "https://localhost:8080/"
        },
        "id": "FlrXRMl-H8ao",
        "outputId": "e5ec77bf-482f-4bef-ba4b-3ef0198259dc"
      },
      "execution_count": 97,
      "outputs": [
        {
          "output_type": "stream",
          "name": "stdout",
          "text": [
            "88.58375243086812 % of unique credit cards from historical_transactions in new_merchant_transactions\n",
            "91.8928693974831 % of unique merchants from historical_transactions in merchants\n"
          ]
        }
      ]
    },
    {
      "cell_type": "markdown",
      "source": [
        "***Refernces***\n",
        "\n",
        "https://www.kaggle.com/code/batalov/making-sense-of-elo-data-eda/notebook\n",
        "https://www.kaggle.com/code/roydatascience/elo-stack-with-goss-boosting/notebook\n",
        "https://www.kaggle.com/code/kundnjha/make-sense-out-of-nonsense-elo-eda"
      ],
      "metadata": {
        "id": "PaS4boatIkLu"
      }
    },
    {
      "cell_type": "code",
      "source": [],
      "metadata": {
        "id": "SCIWqahWIrEQ"
      },
      "execution_count": null,
      "outputs": []
    },
    {
      "cell_type": "code",
      "source": [],
      "metadata": {
        "id": "m4PEAmRAIUin"
      },
      "execution_count": null,
      "outputs": []
    }
  ],
  "metadata": {
    "accelerator": "GPU",
    "colab": {
      "collapsed_sections": [],
      "machine_shape": "hm",
      "provenance": []
    },
    "gpuClass": "standard",
    "kernelspec": {
      "display_name": "Python 3",
      "name": "python3"
    },
    "language_info": {
      "name": "python"
    }
  },
  "nbformat": 4,
  "nbformat_minor": 0
}